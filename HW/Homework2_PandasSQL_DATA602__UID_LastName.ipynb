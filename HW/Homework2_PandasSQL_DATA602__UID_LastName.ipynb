{
 "cells": [
  {
   "cell_type": "markdown",
   "metadata": {
    "id": "FwALoygGD617"
   },
   "source": [
    "# **HOMEWORK 2: PANDAS and SQL (TOTAL 80)**\n",
    "## **DUE: *SEPTEMBER 26, 2024 @ 11:59 PM***\n",
    "\n",
    "---------------------\n",
    "#### **DATASET DESCRIPTION**\n",
    "\n",
    "The [NCEI/WDS Global Significant Volcanic Eruptions Database](https://www.ncei.noaa.gov/access/metadata/landing-page/bin/iso?id=gov.noaa.ngdc.mgg.hazards:G10147) is a very comprehensive collection of +600 volcanic eruptions dating from 4360 BC to the present. Due to the nature of this assignment, we will be dealing with relatively newer volcanoes (in which some are still obviously still older than anyone on Earth currently). Each eruption in the database is classified as significant if it meets one or more criteria, such as causing fatalities, incurring **damage on property** (**+$1 million**), reaching a **Volcanic Explosivity Index (VEI)** of **6 or higher**, generating a tsunami, or being linked to a significant earthquake. The VEI is a scale that measures the explosiveness of volcanic eruptions, providing insight into the magnitude and potential consequences of the eruptions. The database includes detailed information on the location, type of volcano, last known eruption, VEI, casualties, property damage, and much more.\n",
    "![volcano](https://wikitravel.org/upload/shared//9/99/Volcano_de_Fuego_Banner.jpg)\n",
    "\n",
    "#### **Objective of the Assignment:**\n",
    "\n",
    "\n",
    "We will proceed directly to exploring these volcanic datasets, with the aim of enhancing our proficiency in Pandas and SQL.\n",
    "\n",
    "For your reference, the [Pandas Documentation](https://pandas.pydata.org/docs/user_guide/index.html) will be an invaluable resource. Additionally, we have provided several helpful links to assist you throughout this process. Please proceed with caution to avoid any potential pitf\n",
    "\n",
    "---------------------"
   ]
  },
  {
   "cell_type": "markdown",
   "metadata": {
    "id": "4sQEC_lpHYdq"
   },
   "source": [
    "### **DO NOT REMOVE ANY PART OF ANY OF THE QUESTIONS OR YOU LOSE CREDIT**\n",
    "### *No Hardcoding either*  \n",
    "### **REMEMBER TO SHOW ALL CODE OUTPUT (NO CREDIT OTHERWISE)**"
   ]
  },
  {
   "cell_type": "markdown",
   "metadata": {
    "id": "HrD3qZmJUp6C"
   },
   "source": [
    "### **Part 1: Maintenance  (25 POINTS TOTAL)**\n",
    "\n",
    "First, in this section, we will focus on the initial steps of the process.\n",
    "\n",
    "As is standard practice in Python programming, it is best to import necessary modules at the beginning of your script before writing any additional code. This approach ensures that all required libraries are available from the start."
   ]
  },
  {
   "cell_type": "code",
   "execution_count": null,
   "metadata": {
    "id": "CruzvUOrKEoZ"
   },
   "outputs": [],
   "source": [
    "# Make sure these code blocks run properly and that you have properly installed the appropriate modules required.\n",
    "import pandas as pd\n",
    "import requests\n",
    "# import other libraries here\n",
    "\n",
    "# Don't remove this\n",
    "pd.set_option('display.max_rows', None)\n",
    "pd.set_option('display.max_columns', None)"
   ]
  },
  {
   "cell_type": "markdown",
   "metadata": {
    "id": "7nWwbZ4jK5Wi"
   },
   "source": [
    "As you may have noticed, there is an additional library, apart from Pandas, called \"[requests](https://requests.readthedocs.io/en/latest/).\"\n",
    "\n",
    "**The requests library enables you to send HTTP requests to a server, retrieve content, and process it with ease.**  It is particularly user-friendly for beginners venturing into web scraping, which is crucial for collecting and constructing datasets. Additionally, we recommend exploring [BeautifulSoup](https://beautiful-soup-4.readthedocs.io/en/latest/), , a complementary library that can be used alongside requests for more efficient web scraping.\n",
    "\n",
    "* As shown below, sometimes specific websites require specific headers in order to process a request to access the data.\n",
    "\n",
    "* To check if a request was processed successfully, use the [status_code](https://requests.readthedocs.io/en/latest/api/) function to see if the process returned 200."
   ]
  },
  {
   "cell_type": "code",
   "execution_count": null,
   "metadata": {
    "id": "MMxyFjVrKKvG"
   },
   "outputs": [],
   "source": [
    "# API URL and headers in case request gets denied.\n",
    "api_url = \"https://www.ngdc.noaa.gov/hazel/hazard-service/api/v1/volcanoes\"\n",
    "\n",
    "headers = {\n",
    "    'accept': '*/*'\n",
    "}"
   ]
  },
  {
   "cell_type": "markdown",
   "metadata": {
    "id": "zwJMQjBmJ5Ly"
   },
   "source": [
    "#### **TASK 1.0: Webscraping (5 points)**\n",
    "\n",
    "To develop our web scraper, we need to **initiate a GET request** a GET request using the relevant information provided above.\n",
    "\n",
    "This specific NOAA dataset API returns data in JSON format when a request is made. The JSON data is structured in a particular format, so we will extract the necessary information solely from the field named \"items\" to construct a DataFrame.\n",
    "\n",
    "**After successfully scraping the data, name the resulting DataFrame** ***df***\n",
    "\n",
    "**Subsequently, save this DataFrame to a CSV file named volcanoes.csv.**\n",
    "\n",
    "**This process should only need to be executed once.**\n"
   ]
  },
  {
   "cell_type": "code",
   "execution_count": null,
   "metadata": {
    "collapsed": true,
    "id": "pRfxOpACC39n",
    "jupyter": {
     "outputs_hidden": true
    }
   },
   "outputs": [],
   "source": [
    "# REMOVE THIS COMMENT AND ANSWER STARTING HERE"
   ]
  },
  {
   "cell_type": "markdown",
   "metadata": {
    "id": "geMtNQeiEo8U"
   },
   "source": [
    "#### **TASK 1.1: 1-Liner Overview (3 points)**\n",
    "To gain an understanding of the dataset's structure, we need to examine some fundamental characteristics of the DataFrame. We need to get an idea of what this dataset is going to look. In order to do that, let's take a look at some of the most [basic things](https://dataanalytics.buffalostate.edu/pandas-cheat-sheet) our dataframe has.\n",
    "\n",
    "\n",
    "***CAN'T USE LOOPS. DO NOT DISPLAY THE DATAFRAME, JUST YOUR CODE OUTPUT HERE.***"
   ]
  },
  {
   "cell_type": "markdown",
   "metadata": {
    "id": "6Uyhc9VOJdbn"
   },
   "source": [
    "**1.1.1:** *In one line of code and **using only one function**, show how many **total datapoints and features** there are in the dataframe **together**.*"
   ]
  },
  {
   "cell_type": "code",
   "execution_count": null,
   "metadata": {
    "id": "a_PPlwLyJbbL"
   },
   "outputs": [],
   "source": [
    "# REMOVE THIS COMMENT AND ANSWER STARTING HERE"
   ]
  },
  {
   "cell_type": "markdown",
   "metadata": {
    "id": "OoMluxmiESrd"
   },
   "source": [
    "**1.1.2:** *In one line of code, list the **names** of all the **features** in the dataframe.*"
   ]
  },
  {
   "cell_type": "code",
   "execution_count": null,
   "metadata": {
    "id": "B4XwpjUUETbU"
   },
   "outputs": [],
   "source": [
    "# REMOVE THIS COMMENT AND ANSWER STARTING HERE"
   ]
  },
  {
   "cell_type": "markdown",
   "metadata": {
    "id": "6uvL0VpKNeAI"
   },
   "source": [
    "We won't be using some of the data because there is a lot of missing data.\n",
    "\n",
    "**1.1.3:** *In one line of code, create a **new dataframe** called **new_df** that **contains all** the features of the **old** dataframe **except the following**:*\n",
    "\n",
    "volcanoLocationNum, location, latitude, longitude, agent, significant,\tpublish,\teruption,\tstatus, timeErupt, damageAmountOrder, damageAmountOrderTotal, housesDestroyedAmountOrder,\thousesDestroyedAmountOrderTotal, housesDestroyed,\thousesDestroyedTotal,\tmissingAmountOrder,\tmissingAmountOrderTotal,\tmissing,\tmissingTotal, damageMillionsDollars, damageMillionsDollarsTotal, injuries, injuriesAmountOrder, injuriesTotal, injuriesAmountOrderTotal, deathsAmountOrderTotal, and deathsAmountOrder.\n",
    "\n"
   ]
  },
  {
   "cell_type": "code",
   "execution_count": null,
   "metadata": {
    "id": "rmFy8xLFLRrm"
   },
   "outputs": [],
   "source": [
    "# REMOVE THIS COMMENT AND ANSWER STARTING HERE\n",
    "\n",
    "# KEEP THIS. It will display the whole dataframe.\n",
    "new_df"
   ]
  },
  {
   "cell_type": "markdown",
   "metadata": {
    "id": "c8xP6O37UQp7"
   },
   "source": [
    "#### **TASK 1.2: 1 Liner Shenaniganz (7 points)**\n",
    "\n",
    "We're going to tidy up the **new dataframe** a little more with some more advanced 1 liner code.\n",
    "\n",
    "**Read the directions carefully and code your answer with only one line of code.**\n",
    "\n",
    "**For this section, keep the method of display that is already in the box. Write your code as indicated.**\n",
    "\n",
    "***YOU CAN'T USE ONE LINE LOOPS OR ANY KIND OF LOOP.***"
   ]
  },
  {
   "cell_type": "markdown",
   "metadata": {
    "id": "I_SHOaZRIblA"
   },
   "source": [
    "**1.2.1:** *In one line of code, **discard any row** that contains **NaN** in **any one** of the columns indicating **time**.*"
   ]
  },
  {
   "cell_type": "code",
   "execution_count": null,
   "metadata": {
    "collapsed": true,
    "id": "B9qVE-OdGysV",
    "jupyter": {
     "outputs_hidden": true
    }
   },
   "outputs": [],
   "source": [
    "# REMOVE THIS COMMENT AND ANSWER STARTING HERE\n",
    "\n",
    "# KEEP THIS. It will display the whole dataframe.\n",
    "new_df"
   ]
  },
  {
   "cell_type": "markdown",
   "metadata": {
    "id": "OO-A8f3gGEpn"
   },
   "source": [
    "**1.2.2:** *In one line of code, **reset** the **index column** of the dataframe so that it has **1-based indexing**.*"
   ]
  },
  {
   "cell_type": "code",
   "execution_count": null,
   "metadata": {
    "collapsed": true,
    "id": "gBBUKUJVFI0Y",
    "jupyter": {
     "outputs_hidden": true
    }
   },
   "outputs": [],
   "source": [
    "# REMOVE THIS COMMENT AND ANSWER STARTING HERE\n",
    "\n",
    "# KEEP THIS. It will display the whole dataframe.\n",
    "new_df"
   ]
  },
  {
   "cell_type": "markdown",
   "metadata": {
    "id": "oSxQRt-xio1t"
   },
   "source": [
    "The **deathsTotal** and **deaths**  columns have approximations of the same data with alternating NaNs in each.\n",
    "\n",
    "**1.2.3:** *In one line of code, make a **new column** called **'totalDeaths'** that takes the **max** of the values given between those* ***two*** *columns. If there is* ***NaN*** *in* ***one column*** *and a* ***numerical*** *value in the* ***other***, *it will ***take the numerical value***. ***Only*** if there are* ***NaNs*** *in* ***both*** *columns, the* ***new column will have NaN.***"
   ]
  },
  {
   "cell_type": "code",
   "execution_count": null,
   "metadata": {
    "id": "GEZ0YdSPdYyI"
   },
   "outputs": [],
   "source": [
    "# REMOVE THIS COMMENT AND ANSWER STARTING HERE\n",
    "\n",
    "# KEEP THIS. It will display the whole dataframe.\n",
    "new_df"
   ]
  },
  {
   "cell_type": "markdown",
   "metadata": {
    "id": "9if9utm8jsdg"
   },
   "source": [
    "#### **TASK 1.3: Tailoring Time (10 Points)**\n",
    "\n",
    "The year, month, and day columns in the dataset appear to be in an unconventional format. We will need to undertake some fundamental data cleaning on the [time](https://pandas.pydata.org/docs/user_guide/timeseries.html). While more advanced data cleaning techniques will be covered in class, we will focus on basic cleaning for now.\n",
    "\n",
    "**We need to have only ONE column called** \"***date***\" **that contains the full date (YYYY-MM-DD), not separated into three columns.**\n",
    "\n",
    "***Ensure that there are no floating-point values in the date and sort the data from the most recent to the least recent.***\n",
    "\n",
    "***Remove the old columns and place the new column next to the 'id' column.***\n",
    "\n",
    "\n",
    "**YOU MAY USE MULTIPLE LINES OF CODE, BUT CAN'T USE LOOPS.**\n",
    "**Note:** It is alright to have only a **maximum of 12 NaT (Not a Time)s** for some dates that often go further back than the 1600s because the datetime module in Pandas has a limit (unless otherwise guided)."
   ]
  },
  {
   "cell_type": "code",
   "execution_count": null,
   "metadata": {
    "id": "Gs4GJqzgn2Es"
   },
   "outputs": [],
   "source": [
    "# REMOVE THIS COMMENT AND ANSWER STARTING HERE\n",
    "\n",
    "# KEEP THIS. It will display the whole dataframe.\n",
    "new_df"
   ]
  },
  {
   "cell_type": "markdown",
   "metadata": {
    "id": "IlhYym73iOZb"
   },
   "source": [
    "### **Part 2: Volcanic Matryoshkas  (20 POINTS TOTAL)**\n",
    "\n",
    "Now, that most of the data has been tidied up. We will organize the data into more sizable pieces of information in order to extract useful information."
   ]
  },
  {
   "cell_type": "markdown",
   "metadata": {
    "id": "5yLjy9u0VuhU"
   },
   "source": [
    "**2.1.1:** *(5 points here)*\n",
    "\n",
    "**Use the groupby function in Pandas to create separate dataframes for each unique country.**\n",
    "\n",
    "* Each table must only have the columns: 'date' 'country', 'name', and 'vei'\n",
    "\n",
    "* Sort the dataframe of each country by highest to lowest 'vei'\n",
    "\n",
    "**You MUST use the groupby function here.**"
   ]
  },
  {
   "cell_type": "code",
   "execution_count": null,
   "metadata": {
    "id": "YonGiaib0noL"
   },
   "outputs": [],
   "source": [
    "# REMOVE THIS COMMENT AND ANSWER STARTING HERE"
   ]
  },
  {
   "cell_type": "markdown",
   "metadata": {
    "id": "OTExPGKLA7lV"
   },
   "source": [
    "**2.1.2:** *(5 points here)*\n",
    "\n",
    "**Using groupby again, print out the maximum 'vei' for each unique country.**\n",
    "\n",
    "**You MUST use the groupby function here.**\n",
    "\n",
    "* Print out your results in a format like the following: \"Country: {country_name}, Highest VEI: {vei}\""
   ]
  },
  {
   "cell_type": "code",
   "execution_count": null,
   "metadata": {
    "id": "DRHCvg1b2MEA"
   },
   "outputs": [],
   "source": [
    "# REMOVE THIS COMMENT AND ANSWER STARTING HERE"
   ]
  },
  {
   "cell_type": "markdown",
   "metadata": {
    "id": "11rdFk2qCu8u"
   },
   "source": [
    "**2.1.3:** *(10 points here)*\n",
    "\n",
    "Finally, we have ALMOST REACHED THE END!!\n",
    "Since there is still quite a bit of missing data, we want to make use of what is still available.\n",
    "\n",
    "A very powerful tool in Python's magnificent collection of libraries is its beautiful graphing tools.\n",
    "\n",
    "Check out libraries such as [Seaborn](https://seaborn.pydata.org/) or [Matplotlib](https://matplotlib.org/stable/index.html) to create meaningful visualizations! **Your final task requires the use of these libraries**\n",
    "\n",
    "**Based on the unique names of volcanos, filter names that have more than 3 datapoints under their name.**\n",
    "\n",
    "* Make separate graphs for each volcano and plot their VEIs over time.\n",
    "\n",
    "* Make sure to properly label all parts of the graph."
   ]
  },
  {
   "cell_type": "code",
   "execution_count": null,
   "metadata": {
    "id": "jvasG8eViN1h"
   },
   "outputs": [],
   "source": [
    "# REMOVE THIS COMMENT AND ANSWER STARTING HERE"
   ]
  },
  {
   "cell_type": "markdown",
   "metadata": {
    "id": "Gozs5JwKO7ar"
   },
   "source": [
    "### **Part 3: Fiery Jobs  (15 POINTS TOTAL)**\n",
    "\n",
    "Proficiency in SQL is also super important. SQL databases are essentially relational databases in which there are vast amounts of tabular data. which can often be used to connect with related tablular data. [This](https://www.w3schools.com/sql/) is a pretty good intro into learning more about SQL."
   ]
  },
  {
   "cell_type": "markdown",
   "metadata": {
    "id": "bfrjZ3wrO-R2"
   },
   "source": [
    "Check out this [tutorial](https://mode.com/sql-tutorial/introduction-to-sql/) for some clarifications on SQL.\n",
    "\n",
    "Now! We'll be using **sqlite** to access a database.\n",
    "* Start by downloading the sql lite file and putting it in the same directory as this [notebook](https://www.kaggle.com/datasets/kaggle/sf-salaries) (hit the 'download' button in the upper right).\n",
    "* Check out the description of the data so you know the table / column names.\n",
    "\n",
    "The following code will use sqlite3 to create a database connection. sqlite3 is the library in Python that assists in navigating through SQL databases."
   ]
  },
  {
   "cell_type": "code",
   "execution_count": null,
   "metadata": {
    "id": "ooUWEVfYPAkD"
   },
   "outputs": [],
   "source": [
    "import sqlite3\n",
    "# import pandas as pd. Pandas was already imported from the previous sections\n",
    "\n",
    "conn = sqlite3.connect(\"database.sqlite\")\n",
    "crsr = conn.cursor()"
   ]
  },
  {
   "cell_type": "code",
   "execution_count": null,
   "metadata": {
    "colab": {
     "base_uri": "https://localhost:8080/"
    },
    "id": "pnJiNMw7o9d8",
    "outputId": "87598252-9a6a-4ea9-983c-cbe91a61eb0c"
   },
   "outputs": [
    {
     "name": "stdout",
     "output_type": "stream",
     "text": [
      "[('Salaries',)]\n"
     ]
    }
   ],
   "source": [
    "# This code will let you check out the different tables within the database.\n",
    "query = \"SELECT name FROM sqlite_master WHERE type='table';\"\n",
    "tables = crsr.execute(query).fetchall()\n",
    "print(tables)"
   ]
  },
  {
   "cell_type": "markdown",
   "metadata": {
    "id": "KutbMSr2pV-O"
   },
   "source": [
    "##### **Remember that each problem should be solved with a single sql query.**\n",
    "**All outputs must be shown**\n",
    "\n",
    "#### **3.1.1: 2 Points**\n",
    "***From the Salaries table, get the average base pay for \"firefighters\" (all job titles consisting of the word \"firefighter\" (not case sensitive)) between the year 2011 to 2013.***"
   ]
  },
  {
   "cell_type": "code",
   "execution_count": null,
   "metadata": {
    "id": "3wm6NlYqp3dI"
   },
   "outputs": [],
   "source": [
    "query = 'REMOVE THIS CONTENT AND ANSWER IN HERE'\n",
    "\n",
    "# KEEP THIS. It will display the whole dataframe.\n",
    "df = pd.read_sql(query, conn)\n",
    "df"
   ]
  },
  {
   "cell_type": "markdown",
   "metadata": {
    "id": "AwWzAyYbq9yE"
   },
   "source": [
    "#### **3.1.2: 2 Points**\n",
    "***From the Salaries table, create a table for the year 2014, with a job title of \"firefighters\" (all job titles consisting of the word \"firefighter\" (not case sensitive)) making under $100,000 as a base pay, and sort in descending order by salary.***"
   ]
  },
  {
   "cell_type": "code",
   "execution_count": null,
   "metadata": {
    "id": "ZQ_hK1tpq83U"
   },
   "outputs": [],
   "source": [
    "query = 'REMOVE THIS CONTENT AND ANSWER IN HERE'\n",
    "\n",
    "# KEEP THIS. It will display the whole dataframe.\n",
    "df = pd.read_sql(query, conn)\n",
    "df"
   ]
  },
  {
   "cell_type": "markdown",
   "metadata": {
    "id": "zNRnMM7Cq9gG"
   },
   "source": [
    "#### **3.1.3: 4 Points**\n",
    "***Create a dataframe with averages of base pay, averages of benefits, and averages of overtime for \"firefighters\" (all job titles consisting of the word \"firefighter\" (not case sensitive)) as well as a column with the sum of these three values.***\n",
    "\n",
    "***Exclude job titles containing \"FIREFIGHTER\" (case-sensitive)***"
   ]
  },
  {
   "cell_type": "code",
   "execution_count": null,
   "metadata": {
    "id": "yVOCgk2Jq9LB"
   },
   "outputs": [],
   "source": [
    "query = 'REMOVE THIS CONTENT AND ANSWER IN HERE'\n",
    "\n",
    "# KEEP THIS. It will display the whole dataframe.\n",
    "df = pd.read_sql(query, conn)\n",
    "df"
   ]
  },
  {
   "cell_type": "markdown",
   "metadata": {
    "id": "0cp88tfxq-Ui"
   },
   "source": [
    "#### **3.1.4: 7 Points**\n",
    "\n",
    "***Finally, we'll create our own table in our database. Separate the Salaries table by years, and add it back to the database. Using a loop might be helpful.***\n",
    "\n",
    "* You may use basic python to complete the task. However, using querying on SQL is **mandatory**.\n",
    "* Feel free to **use multiple lines of code for this problem only.**\n",
    "* Check out this [Hint](https://pandas.pydata.org/docs/reference/api/pandas.DataFrame.to_sql.html)"
   ]
  },
  {
   "cell_type": "code",
   "execution_count": null,
   "metadata": {
    "id": "YjQnj4Uqq9C7"
   },
   "outputs": [],
   "source": [
    "# REMOVE THIS CONTENT AND ANSWER IN YOUR OWN WAY"
   ]
  },
  {
   "cell_type": "code",
   "execution_count": null,
   "metadata": {
    "colab": {
     "base_uri": "https://localhost:8080/"
    },
    "id": "RYcadk9g4jE1",
    "outputId": "f1ddcf42-34b5-4dd6-8093-a133ba878c6f"
   },
   "outputs": [
    {
     "name": "stdout",
     "output_type": "stream",
     "text": [
      "[('Salaries',)]\n"
     ]
    }
   ],
   "source": [
    "# Run this code to check if you successfully added your table.\n",
    "cursor = conn.cursor()\n",
    "cursor.execute(\"SELECT name FROM sqlite_master WHERE type='table';\")\n",
    "print(cursor.fetchall())"
   ]
  },
  {
   "cell_type": "markdown",
   "metadata": {
    "id": "oW-M2Epk28g4"
   },
   "source": [
    "![volcano](https://as1.ftcdn.net/v2/jpg/06/34/76/64/1000_F_634766457_0fZbpYj6aBLlldO1jADUPpKTRLnNmngs.jpg)"
   ]
  },
  {
   "cell_type": "markdown",
   "metadata": {
    "id": "V8Kmist_PFIZ"
   },
   "source": [
    "### **Part 4: Be Creative with SQL  (20 POINTS TOTAL)**"
   ]
  },
  {
   "cell_type": "markdown",
   "metadata": {
    "id": "TC7vPgQdPO9R"
   },
   "source": [
    "For a more interactive SQL experience within a Jupyter notebook or Google Colab, you can use the %sql magic command from the ipython-sql extension. Here's how:\n",
    "\n",
    "* Install ipython-sql: !pip install ipython-sql\n",
    "* Load the extension and connect to SQLite:\n",
    "\n",
    "%load_ext sql\n",
    "\n",
    "%sql sqlite:///restaurent.db\n",
    "\n",
    "\n",
    "* Run SQL queries directly in cells using\n",
    "\n",
    "%%sql"
   ]
  },
  {
   "cell_type": "markdown",
   "metadata": {
    "id": "r5CXyWVOP4x5"
   },
   "source": [
    "However, you can also continue to import the sqlite3 library and create a connection and cursor to execute SQL commands, as you did before. The choice is up to you."
   ]
  },
  {
   "cell_type": "markdown",
   "metadata": {
    "id": "txAdbUgoQvAI"
   },
   "source": [
    "*** Part 4.1(a)  CREATE A TABLE ***\n",
    "\n",
    "Create a table called **MyRestaurants** with the following attributes:\n",
    "\n",
    "* RestaurantName: A VARCHAR field\n",
    "* FoodType: A VARCHAR field\n",
    "* DistanceFromHome: An INTEGER field representing the distance (in minutes) from your house\n",
    "* LastVisitDate: A DATE field representing the date of your last visit\n",
    "* Liked: A BOOLEAN field indicating whether you like the restaurant or not"
   ]
  },
  {
   "cell_type": "code",
   "execution_count": null,
   "metadata": {
    "id": "yJVjTopqQnXI"
   },
   "outputs": [],
   "source": []
  },
  {
   "cell_type": "markdown",
   "metadata": {
    "id": "SLcTxvs-Q3GT"
   },
   "source": [
    "*** Part 4.1(b) Insert Tuples ***\n",
    "\n",
    "Insert at least five tuples using the SQL INSERT command, executing it five (or more) times.\n",
    "\n",
    "* Ensure that you insert ** at least one restaurant that you liked**, **at least one restaurant that you did not like**, and **at least one restaurant where the Liked field is set to NULL**."
   ]
  },
  {
   "cell_type": "code",
   "execution_count": null,
   "metadata": {
    "id": "GhGP4GqkP314"
   },
   "outputs": [],
   "source": []
  },
  {
   "cell_type": "markdown",
   "metadata": {
    "id": "9AlFQ7NSRA1x"
   },
   "source": [
    "*** Part 4.1(c) ***\n",
    "\n",
    "Write a SQL query to return all restaurants in your table."
   ]
  },
  {
   "cell_type": "code",
   "execution_count": null,
   "metadata": {
    "id": "gzXPdd0QRG81"
   },
   "outputs": [],
   "source": []
  },
  {
   "cell_type": "markdown",
   "metadata": {
    "id": "9wglVgmgRHap"
   },
   "source": [
    "*** Part 4.1(d) ***\n",
    "\n",
    "Now experiment with a few of SQLite's output formats using the SQL query you wrote for question above:\n",
    "\n",
    "* print the results (Part 4.1(c)) in list form, delimited by \" | \"\n",
    "\n",
    "Sample output: Sushi Place | Japanese | 15 | 2024-05-01 | 1"
   ]
  },
  {
   "cell_type": "code",
   "execution_count": null,
   "metadata": {
    "id": "q7RqnXA6RVWe"
   },
   "outputs": [],
   "source": []
  },
  {
   "cell_type": "markdown",
   "metadata": {
    "id": "Iy8KzdRNRb2B"
   },
   "source": [
    "*** Part 4.1(d) ***\n",
    "\n",
    "Modify your SQL query such that it prints \"I liked it\" or \"I hated it\" for each restaurant you liked or not.\n",
    "\n",
    "\n",
    "Note that you are not allowed to modify the table on disk. You should be able to answer this question using only a SELECT statement. A solution that creates and uses an extra table, howerver, will be accepted.\n",
    "\n",
    "Check: https://www.sqlitetutorial.net/sqlite-case/\n"
   ]
  },
  {
   "cell_type": "code",
   "execution_count": null,
   "metadata": {
    "id": "MX4VPCXuR3dw"
   },
   "outputs": [],
   "source": []
  },
  {
   "cell_type": "markdown",
   "metadata": {
    "id": "91z74HBMR5Lo"
   },
   "source": [
    "*** Part 4.1(e) ***\n",
    "\n",
    "Write a SQL query to return all restaurants that you like but have not visited in the past three months."
   ]
  },
  {
   "cell_type": "code",
   "execution_count": null,
   "metadata": {
    "id": "z-1rbnubR-9l"
   },
   "outputs": [],
   "source": []
  },
  {
   "cell_type": "markdown",
   "metadata": {
    "id": "GObL-sWeSCBl"
   },
   "source": [
    "*** Part 4.2(a) ***\n",
    "\n",
    "** Next we will focus on INNER JOIN **\n",
    "\n",
    "Let's add a second table called **\"RestaurantReviews\"** and demonstrate how to perform an inner join between MyRestaurants and RestaurantReviews.\n",
    "\n",
    "\n"
   ]
  },
  {
   "cell_type": "markdown",
   "metadata": {
    "id": "GmjWpt48SLsc"
   },
   "source": [
    "Create the RestaurantReviews Table\n",
    "First, we'll create the RestaurantReviews table with the following attributes:\n",
    "\n",
    "* RestaurantName (to match the Name in MyRestaurants)\n",
    "* ReviewText (text of the review)\n",
    "* Rating (integer rating)"
   ]
  },
  {
   "cell_type": "code",
   "execution_count": null,
   "metadata": {
    "id": "ZN24uq2HSMN8"
   },
   "outputs": [],
   "source": []
  },
  {
   "cell_type": "markdown",
   "metadata": {
    "id": "y99cEJBHSMp9"
   },
   "source": [
    "*** Part 4.2(b) ***\n",
    "\n",
    "Insert Data into RestaurantReviews\n",
    "Insert some sample data (at least 5) into this table:\n"
   ]
  },
  {
   "cell_type": "code",
   "execution_count": null,
   "metadata": {
    "id": "APlyp_w4SSx-"
   },
   "outputs": [],
   "source": []
  },
  {
   "cell_type": "markdown",
   "metadata": {
    "id": "Y5RGDTfrSU6F"
   },
   "source": [
    "*** Part 4.2(c) Inner Join Query ***\n",
    "Now perform an inner join between MyRestaurants and RestaurantReviews based on the restaurant name to combine the information from both tables and show the results."
   ]
  },
  {
   "cell_type": "code",
   "execution_count": null,
   "metadata": {
    "id": "sCBzaVCkSZ7F"
   },
   "outputs": [],
   "source": []
  },
  {
   "cell_type": "markdown",
   "metadata": {
    "id": "84e5h-3WScF9"
   },
   "source": [
    "## THE END OF HW 1 ##"
   ]
  }
 ],
 "metadata": {
  "colab": {
   "provenance": []
  },
  "kernelspec": {
   "display_name": "Python 3 (ipykernel)",
   "language": "python",
   "name": "python3"
  },
  "language_info": {
   "codemirror_mode": {
    "name": "ipython",
    "version": 3
   },
   "file_extension": ".py",
   "mimetype": "text/x-python",
   "name": "python",
   "nbconvert_exporter": "python",
   "pygments_lexer": "ipython3",
   "version": "3.9.19"
  }
 },
 "nbformat": 4,
 "nbformat_minor": 4
}
