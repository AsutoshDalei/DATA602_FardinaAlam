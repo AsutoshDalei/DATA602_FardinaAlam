{
 "cells": [
  {
   "cell_type": "markdown",
   "metadata": {
    "id": "ZuEbtOi43OQc"
   },
   "source": [
    "# HW 03 - Part 2: Data Exploration\n",
    "DATA 602, Section PCS2, Dr. Fardina Alam\n"
   ]
  },
  {
   "cell_type": "markdown",
   "metadata": {
    "id": "1kCoK2ZH4HdN"
   },
   "source": [
    "---\n",
    "---\n",
    "**DISCLAIMER: This is a fake story, not a real incident! We have created this story just for the data exploration purpose.**\n",
    "\n",
    "---\n",
    "---\n",
    "\n",
    "**Campus Police Department**\n",
    "\n",
    "Incident Report\n",
    "\n",
    "---\n",
    "\n",
    "**Incident Date:** September 10, 2024\n",
    "\n",
    "**Location of Incident:** 2nd Floor, Iribe Building\n",
    "\n",
    "**Items Left at the Scene:** Red Ticket for Zichao's Magic Show\n",
    "\n",
    "**Case Number:** 2024-IRB-0027\n",
    "\n",
    "---\n",
    "**Victim Information:**\n",
    "\n",
    "**Name:** Dr. Fardina Alam\n",
    "\n",
    "**Affiliation:** University of Maryland, College Park\n",
    "\n",
    "**Position:** Professor\n",
    "\n",
    "**Contact Information:** fardina@umd.edu\n",
    "\n",
    "---\n",
    "\n",
    "**Incident Description:**\n",
    "\n",
    "On the evening of September 10, 2024, an unknown individual(s) unlawfully entered Dr. Fardina's room located on the 3rd floor of Iribe and stole a set of Markers. The stolen items were a set of limited edition markers that Dr. Fardina had spent years collecting. At the scene of the crime, a red entry ticket for \"Zichao's Magic Show\" was found on the floor near Dr. Fardina's desk.\n",
    "\n",
    "\n",
    "\n",
    "\n",
    "\n"
   ]
  },
  {
   "cell_type": "code",
   "execution_count": 2,
   "metadata": {
    "id": "4rVgG-Vi7a_O"
   },
   "outputs": [],
   "source": [
    "# We import all essential libraries for this HW; if you want to add additional libraries, you can add more here!\n",
    "import pandas as pd\n",
    "import numpy as np\n",
    "from datetime import datetime"
   ]
  },
  {
   "cell_type": "markdown",
   "metadata": {
    "id": "ZBLEXsMU7gqH"
   },
   "source": [
    "## Instructions:\n",
    "\n",
    "In this assignment, you are tasked with solving the mystery of Dr. Fardina's stolen markers and finding the culprit.\n",
    "\n",
    "* To accomplish this, you will be provided with **4 data sets** containing key information related to the incident. The list of the data sets name given below:\n",
    "\n",
    " - Profiles\n",
    " - Witnesses\n",
    " - Zichao's magic show\n",
    " - Interrogation Statements\n",
    "\n",
    "\n",
    "\n",
    "* Your goal is to analyze these data sets to uncover the clues and evidences that will lead you to the thief.\n",
    "\n",
    "**Be careful in following instructions as it may lead to you losing points :(**\n",
    "\n",
    "Take a moment to look at all the data sets below:\n",
    "\n",
    "---\n",
    "\n",
    "**Profiles:**\n",
    "\n",
    "This dataset contains information regarding all the potential people that could have committed the crime. General information regarding each person are as follows:\n",
    "- **ID:** A **unique** identification for each person\n",
    "- **Name:** The name of the person\n",
    "- **Birthday:** The birthday of the person\n",
    "- **Location_during_crime:** The location of the person during the crime\n",
    "- **Eye_Color:** The eye color of the person\n",
    "- **Skin_Color:** The skin color of the person\n",
    "- **Hair_Color:** The hair color of the person\n",
    "- **Height:** The height of the person in cm\n",
    "\n",
    "**Witnesses:**\n",
    "\n",
    "This dataset contains a statement from everyone in profiles, regarding suspicious things they saw during the time of the crime. Information that comes in this dataset are as follows:\n",
    "- **ID:** A **Unique** identification for each person\n",
    "- **Statement:** A statement from the person regarding a suspicious activity during the time of the crime\n",
    "\n",
    "**Zichao's magic show:**\n",
    "\n",
    "This dataset contains everyone that purchased a ticket for the show. **NOTE** that not everyone in profiles has purchased a ticket for this show. The Information contained in this dataset are as follows:\n",
    "- **ID:** A **Unique** indentification for each person\n",
    "- **Ticket_Number:** A **Unique** number that serves as an identification for the ticket bought\n",
    "\n",
    "**Interrogation Statements:**\n",
    "\n",
    "This datasets contains a statement from each person after they have been interrogated. **NOTE** assume that each statement is 100% true and that there are people who aren't in \"Profiles\" in this dataset. The Information contained in this dataset are as follows:\n",
    "\n",
    "- **Name:** The name of the person being interrogated\n",
    "- **Statement:** A statement the person gives after being interrogated\n",
    "\n",
    "---"
   ]
  },
  {
   "cell_type": "markdown",
   "metadata": {
    "id": "18K-7bb9pP5x"
   },
   "source": [
    "## Instructions for the Students:\n",
    "\n",
    "In this assignment, you are tasked with solving the mystery of Dr. Fardina's stolen markers and finding the culprit.\n",
    "\n",
    "* To accomplish this, you will be provided with **4 data sets** containing key information related to the incident. The list of the data sets name given below:\n",
    "\n",
    " - Profiles\n",
    " - Witnesses\n",
    " - Zichao's magic show\n",
    " - Interrogation Statements\n",
    "\n",
    "\n",
    "\n",
    "* Your goal is to analyze these data sets to uncover the clues and evidences that will lead you to the thief.\n",
    "\n",
    "**Be careful in following instructions as it may lead to you losing points :(**\n",
    "\n",
    "Take a moment to look at summary of all the data sets below:\n",
    "\n",
    "---\n",
    "\n",
    "**Profiles:**\n",
    "\n",
    "This dataset contains information regarding all the potential people that could have committed the crime.\n",
    "\n",
    "**Witnesses:**\n",
    "\n",
    "This dataset contains a statement from everyone in profiles, regarding suspicious things they saw during the time of the crime.\n",
    "\n",
    "**Zichao's magic show:**\n",
    "\n",
    "This dataset contains everyone that purchased a ticket for the show. **NOTE** that not everyone in profiles has purchased a ticket for this show. In this dataset, there is a column named  **\"Ticket_Number\"** which is an **Unique** number that serves as an identification for the ticket bought.\n",
    "\n",
    "**Interrogation Statements:**\n",
    "\n",
    "This datasets contains a statement from each person after they have been interrogated. **NOTE** assume that each statement is 100% true and that there are people who aren't in \"Profiles\" in this dataset.\n",
    "\n",
    "---"
   ]
  },
  {
   "cell_type": "markdown",
   "metadata": {
    "id": "x-yyybk6EOO2"
   },
   "source": [
    "## Q1) Lets begin by observing the profiles dataset\n",
    "\n",
    "\n",
    "**TASK 1.1 (1 Point):**  In the code box below, load in \"Profiles\" dataset into a variable called **profiles_df** and display it\n",
    "\n",
    "\n",
    "\n"
   ]
  },
  {
   "cell_type": "code",
   "execution_count": 3,
   "metadata": {
    "id": "-IXWhyv5Eczh"
   },
   "outputs": [],
   "source": [
    "# Write your code here\n",
    "profiles_df = pd.read_csv(r\"C:\\Users\\asuto\\Desktop\\Master's\\Padhai\\DATA602 - Data Science\\DATA602_HW\\DATA602_FardinaAlam\\HW\\HW3\\Profiles.csv\")"
   ]
  },
  {
   "cell_type": "markdown",
   "metadata": {
    "id": "aNBECwLXto9e"
   },
   "source": [
    "**TASK 1.2 (1 Point):**  Next, you need to display the number of rows and columns in the \"Profiles\" dataset."
   ]
  },
  {
   "cell_type": "code",
   "execution_count": 4,
   "metadata": {
    "id": "LnRyYhsZtpTb"
   },
   "outputs": [
    {
     "data": {
      "text/plain": [
       "(348, 8)"
      ]
     },
     "execution_count": 4,
     "metadata": {},
     "output_type": "execute_result"
    }
   ],
   "source": [
    "# Write your code here\n",
    "profiles_df.shape"
   ]
  },
  {
   "cell_type": "markdown",
   "metadata": {
    "id": "kH4QpKeXsFE3"
   },
   "source": [
    "**TASK 1.3 (1 Point):**  Next, you need to display the name of the columns in the \"Profiles\" dataset."
   ]
  },
  {
   "cell_type": "code",
   "execution_count": 5,
   "metadata": {
    "id": "71EZMoPKsDX0"
   },
   "outputs": [
    {
     "data": {
      "text/plain": [
       "Index(['ID', 'Name', 'Birthday', 'Location_during_crime', 'Eye_Color',\n",
       "       'Skin_Color', 'Hair_Color', 'Height'],\n",
       "      dtype='object')"
      ]
     },
     "execution_count": 5,
     "metadata": {},
     "output_type": "execute_result"
    }
   ],
   "source": [
    "# Write your code here\n",
    "profiles_df.columns"
   ]
  },
  {
   "cell_type": "markdown",
   "metadata": {
    "id": "9PPdHisOsjg0"
   },
   "source": [
    "**TASK 1.4 (1 Point):**  Now, you need to display the types of the columns in the \"Profiles\" dataset."
   ]
  },
  {
   "cell_type": "code",
   "execution_count": 6,
   "metadata": {
    "id": "riaoFt2js1DH"
   },
   "outputs": [
    {
     "data": {
      "text/plain": [
       "ID                       object\n",
       "Name                     object\n",
       "Birthday                 object\n",
       "Location_during_crime    object\n",
       "Eye_Color                object\n",
       "Skin_Color               object\n",
       "Hair_Color               object\n",
       "Height                    int64\n",
       "dtype: object"
      ]
     },
     "execution_count": 6,
     "metadata": {},
     "output_type": "execute_result"
    }
   ],
   "source": [
    "# Write your code here\n",
    "profiles_df.dtypes"
   ]
  },
  {
   "cell_type": "markdown",
   "metadata": {
    "id": "RmNRKK81FyyS"
   },
   "source": [
    "**TASK 1.5 (2 Points):** Utilizing the .count() function on this dataset and set it to the variable **info** and then display it. Write any **potential problem** that you see with the dataset when observing the output of the count function:\n",
    "\n",
    "\n"
   ]
  },
  {
   "cell_type": "code",
   "execution_count": 7,
   "metadata": {
    "id": "MXKTQ9k0K84A"
   },
   "outputs": [
    {
     "data": {
      "text/plain": [
       "ID                       348\n",
       "Name                     348\n",
       "Birthday                 348\n",
       "Location_during_crime    280\n",
       "Eye_Color                280\n",
       "Skin_Color               348\n",
       "Hair_Color               348\n",
       "Height                   348\n",
       "dtype: int64"
      ]
     },
     "execution_count": 7,
     "metadata": {},
     "output_type": "execute_result"
    }
   ],
   "source": [
    "## Write your code here\n",
    "info = profiles_df.count()\n",
    "info"
   ]
  },
  {
   "cell_type": "code",
   "execution_count": 8,
   "metadata": {},
   "outputs": [
    {
     "data": {
      "text/plain": [
       "68"
      ]
     },
     "execution_count": 8,
     "metadata": {},
     "output_type": "execute_result"
    }
   ],
   "source": [
    "348-280"
   ]
  },
  {
   "cell_type": "markdown",
   "metadata": {
    "id": "S-9jv80SKP0x"
   },
   "source": [
    "*Write your observations here:*\n",
    "\n",
    "There are several rows in the \"Location_during_crime\" and \"Eye_Color\" column which are null. 68 rows in particular.\n"
   ]
  },
  {
   "cell_type": "markdown",
   "metadata": {
    "id": "ZHRsBO_7KjOz"
   },
   "source": [
    "**TASK 1.6 (4 Points):** Look back at the \"Profiles\" dataset. Using other pandas functions than count(), can you spot another potential problem with the dataset?"
   ]
  },
  {
   "cell_type": "code",
   "execution_count": 9,
   "metadata": {
    "id": "Mj5q3ixftUm_"
   },
   "outputs": [
    {
     "data": {
      "text/plain": [
       "299"
      ]
     },
     "execution_count": 9,
     "metadata": {},
     "output_type": "execute_result"
    }
   ],
   "source": [
    "# Write your code here\n",
    "profiles_df['Name'].nunique()"
   ]
  },
  {
   "cell_type": "markdown",
   "metadata": {
    "id": "bobQCeJnNTyb"
   },
   "source": [
    "*Write your observation here:*\n",
    "\n",
    "There are names which are duplicated(348 rows and 299 unique names). Indicating, that a few people may have had duplicate records in the profiles dataset."
   ]
  },
  {
   "cell_type": "markdown",
   "metadata": {
    "id": "sWeYA6N4Nf-6"
   },
   "source": [
    "## Q2) Cleaning the data set"
   ]
  },
  {
   "cell_type": "markdown",
   "metadata": {
    "id": "vt02sN-9uZIb"
   },
   "source": [
    "**TASK 2.1 (10 Points):** Lets begin by fixing the Birthday column. You may notice that the dates are in inconsistent format!\n",
    "\n",
    "- Pandas internally represent dates in 'datetime64' format which is a form of ISO 8601. Basically, dates are represented as yyyy-mm-dd.\n",
    "\n",
    "\n",
    "- Fix all the dates in the Birthday Column.\n",
    "- Display the \"Profiles\" dataframe after you are done.\n",
    "- Note that the only 2 formats the dates are in is either yyyy/dd/mm or mm/dd/yyyy, you want to represent them as yyyy-mm-dd\n",
    "\n",
    "\n",
    "**HINT:** some datetime functions might make things easier.\n",
    "- https://www.geeksforgeeks.org/python-pandas-to_datetime/\n",
    "- https://www.programiz.com/python-programming/datetime/strftime\n"
   ]
  },
  {
   "cell_type": "code",
   "execution_count": 10,
   "metadata": {
    "id": "bLStgZpUQikT"
   },
   "outputs": [
    {
     "name": "stdout",
     "output_type": "stream",
     "text": [
      "CPU times: total: 62.5 ms\n",
      "Wall time: 60.1 ms\n"
     ]
    },
    {
     "data": {
      "text/html": [
       "<div>\n",
       "<style scoped>\n",
       "    .dataframe tbody tr th:only-of-type {\n",
       "        vertical-align: middle;\n",
       "    }\n",
       "\n",
       "    .dataframe tbody tr th {\n",
       "        vertical-align: top;\n",
       "    }\n",
       "\n",
       "    .dataframe thead th {\n",
       "        text-align: right;\n",
       "    }\n",
       "</style>\n",
       "<table border=\"1\" class=\"dataframe\">\n",
       "  <thead>\n",
       "    <tr style=\"text-align: right;\">\n",
       "      <th></th>\n",
       "      <th>ID</th>\n",
       "      <th>Name</th>\n",
       "      <th>Birthday</th>\n",
       "      <th>Location_during_crime</th>\n",
       "      <th>Eye_Color</th>\n",
       "      <th>Skin_Color</th>\n",
       "      <th>Hair_Color</th>\n",
       "      <th>Height</th>\n",
       "    </tr>\n",
       "  </thead>\n",
       "  <tbody>\n",
       "    <tr>\n",
       "      <th>0</th>\n",
       "      <td>P299</td>\n",
       "      <td>James Mason</td>\n",
       "      <td>1968-10-07</td>\n",
       "      <td>fourth floor</td>\n",
       "      <td>red</td>\n",
       "      <td>indigo</td>\n",
       "      <td>orange</td>\n",
       "      <td>191</td>\n",
       "    </tr>\n",
       "    <tr>\n",
       "      <th>1</th>\n",
       "      <td>P086</td>\n",
       "      <td>Christopher Rodriguez</td>\n",
       "      <td>1978-10-03</td>\n",
       "      <td>second floor</td>\n",
       "      <td>indigo</td>\n",
       "      <td>indigo</td>\n",
       "      <td>green</td>\n",
       "      <td>198</td>\n",
       "    </tr>\n",
       "    <tr>\n",
       "      <th>2</th>\n",
       "      <td>P022</td>\n",
       "      <td>Misty Ashley</td>\n",
       "      <td>1989-08-10</td>\n",
       "      <td>fourth floor</td>\n",
       "      <td>blue</td>\n",
       "      <td>red</td>\n",
       "      <td>violet</td>\n",
       "      <td>154</td>\n",
       "    </tr>\n",
       "    <tr>\n",
       "      <th>3</th>\n",
       "      <td>P003</td>\n",
       "      <td>Amanda Brown</td>\n",
       "      <td>1995-10-27</td>\n",
       "      <td>lobby</td>\n",
       "      <td>green</td>\n",
       "      <td>blue</td>\n",
       "      <td>violet</td>\n",
       "      <td>158</td>\n",
       "    </tr>\n",
       "    <tr>\n",
       "      <th>4</th>\n",
       "      <td>P036</td>\n",
       "      <td>William Jones</td>\n",
       "      <td>1990-02-26</td>\n",
       "      <td>fourth floor</td>\n",
       "      <td>blue</td>\n",
       "      <td>yellow</td>\n",
       "      <td>orange</td>\n",
       "      <td>184</td>\n",
       "    </tr>\n",
       "  </tbody>\n",
       "</table>\n",
       "</div>"
      ],
      "text/plain": [
       "     ID                   Name   Birthday Location_during_crime Eye_Color  \\\n",
       "0  P299            James Mason 1968-10-07          fourth floor       red   \n",
       "1  P086  Christopher Rodriguez 1978-10-03          second floor    indigo   \n",
       "2  P022           Misty Ashley 1989-08-10          fourth floor      blue   \n",
       "3  P003           Amanda Brown 1995-10-27                 lobby     green   \n",
       "4  P036          William Jones 1990-02-26          fourth floor      blue   \n",
       "\n",
       "  Skin_Color Hair_Color  Height  \n",
       "0     indigo     orange     191  \n",
       "1     indigo      green     198  \n",
       "2        red     violet     154  \n",
       "3       blue     violet     158  \n",
       "4     yellow     orange     184  "
      ]
     },
     "execution_count": 10,
     "metadata": {},
     "output_type": "execute_result"
    }
   ],
   "source": [
    "%%time\n",
    "def dateFnx(row):\n",
    "    if len(row.split('/')[0]) == 4:\n",
    "        return pd.to_datetime(row,format='%Y/%d/%m').strftime('%Y-%m-%d')\n",
    "    return pd.to_datetime(row,format='%m/%d/%Y').strftime('%Y-%m-%d')\n",
    "\n",
    "profiles_df.Birthday = pd.to_datetime(profiles_df.Birthday.apply(dateFnx))\n",
    "profiles_df.head()"
   ]
  },
  {
   "cell_type": "markdown",
   "metadata": {
    "id": "FKlHOEj7aPpt"
   },
   "source": [
    "**TASK 2.2 (5 Points):** Now that we have cleaned up the Birthday column, lets find the age of each person. Create a new column called \"Age\" that displays the age of the person **on the day of the crime.** Once you are done, display the\n",
    "\"Profiles\" dataframe"
   ]
  },
  {
   "cell_type": "code",
   "execution_count": 11,
   "metadata": {
    "id": "_p9-0y1hazEz"
   },
   "outputs": [
    {
     "data": {
      "text/html": [
       "<div>\n",
       "<style scoped>\n",
       "    .dataframe tbody tr th:only-of-type {\n",
       "        vertical-align: middle;\n",
       "    }\n",
       "\n",
       "    .dataframe tbody tr th {\n",
       "        vertical-align: top;\n",
       "    }\n",
       "\n",
       "    .dataframe thead th {\n",
       "        text-align: right;\n",
       "    }\n",
       "</style>\n",
       "<table border=\"1\" class=\"dataframe\">\n",
       "  <thead>\n",
       "    <tr style=\"text-align: right;\">\n",
       "      <th></th>\n",
       "      <th>ID</th>\n",
       "      <th>Name</th>\n",
       "      <th>Birthday</th>\n",
       "      <th>Location_during_crime</th>\n",
       "      <th>Eye_Color</th>\n",
       "      <th>Skin_Color</th>\n",
       "      <th>Hair_Color</th>\n",
       "      <th>Height</th>\n",
       "      <th>Age</th>\n",
       "    </tr>\n",
       "  </thead>\n",
       "  <tbody>\n",
       "    <tr>\n",
       "      <th>0</th>\n",
       "      <td>P299</td>\n",
       "      <td>James Mason</td>\n",
       "      <td>1968-10-07</td>\n",
       "      <td>fourth floor</td>\n",
       "      <td>red</td>\n",
       "      <td>indigo</td>\n",
       "      <td>orange</td>\n",
       "      <td>191</td>\n",
       "      <td>55.964384</td>\n",
       "    </tr>\n",
       "    <tr>\n",
       "      <th>1</th>\n",
       "      <td>P086</td>\n",
       "      <td>Christopher Rodriguez</td>\n",
       "      <td>1978-10-03</td>\n",
       "      <td>second floor</td>\n",
       "      <td>indigo</td>\n",
       "      <td>indigo</td>\n",
       "      <td>green</td>\n",
       "      <td>198</td>\n",
       "      <td>45.969863</td>\n",
       "    </tr>\n",
       "    <tr>\n",
       "      <th>2</th>\n",
       "      <td>P022</td>\n",
       "      <td>Misty Ashley</td>\n",
       "      <td>1989-08-10</td>\n",
       "      <td>fourth floor</td>\n",
       "      <td>blue</td>\n",
       "      <td>red</td>\n",
       "      <td>violet</td>\n",
       "      <td>154</td>\n",
       "      <td>35.109589</td>\n",
       "    </tr>\n",
       "    <tr>\n",
       "      <th>3</th>\n",
       "      <td>P003</td>\n",
       "      <td>Amanda Brown</td>\n",
       "      <td>1995-10-27</td>\n",
       "      <td>lobby</td>\n",
       "      <td>green</td>\n",
       "      <td>blue</td>\n",
       "      <td>violet</td>\n",
       "      <td>158</td>\n",
       "      <td>28.893151</td>\n",
       "    </tr>\n",
       "    <tr>\n",
       "      <th>4</th>\n",
       "      <td>P036</td>\n",
       "      <td>William Jones</td>\n",
       "      <td>1990-02-26</td>\n",
       "      <td>fourth floor</td>\n",
       "      <td>blue</td>\n",
       "      <td>yellow</td>\n",
       "      <td>orange</td>\n",
       "      <td>184</td>\n",
       "      <td>34.561644</td>\n",
       "    </tr>\n",
       "  </tbody>\n",
       "</table>\n",
       "</div>"
      ],
      "text/plain": [
       "     ID                   Name   Birthday Location_during_crime Eye_Color  \\\n",
       "0  P299            James Mason 1968-10-07          fourth floor       red   \n",
       "1  P086  Christopher Rodriguez 1978-10-03          second floor    indigo   \n",
       "2  P022           Misty Ashley 1989-08-10          fourth floor      blue   \n",
       "3  P003           Amanda Brown 1995-10-27                 lobby     green   \n",
       "4  P036          William Jones 1990-02-26          fourth floor      blue   \n",
       "\n",
       "  Skin_Color Hair_Color  Height        Age  \n",
       "0     indigo     orange     191  55.964384  \n",
       "1     indigo      green     198  45.969863  \n",
       "2        red     violet     154  35.109589  \n",
       "3       blue     violet     158  28.893151  \n",
       "4     yellow     orange     184  34.561644  "
      ]
     },
     "execution_count": 11,
     "metadata": {},
     "output_type": "execute_result"
    }
   ],
   "source": [
    "# Write your code here\n",
    "profiles_df['Age'] = (pd.to_datetime('2024-09-10',format='%Y-%m-%d') - profiles_df.Birthday).dt.days/365\n",
    "profiles_df.head()"
   ]
  },
  {
   "cell_type": "markdown",
   "metadata": {
    "id": "a0gt8jzHgZJQ"
   },
   "source": [
    "**TASK 2.3 (10 Points):** Now that we have created the \"age\"; lets clean the 'Eye_color's column.\n",
    "\n",
    "***Please read the directions carefully:***\n",
    "\n",
    "\n",
    "- In order to fill in the missing eye_colors, we want to find the **most common eye_color** among those who have the **same hair and skin color**.\n",
    "- For Instance, if we want to find the eye_color of someone who has yellow hair and violet skin:\n",
    " - we would first find everything who has the same hair and skin color, in this case it would be yellow hair and violet skin\n",
    " - and then we find the most common eye_color among them.\n",
    " - we then replace the missing eye_color with the eye color that is the most common among the people with the same hair and skin color.\n",
    "- Watch out for redundant data!\n",
    "\n",
    "- ***FIX: In the case that you find multiple modes, choose the color that appears first in alphabetical order***\n",
    "\n",
    " When you finish filling in the missing eye colors, please display the profiles_df\n"
   ]
  },
  {
   "cell_type": "code",
   "execution_count": 12,
   "metadata": {
    "id": "gd6uRagRjMhx"
   },
   "outputs": [
    {
     "data": {
      "text/html": [
       "<div>\n",
       "<style scoped>\n",
       "    .dataframe tbody tr th:only-of-type {\n",
       "        vertical-align: middle;\n",
       "    }\n",
       "\n",
       "    .dataframe tbody tr th {\n",
       "        vertical-align: top;\n",
       "    }\n",
       "\n",
       "    .dataframe thead th {\n",
       "        text-align: right;\n",
       "    }\n",
       "</style>\n",
       "<table border=\"1\" class=\"dataframe\">\n",
       "  <thead>\n",
       "    <tr style=\"text-align: right;\">\n",
       "      <th></th>\n",
       "      <th>ID</th>\n",
       "      <th>Name</th>\n",
       "      <th>Birthday</th>\n",
       "      <th>Location_during_crime</th>\n",
       "      <th>Eye_Color</th>\n",
       "      <th>Skin_Color</th>\n",
       "      <th>Hair_Color</th>\n",
       "      <th>Height</th>\n",
       "      <th>Age</th>\n",
       "    </tr>\n",
       "  </thead>\n",
       "  <tbody>\n",
       "    <tr>\n",
       "      <th>0</th>\n",
       "      <td>P299</td>\n",
       "      <td>James Mason</td>\n",
       "      <td>1968-10-07</td>\n",
       "      <td>fourth floor</td>\n",
       "      <td>red</td>\n",
       "      <td>indigo</td>\n",
       "      <td>orange</td>\n",
       "      <td>191</td>\n",
       "      <td>55.964384</td>\n",
       "    </tr>\n",
       "    <tr>\n",
       "      <th>1</th>\n",
       "      <td>P086</td>\n",
       "      <td>Christopher Rodriguez</td>\n",
       "      <td>1978-10-03</td>\n",
       "      <td>second floor</td>\n",
       "      <td>indigo</td>\n",
       "      <td>indigo</td>\n",
       "      <td>green</td>\n",
       "      <td>198</td>\n",
       "      <td>45.969863</td>\n",
       "    </tr>\n",
       "    <tr>\n",
       "      <th>2</th>\n",
       "      <td>P022</td>\n",
       "      <td>Misty Ashley</td>\n",
       "      <td>1989-08-10</td>\n",
       "      <td>fourth floor</td>\n",
       "      <td>blue</td>\n",
       "      <td>red</td>\n",
       "      <td>violet</td>\n",
       "      <td>154</td>\n",
       "      <td>35.109589</td>\n",
       "    </tr>\n",
       "    <tr>\n",
       "      <th>3</th>\n",
       "      <td>P003</td>\n",
       "      <td>Amanda Brown</td>\n",
       "      <td>1995-10-27</td>\n",
       "      <td>lobby</td>\n",
       "      <td>green</td>\n",
       "      <td>blue</td>\n",
       "      <td>violet</td>\n",
       "      <td>158</td>\n",
       "      <td>28.893151</td>\n",
       "    </tr>\n",
       "    <tr>\n",
       "      <th>4</th>\n",
       "      <td>P036</td>\n",
       "      <td>William Jones</td>\n",
       "      <td>1990-02-26</td>\n",
       "      <td>fourth floor</td>\n",
       "      <td>blue</td>\n",
       "      <td>yellow</td>\n",
       "      <td>orange</td>\n",
       "      <td>184</td>\n",
       "      <td>34.561644</td>\n",
       "    </tr>\n",
       "  </tbody>\n",
       "</table>\n",
       "</div>"
      ],
      "text/plain": [
       "     ID                   Name   Birthday Location_during_crime Eye_Color  \\\n",
       "0  P299            James Mason 1968-10-07          fourth floor       red   \n",
       "1  P086  Christopher Rodriguez 1978-10-03          second floor    indigo   \n",
       "2  P022           Misty Ashley 1989-08-10          fourth floor      blue   \n",
       "3  P003           Amanda Brown 1995-10-27                 lobby     green   \n",
       "4  P036          William Jones 1990-02-26          fourth floor      blue   \n",
       "\n",
       "  Skin_Color Hair_Color  Height        Age  \n",
       "0     indigo     orange     191  55.964384  \n",
       "1     indigo      green     198  45.969863  \n",
       "2        red     violet     154  35.109589  \n",
       "3       blue     violet     158  28.893151  \n",
       "4     yellow     orange     184  34.561644  "
      ]
     },
     "execution_count": 12,
     "metadata": {},
     "output_type": "execute_result"
    }
   ],
   "source": [
    "# Write your code here\n",
    "eyeColorMap = profiles_df[['Skin_Color','Hair_Color','Eye_Color']].groupby(by=['Skin_Color','Hair_Color']).agg(pd.Series.mode)\n",
    "\n",
    "def fnx(row):\n",
    "    eye = eyeColorMap.loc[(row['Skin_Color'],row['Hair_Color'])].item()\n",
    "    if type(eye) == type(np.array([])):\n",
    "        return np.sort(eye)[0]\n",
    "    else:\n",
    "        return eye\n",
    "idx = profiles_df[profiles_df.Eye_Color.isna()].index\n",
    "\n",
    "profiles_df.loc[idx,'Eye_Color'] = profiles_df[profiles_df.Eye_Color.isna()].apply(fnx,axis=1)\n",
    "profiles_df.head()"
   ]
  },
  {
   "cell_type": "code",
   "execution_count": null,
   "metadata": {},
   "outputs": [],
   "source": []
  },
  {
   "cell_type": "markdown",
   "metadata": {
    "id": "k14ktiue0Tfi"
   },
   "source": [
    "\n",
    "## Q3) Finding the features of the culprit\n",
    "\n",
    "Now that we have successfully cleaned all of our data, lets begin finding the features of the criminal. Take a moment to look at the **\"Witnesses\"** table. We don't necessarily want all the statements from every single witness.\n",
    "\n",
    "**NOTE:** Take a look at the structure of each statement, notice how there are only a few variations of statements from the witnesses.\n",
    "\n",
    "**TASK 3.1 (5 Points):** Find all witnesses that were near the crime scene\n",
    "- First load in the Witness.csv file and set it to a variable called \"**witness_df**\"\n",
    "- create a new dataframe called **\"important_witnesses\"** that contains the id and the witness statements of those who were near the scene of the crime\n",
    "- display the new dataframe when you are finished\n",
    "- **HINT:** look at the floor which the crime happened on."
   ]
  },
  {
   "cell_type": "code",
   "execution_count": 20,
   "metadata": {
    "id": "ismbbFGWw2Hu"
   },
   "outputs": [
    {
     "data": {
      "text/plain": [
       "Location_during_crime\n",
       "fourth floor    79\n",
       "third floor     73\n",
       "second floor    71\n",
       "lobby           57\n",
       "Name: count, dtype: int64"
      ]
     },
     "execution_count": 20,
     "metadata": {},
     "output_type": "execute_result"
    }
   ],
   "source": [
    "# Write your code here\n",
    "witness_df = pd.read_csv(r\"C:\\Users\\asuto\\Desktop\\Master's\\Padhai\\DATA602 - Data Science\\DATA602_HW\\DATA602_FardinaAlam\\HW\\HW3\\Witness.csv\")\n",
    "profiles_df['Location_during_crime'].value_counts()"
   ]
  },
  {
   "cell_type": "code",
   "execution_count": 37,
   "metadata": {},
   "outputs": [
    {
     "data": {
      "text/html": [
       "<div>\n",
       "<style scoped>\n",
       "    .dataframe tbody tr th:only-of-type {\n",
       "        vertical-align: middle;\n",
       "    }\n",
       "\n",
       "    .dataframe tbody tr th {\n",
       "        vertical-align: top;\n",
       "    }\n",
       "\n",
       "    .dataframe thead th {\n",
       "        text-align: right;\n",
       "    }\n",
       "</style>\n",
       "<table border=\"1\" class=\"dataframe\">\n",
       "  <thead>\n",
       "    <tr style=\"text-align: right;\">\n",
       "      <th></th>\n",
       "      <th>ID</th>\n",
       "      <th>Statement</th>\n",
       "    </tr>\n",
       "  </thead>\n",
       "  <tbody>\n",
       "    <tr>\n",
       "      <th>2</th>\n",
       "      <td>P184</td>\n",
       "      <td>I saw someone with indigo skin acting suspicious.</td>\n",
       "    </tr>\n",
       "    <tr>\n",
       "      <th>4</th>\n",
       "      <td>P001</td>\n",
       "      <td>I saw someone with red hair acting suspicious.</td>\n",
       "    </tr>\n",
       "    <tr>\n",
       "      <th>6</th>\n",
       "      <td>P283</td>\n",
       "      <td>I saw someone that looks to be 20 years old ac...</td>\n",
       "    </tr>\n",
       "    <tr>\n",
       "      <th>7</th>\n",
       "      <td>P190</td>\n",
       "      <td>I saw someone with orange eyes acting suspicious.</td>\n",
       "    </tr>\n",
       "    <tr>\n",
       "      <th>10</th>\n",
       "      <td>P071</td>\n",
       "      <td>I saw someone with violet eyes acting suspicious.</td>\n",
       "    </tr>\n",
       "    <tr>\n",
       "      <th>...</th>\n",
       "      <td>...</td>\n",
       "      <td>...</td>\n",
       "    </tr>\n",
       "    <tr>\n",
       "      <th>292</th>\n",
       "      <td>P275</td>\n",
       "      <td>I saw someone that looks to be 24 years old ac...</td>\n",
       "    </tr>\n",
       "    <tr>\n",
       "      <th>293</th>\n",
       "      <td>P148</td>\n",
       "      <td>I saw someone with violet eyes acting suspicious.</td>\n",
       "    </tr>\n",
       "    <tr>\n",
       "      <th>294</th>\n",
       "      <td>P053</td>\n",
       "      <td>I saw someone with orange skin acting suspicious.</td>\n",
       "    </tr>\n",
       "    <tr>\n",
       "      <th>295</th>\n",
       "      <td>P123</td>\n",
       "      <td>I saw someone that looks to be 20 years old ac...</td>\n",
       "    </tr>\n",
       "    <tr>\n",
       "      <th>297</th>\n",
       "      <td>P238</td>\n",
       "      <td>I saw someone with yellow hair acting suspicious.</td>\n",
       "    </tr>\n",
       "  </tbody>\n",
       "</table>\n",
       "<p>64 rows × 2 columns</p>\n",
       "</div>"
      ],
      "text/plain": [
       "       ID                                          Statement\n",
       "2    P184  I saw someone with indigo skin acting suspicious.\n",
       "4    P001     I saw someone with red hair acting suspicious.\n",
       "6    P283  I saw someone that looks to be 20 years old ac...\n",
       "7    P190  I saw someone with orange eyes acting suspicious.\n",
       "10   P071  I saw someone with violet eyes acting suspicious.\n",
       "..    ...                                                ...\n",
       "292  P275  I saw someone that looks to be 24 years old ac...\n",
       "293  P148  I saw someone with violet eyes acting suspicious.\n",
       "294  P053  I saw someone with orange skin acting suspicious.\n",
       "295  P123  I saw someone that looks to be 20 years old ac...\n",
       "297  P238  I saw someone with yellow hair acting suspicious.\n",
       "\n",
       "[64 rows x 2 columns]"
      ]
     },
     "execution_count": 37,
     "metadata": {},
     "output_type": "execute_result"
    }
   ],
   "source": [
    "fnx = lambda row:True if 'third' in row['Location_during_crime'] else False\n",
    "tt = profiles_df[profiles_df['Location_during_crime'].notna()].apply(fnx,axis=1)\n",
    "idx = tt[tt==True].index\n",
    "\n",
    "important_witnesses = witness_df[witness_df.ID.isin(profiles_df.iloc[idx]['ID'])]\n",
    "important_witnesses"
   ]
  },
  {
   "cell_type": "markdown",
   "metadata": {
    "id": "OHirO_rbw8fV"
   },
   "source": [
    "**TASK 3.2 (10 Points):** Find every potential eye color that the culprit could have\n",
    "\n",
    " - Put all the potential eye colors of the culprit in a list called **\"potential_eye_colors\"** and display it when you're done. potential_eye_colors should have **no duplicates.**"
   ]
  },
  {
   "cell_type": "code",
   "execution_count": 109,
   "metadata": {
    "id": "iNG-V7QFw9aO"
   },
   "outputs": [
    {
     "data": {
      "text/plain": [
       "['orange', 'violet', 'red', 'blue']"
      ]
     },
     "execution_count": 109,
     "metadata": {},
     "output_type": "execute_result"
    }
   ],
   "source": [
    "# Write your code here\n",
    "potential_eye_colors = []\n",
    "\n",
    "for _,row in important_witnesses.iterrows():\n",
    "    statement = row['Statement']\n",
    "    if 'eyes' in statement.split():\n",
    "        flag = statement.split().index('eyes')\n",
    "        color = statement.split()[flag-1]\n",
    "        if color not in potential_eye_colors:\n",
    "            potential_eye_colors.append(color)\n",
    "potential_eye_colors"
   ]
  },
  {
   "cell_type": "markdown",
   "metadata": {
    "id": "3NaknJWew5P1"
   },
   "source": [
    "**TASK 3.3 (5 Points):** Find every potential hair color that the culprit could have\n",
    "\n",
    " - Put all the potential hair colors of the culprit in a list called **\"potential_hair_colors\"** and display it when you're done"
   ]
  },
  {
   "cell_type": "code",
   "execution_count": 110,
   "metadata": {
    "id": "7ptAepng3aBc"
   },
   "outputs": [
    {
     "data": {
      "text/plain": [
       "['red', 'violet', 'orange', 'yellow', 'green', 'indigo', 'blue']"
      ]
     },
     "execution_count": 110,
     "metadata": {},
     "output_type": "execute_result"
    }
   ],
   "source": [
    "# Write your code here\n",
    "\n",
    "potential_hair_colors = []\n",
    "\n",
    "for _,row in important_witnesses.iterrows():\n",
    "    statement = row['Statement']\n",
    "    if 'hair' in statement.split():\n",
    "        # print(statement)\n",
    "        flag = statement.split().index('hair')\n",
    "        color = statement.split()[flag-1]\n",
    "        if color not in potential_hair_colors:\n",
    "            potential_hair_colors.append(color)\n",
    "potential_hair_colors"
   ]
  },
  {
   "cell_type": "markdown",
   "metadata": {
    "id": "ID0tGLC_3bfv"
   },
   "source": [
    "**TASK 3.4 (5 Points):** Find every potential skin color that the culprit could have\n",
    "\n",
    " - Put all the potential skin colors of the culprit in a list called **\"potential_skin_colors\"** and display it when you're done"
   ]
  },
  {
   "cell_type": "code",
   "execution_count": 111,
   "metadata": {
    "id": "9S0_khng3fZ7"
   },
   "outputs": [
    {
     "data": {
      "text/plain": [
       "['indigo', 'green', 'blue', 'red', 'violet', 'orange']"
      ]
     },
     "execution_count": 111,
     "metadata": {},
     "output_type": "execute_result"
    }
   ],
   "source": [
    "potential_skin_colors = []\n",
    "\n",
    "for _,row in important_witnesses.iterrows():\n",
    "    statement = row['Statement']\n",
    "    if 'skin' in statement.split():\n",
    "        # print(statement)\n",
    "        flag = statement.split().index('skin')\n",
    "        color = statement.split()[flag-1]\n",
    "        if color not in potential_skin_colors:\n",
    "            potential_skin_colors.append(color)\n",
    "potential_skin_colors"
   ]
  },
  {
   "cell_type": "markdown",
   "metadata": {
    "id": "jU8OT78q3t73"
   },
   "source": [
    "**TASK 3.5 (10 Points):** Find the potential height of the culprit\n",
    "\n",
    " - Put the smallest and largest potential heights of the culprit in the variables called **\"smallest_height\" & \"largest_height\"** and display them when you are done"
   ]
  },
  {
   "cell_type": "code",
   "execution_count": 112,
   "metadata": {
    "id": "Hz4sYBQe3zMT"
   },
   "outputs": [
    {
     "name": "stdout",
     "output_type": "stream",
     "text": [
      "Smallest Height: 150\n",
      "Largest Height: 200\n"
     ]
    }
   ],
   "source": [
    "# Write your code here\n",
    "smallest_height,largest_height = profiles_df[(profiles_df.Eye_Color.isin(potential_eye_colors))|(profiles_df.Eye_Color.isin(potential_hair_colors))|(profiles_df.Eye_Color.isin(potential_skin_colors))].Height.agg(['min','max'])\n",
    "smallest_height,largest_height\n",
    "\n",
    "print(\"Smallest Height:\",smallest_height)\n",
    "print(\"Largest Height:\",largest_height)"
   ]
  },
  {
   "cell_type": "markdown",
   "metadata": {
    "id": "n3bjueSr4LxH"
   },
   "source": [
    "**TASK 3.6 (8 Points):** Find the potential age of the culprit\n",
    "\n",
    " - Put the smallest and largest potential age of the culprit in the variables called **\"smallest_age\" & \"largest_age\"** and display them when you are done"
   ]
  },
  {
   "cell_type": "code",
   "execution_count": 113,
   "metadata": {
    "id": "fP0uPiGP4VgW"
   },
   "outputs": [
    {
     "name": "stdout",
     "output_type": "stream",
     "text": [
      "Smallest Height: 18.564383561643837\n",
      "Largest Height: 66.34520547945205\n"
     ]
    }
   ],
   "source": [
    "# Write your code here\n",
    "smallest_age,largest_age = profiles_df[(profiles_df.Eye_Color.isin(potential_eye_colors))|(profiles_df.Eye_Color.isin(potential_hair_colors))|(profiles_df.Eye_Color.isin(potential_skin_colors))].Age.agg(['min','max'])\n",
    "smallest_age,largest_age\n",
    "\n",
    "print(\"Smallest Height:\",smallest_age)\n",
    "print(\"Largest Height:\",largest_age)"
   ]
  },
  {
   "cell_type": "markdown",
   "metadata": {
    "id": "-T28JmmF4uIs"
   },
   "source": [
    "## Q4) Finding who ones the ticket"
   ]
  },
  {
   "cell_type": "markdown",
   "metadata": {
    "id": "dSTwOUrC4vy6"
   },
   "source": [
    "**TASK 4.1 (2 Points):** Loading final dfs\n",
    "\n",
    "\n",
    "Load in the **\"Zichao's Magic Show.csv\"** into a dataframe called **\"show_df\"** and the **\"Interrogation_Statement.csv\"** into a dataframe called **\"interrogation_df\"** respectively and display them when you are done"
   ]
  },
  {
   "cell_type": "code",
   "execution_count": 114,
   "metadata": {
    "id": "zpD9aMsK49Or"
   },
   "outputs": [
    {
     "data": {
      "text/html": [
       "<div>\n",
       "<style scoped>\n",
       "    .dataframe tbody tr th:only-of-type {\n",
       "        vertical-align: middle;\n",
       "    }\n",
       "\n",
       "    .dataframe tbody tr th {\n",
       "        vertical-align: top;\n",
       "    }\n",
       "\n",
       "    .dataframe thead th {\n",
       "        text-align: right;\n",
       "    }\n",
       "</style>\n",
       "<table border=\"1\" class=\"dataframe\">\n",
       "  <thead>\n",
       "    <tr style=\"text-align: right;\">\n",
       "      <th></th>\n",
       "      <th>ID</th>\n",
       "      <th>Ticket_Number</th>\n",
       "    </tr>\n",
       "  </thead>\n",
       "  <tbody>\n",
       "    <tr>\n",
       "      <th>0</th>\n",
       "      <td>P132</td>\n",
       "      <td>50269975</td>\n",
       "    </tr>\n",
       "    <tr>\n",
       "      <th>1</th>\n",
       "      <td>P056</td>\n",
       "      <td>28120732</td>\n",
       "    </tr>\n",
       "    <tr>\n",
       "      <th>2</th>\n",
       "      <td>P250</td>\n",
       "      <td>88051289</td>\n",
       "    </tr>\n",
       "    <tr>\n",
       "      <th>3</th>\n",
       "      <td>P197</td>\n",
       "      <td>79545169</td>\n",
       "    </tr>\n",
       "    <tr>\n",
       "      <th>4</th>\n",
       "      <td>P012</td>\n",
       "      <td>83521845</td>\n",
       "    </tr>\n",
       "  </tbody>\n",
       "</table>\n",
       "</div>"
      ],
      "text/plain": [
       "     ID  Ticket_Number\n",
       "0  P132       50269975\n",
       "1  P056       28120732\n",
       "2  P250       88051289\n",
       "3  P197       79545169\n",
       "4  P012       83521845"
      ]
     },
     "execution_count": 114,
     "metadata": {},
     "output_type": "execute_result"
    }
   ],
   "source": [
    "# Write your code here\n",
    "show_df = pd.read_csv(r\"C:\\Users\\asuto\\Desktop\\Master's\\Padhai\\DATA602 - Data Science\\DATA602_HW\\DATA602_FardinaAlam\\HW\\HW3\\Zichao_s Magic Show.csv\")\n",
    "interrogation_df = pd.read_csv(r\"C:\\Users\\asuto\\Desktop\\Master's\\Padhai\\DATA602 - Data Science\\DATA602_HW\\DATA602_FardinaAlam\\HW\\HW3\\Interrogation_Statements.csv\")\n",
    "\n",
    "show_df.head()"
   ]
  },
  {
   "cell_type": "code",
   "execution_count": 115,
   "metadata": {},
   "outputs": [
    {
     "data": {
      "text/html": [
       "<div>\n",
       "<style scoped>\n",
       "    .dataframe tbody tr th:only-of-type {\n",
       "        vertical-align: middle;\n",
       "    }\n",
       "\n",
       "    .dataframe tbody tr th {\n",
       "        vertical-align: top;\n",
       "    }\n",
       "\n",
       "    .dataframe thead th {\n",
       "        text-align: right;\n",
       "    }\n",
       "</style>\n",
       "<table border=\"1\" class=\"dataframe\">\n",
       "  <thead>\n",
       "    <tr style=\"text-align: right;\">\n",
       "      <th></th>\n",
       "      <th>Name</th>\n",
       "      <th>Statement</th>\n",
       "    </tr>\n",
       "  </thead>\n",
       "  <tbody>\n",
       "    <tr>\n",
       "      <th>0</th>\n",
       "      <td>Jennifer Mccoy</td>\n",
       "      <td>Stealing? That's not in my nature at all. I re...</td>\n",
       "    </tr>\n",
       "    <tr>\n",
       "      <th>1</th>\n",
       "      <td>Karina Gray</td>\n",
       "      <td>Stealing? That's not in my nature at all. I re...</td>\n",
       "    </tr>\n",
       "    <tr>\n",
       "      <th>2</th>\n",
       "      <td>Craig Espinoza</td>\n",
       "      <td>I was busy with my project presentation in ano...</td>\n",
       "    </tr>\n",
       "    <tr>\n",
       "      <th>3</th>\n",
       "      <td>Michael Mendez</td>\n",
       "      <td>I had back-to-back exams that day. Stealing Dr...</td>\n",
       "    </tr>\n",
       "    <tr>\n",
       "      <th>4</th>\n",
       "      <td>Tara Thompson</td>\n",
       "      <td>I wasn't even on campus that day. Check the at...</td>\n",
       "    </tr>\n",
       "  </tbody>\n",
       "</table>\n",
       "</div>"
      ],
      "text/plain": [
       "             Name                                          Statement\n",
       "0  Jennifer Mccoy  Stealing? That's not in my nature at all. I re...\n",
       "1     Karina Gray  Stealing? That's not in my nature at all. I re...\n",
       "2  Craig Espinoza  I was busy with my project presentation in ano...\n",
       "3  Michael Mendez  I had back-to-back exams that day. Stealing Dr...\n",
       "4   Tara Thompson  I wasn't even on campus that day. Check the at..."
      ]
     },
     "execution_count": 115,
     "metadata": {},
     "output_type": "execute_result"
    }
   ],
   "source": [
    "interrogation_df.head()"
   ]
  },
  {
   "cell_type": "markdown",
   "metadata": {
    "id": "KRzcduTO5fTe"
   },
   "source": [
    "\n",
    "**TASK 4.2 (8 Points):** Create a column called **Ticket_Color** for the **\"show_df\"** that displays all the colors of the ticket\n",
    "\n",
    "Remember that there was a show ticket left at the crime scene, take a second to look through **\"show_df\"**. Try and find a way to identify how you can find the ticket color from the ticket number.\n",
    "\n",
    "display the **\"show_df\"** when you are done\n",
    "\n",
    "**HINT:** examine the **\"interogation_df\"**"
   ]
  },
  {
   "cell_type": "code",
   "execution_count": 116,
   "metadata": {
    "id": "b9JAdRin8rWX"
   },
   "outputs": [
    {
     "data": {
      "text/plain": [
       "Statement\n",
       "I was busy with my project presentation in another building. I didn't even step into Dr. Fardina's room.    120\n",
       "Stealing? That's not in my nature at all. I respect everyone's property, especially Dr. Fardina's.          118\n",
       "I had back-to-back exams that day. Stealing Dr. Fardina's marker would be the last thing on my mind!        115\n",
       "Why would I need to steal a marker? I have plenty of my own. This accusation is absurd.                     106\n",
       "I wasn't even on campus that day. Check the attendance logs; you won't find my name.                         38\n",
       "We don't keep track of ticket colors, but my business partner Elizabeth Uiq might know how to find it!        1\n",
       "Sum the individual #s in ticket numbers, look at the rightmost value, 0-2:B, 3-5:R , 6-7:G, 8-9:Y             1\n",
       "Fardina's Markers were just too dang cool :( I saw them and I knew I had to have them. >:( arrest me          1\n",
       "Name: count, dtype: int64"
      ]
     },
     "execution_count": 116,
     "metadata": {},
     "output_type": "execute_result"
    }
   ],
   "source": [
    "# Write your code here\n",
    "interrogation_df['Statement'].value_counts()"
   ]
  },
  {
   "cell_type": "code",
   "execution_count": 117,
   "metadata": {},
   "outputs": [
    {
     "data": {
      "text/html": [
       "<div>\n",
       "<style scoped>\n",
       "    .dataframe tbody tr th:only-of-type {\n",
       "        vertical-align: middle;\n",
       "    }\n",
       "\n",
       "    .dataframe tbody tr th {\n",
       "        vertical-align: top;\n",
       "    }\n",
       "\n",
       "    .dataframe thead th {\n",
       "        text-align: right;\n",
       "    }\n",
       "</style>\n",
       "<table border=\"1\" class=\"dataframe\">\n",
       "  <thead>\n",
       "    <tr style=\"text-align: right;\">\n",
       "      <th></th>\n",
       "      <th>ID</th>\n",
       "      <th>Ticket_Number</th>\n",
       "      <th>Ticket_Color</th>\n",
       "    </tr>\n",
       "  </thead>\n",
       "  <tbody>\n",
       "    <tr>\n",
       "      <th>0</th>\n",
       "      <td>P132</td>\n",
       "      <td>50269975</td>\n",
       "      <td>R</td>\n",
       "    </tr>\n",
       "    <tr>\n",
       "      <th>1</th>\n",
       "      <td>P056</td>\n",
       "      <td>28120732</td>\n",
       "      <td>R</td>\n",
       "    </tr>\n",
       "    <tr>\n",
       "      <th>2</th>\n",
       "      <td>P250</td>\n",
       "      <td>88051289</td>\n",
       "      <td>B</td>\n",
       "    </tr>\n",
       "    <tr>\n",
       "      <th>3</th>\n",
       "      <td>P197</td>\n",
       "      <td>79545169</td>\n",
       "      <td>G</td>\n",
       "    </tr>\n",
       "    <tr>\n",
       "      <th>4</th>\n",
       "      <td>P012</td>\n",
       "      <td>83521845</td>\n",
       "      <td>G</td>\n",
       "    </tr>\n",
       "  </tbody>\n",
       "</table>\n",
       "</div>"
      ],
      "text/plain": [
       "     ID  Ticket_Number Ticket_Color\n",
       "0  P132       50269975            R\n",
       "1  P056       28120732            R\n",
       "2  P250       88051289            B\n",
       "3  P197       79545169            G\n",
       "4  P012       83521845            G"
      ]
     },
     "execution_count": 117,
     "metadata": {},
     "output_type": "execute_result"
    }
   ],
   "source": [
    "def fnx(row):\n",
    "    summ = 0\n",
    "    for i in str(row):\n",
    "        summ += int(i)\n",
    "    rightMost = summ%10\n",
    "    if rightMost>=0 and rightMost<=2:\n",
    "        return 'B'\n",
    "    elif rightMost>=3 and rightMost<=5:\n",
    "        return 'R'\n",
    "    elif rightMost>=6 and rightMost<=7:\n",
    "        return 'G'\n",
    "    return 'Y'\n",
    "    \n",
    "show_df = show_df.assign(Ticket_Color = show_df['Ticket_Number'].apply(fnx))\n",
    "show_df.head()"
   ]
  },
  {
   "cell_type": "markdown",
   "metadata": {
    "id": "oRbVWV7K8uD-"
   },
   "source": [
    "## Q5) Finding the culprit\n",
    "\n",
    "A helpful function might be the \"iloc\" function. Have a look at: https://pandas.pydata.org/pandas-docs/stable/reference/api/pandas.DataFrame.iloc.html"
   ]
  },
  {
   "cell_type": "markdown",
   "metadata": {
    "id": "8zcamGVmAKOp"
   },
   "source": [
    "**TASK 5.1(10 Points):** Using all the data compiled from before find a person that matches all the features from the profile\n",
    "\n",
    "- put the name of the culprit in a variable called **\"culprit\"**"
   ]
  },
  {
   "cell_type": "code",
   "execution_count": 122,
   "metadata": {
    "id": "atnueiYN_DsX"
   },
   "outputs": [
    {
     "data": {
      "text/html": [
       "<div>\n",
       "<style scoped>\n",
       "    .dataframe tbody tr th:only-of-type {\n",
       "        vertical-align: middle;\n",
       "    }\n",
       "\n",
       "    .dataframe tbody tr th {\n",
       "        vertical-align: top;\n",
       "    }\n",
       "\n",
       "    .dataframe thead th {\n",
       "        text-align: right;\n",
       "    }\n",
       "</style>\n",
       "<table border=\"1\" class=\"dataframe\">\n",
       "  <thead>\n",
       "    <tr style=\"text-align: right;\">\n",
       "      <th></th>\n",
       "      <th>ID</th>\n",
       "      <th>Ticket_Number</th>\n",
       "      <th>Ticket_Color</th>\n",
       "    </tr>\n",
       "  </thead>\n",
       "  <tbody>\n",
       "    <tr>\n",
       "      <th>0</th>\n",
       "      <td>P132</td>\n",
       "      <td>50269975</td>\n",
       "      <td>R</td>\n",
       "    </tr>\n",
       "    <tr>\n",
       "      <th>1</th>\n",
       "      <td>P056</td>\n",
       "      <td>28120732</td>\n",
       "      <td>R</td>\n",
       "    </tr>\n",
       "    <tr>\n",
       "      <th>5</th>\n",
       "      <td>P033</td>\n",
       "      <td>22058855</td>\n",
       "      <td>R</td>\n",
       "    </tr>\n",
       "    <tr>\n",
       "      <th>12</th>\n",
       "      <td>P111</td>\n",
       "      <td>87338906</td>\n",
       "      <td>R</td>\n",
       "    </tr>\n",
       "    <tr>\n",
       "      <th>15</th>\n",
       "      <td>P259</td>\n",
       "      <td>28602637</td>\n",
       "      <td>R</td>\n",
       "    </tr>\n",
       "  </tbody>\n",
       "</table>\n",
       "</div>"
      ],
      "text/plain": [
       "      ID  Ticket_Number Ticket_Color\n",
       "0   P132       50269975            R\n",
       "1   P056       28120732            R\n",
       "5   P033       22058855            R\n",
       "12  P111       87338906            R\n",
       "15  P259       28602637            R"
      ]
     },
     "execution_count": 122,
     "metadata": {},
     "output_type": "execute_result"
    }
   ],
   "source": [
    "# Write your code here\n",
    "redTix = show_df[show_df.Ticket_Color=='R']\n",
    "redTix.head()\n",
    "# profiles_df[(profiles_df.ID.isin(show_df[show_df.Ticket_Color=='R']['ID']))]"
   ]
  },
  {
   "cell_type": "code",
   "execution_count": 119,
   "metadata": {},
   "outputs": [
    {
     "data": {
      "text/plain": [
       "(['orange', 'violet', 'red', 'blue'],\n",
       " ['red', 'violet', 'orange', 'yellow', 'green', 'indigo', 'blue'],\n",
       " ['indigo', 'green', 'blue', 'red', 'violet', 'orange'],\n",
       " 150,\n",
       " 200,\n",
       " 18.564383561643837,\n",
       " 66.34520547945205)"
      ]
     },
     "execution_count": 119,
     "metadata": {},
     "output_type": "execute_result"
    }
   ],
   "source": [
    "potential_eye_colors,potential_hair_colors,potential_skin_colors,smallest_height,largest_height,smallest_age,largest_age"
   ]
  },
  {
   "cell_type": "code",
   "execution_count": 125,
   "metadata": {},
   "outputs": [
    {
     "data": {
      "text/html": [
       "<div>\n",
       "<style scoped>\n",
       "    .dataframe tbody tr th:only-of-type {\n",
       "        vertical-align: middle;\n",
       "    }\n",
       "\n",
       "    .dataframe tbody tr th {\n",
       "        vertical-align: top;\n",
       "    }\n",
       "\n",
       "    .dataframe thead th {\n",
       "        text-align: right;\n",
       "    }\n",
       "</style>\n",
       "<table border=\"1\" class=\"dataframe\">\n",
       "  <thead>\n",
       "    <tr style=\"text-align: right;\">\n",
       "      <th></th>\n",
       "      <th>ID</th>\n",
       "      <th>Name</th>\n",
       "      <th>Birthday</th>\n",
       "      <th>Location_during_crime</th>\n",
       "      <th>Eye_Color</th>\n",
       "      <th>Skin_Color</th>\n",
       "      <th>Hair_Color</th>\n",
       "      <th>Height</th>\n",
       "      <th>Age</th>\n",
       "    </tr>\n",
       "  </thead>\n",
       "  <tbody>\n",
       "    <tr>\n",
       "      <th>16</th>\n",
       "      <td>P224</td>\n",
       "      <td>Heather Stone</td>\n",
       "      <td>1989-08-08</td>\n",
       "      <td>second floor</td>\n",
       "      <td>violet</td>\n",
       "      <td>green</td>\n",
       "      <td>violet</td>\n",
       "      <td>182</td>\n",
       "      <td>35.115068</td>\n",
       "    </tr>\n",
       "    <tr>\n",
       "      <th>42</th>\n",
       "      <td>P098</td>\n",
       "      <td>Ronald Boyer</td>\n",
       "      <td>1986-04-21</td>\n",
       "      <td>NaN</td>\n",
       "      <td>orange</td>\n",
       "      <td>indigo</td>\n",
       "      <td>indigo</td>\n",
       "      <td>157</td>\n",
       "      <td>38.416438</td>\n",
       "    </tr>\n",
       "    <tr>\n",
       "      <th>48</th>\n",
       "      <td>P166</td>\n",
       "      <td>Adrian Black</td>\n",
       "      <td>1976-01-13</td>\n",
       "      <td>fourth floor</td>\n",
       "      <td>red</td>\n",
       "      <td>violet</td>\n",
       "      <td>yellow</td>\n",
       "      <td>176</td>\n",
       "      <td>48.693151</td>\n",
       "    </tr>\n",
       "    <tr>\n",
       "      <th>70</th>\n",
       "      <td>P265</td>\n",
       "      <td>Jason Fischer</td>\n",
       "      <td>1989-02-25</td>\n",
       "      <td>fourth floor</td>\n",
       "      <td>violet</td>\n",
       "      <td>indigo</td>\n",
       "      <td>red</td>\n",
       "      <td>181</td>\n",
       "      <td>35.564384</td>\n",
       "    </tr>\n",
       "    <tr>\n",
       "      <th>77</th>\n",
       "      <td>P132</td>\n",
       "      <td>Amanda Morales</td>\n",
       "      <td>1971-07-22</td>\n",
       "      <td>NaN</td>\n",
       "      <td>violet</td>\n",
       "      <td>blue</td>\n",
       "      <td>green</td>\n",
       "      <td>192</td>\n",
       "      <td>53.175342</td>\n",
       "    </tr>\n",
       "    <tr>\n",
       "      <th>85</th>\n",
       "      <td>P084</td>\n",
       "      <td>Colleen Hogan</td>\n",
       "      <td>1963-05-22</td>\n",
       "      <td>second floor</td>\n",
       "      <td>violet</td>\n",
       "      <td>violet</td>\n",
       "      <td>indigo</td>\n",
       "      <td>183</td>\n",
       "      <td>61.347945</td>\n",
       "    </tr>\n",
       "    <tr>\n",
       "      <th>108</th>\n",
       "      <td>P137</td>\n",
       "      <td>David Collins</td>\n",
       "      <td>1988-09-08</td>\n",
       "      <td>third floor</td>\n",
       "      <td>red</td>\n",
       "      <td>blue</td>\n",
       "      <td>yellow</td>\n",
       "      <td>198</td>\n",
       "      <td>36.030137</td>\n",
       "    </tr>\n",
       "    <tr>\n",
       "      <th>110</th>\n",
       "      <td>P166</td>\n",
       "      <td>Adrian Black</td>\n",
       "      <td>1976-01-13</td>\n",
       "      <td>fourth floor</td>\n",
       "      <td>red</td>\n",
       "      <td>violet</td>\n",
       "      <td>yellow</td>\n",
       "      <td>176</td>\n",
       "      <td>48.693151</td>\n",
       "    </tr>\n",
       "    <tr>\n",
       "      <th>143</th>\n",
       "      <td>P133</td>\n",
       "      <td>Patrick Farrell</td>\n",
       "      <td>2001-12-10</td>\n",
       "      <td>second floor</td>\n",
       "      <td>orange</td>\n",
       "      <td>indigo</td>\n",
       "      <td>green</td>\n",
       "      <td>163</td>\n",
       "      <td>22.767123</td>\n",
       "    </tr>\n",
       "    <tr>\n",
       "      <th>145</th>\n",
       "      <td>P137</td>\n",
       "      <td>David Collins</td>\n",
       "      <td>1988-09-08</td>\n",
       "      <td>third floor</td>\n",
       "      <td>red</td>\n",
       "      <td>blue</td>\n",
       "      <td>yellow</td>\n",
       "      <td>198</td>\n",
       "      <td>36.030137</td>\n",
       "    </tr>\n",
       "    <tr>\n",
       "      <th>146</th>\n",
       "      <td>P199</td>\n",
       "      <td>Mr. Christian Boyd</td>\n",
       "      <td>1960-05-21</td>\n",
       "      <td>lobby</td>\n",
       "      <td>red</td>\n",
       "      <td>violet</td>\n",
       "      <td>indigo</td>\n",
       "      <td>155</td>\n",
       "      <td>64.350685</td>\n",
       "    </tr>\n",
       "    <tr>\n",
       "      <th>147</th>\n",
       "      <td>P180</td>\n",
       "      <td>Michael Lee</td>\n",
       "      <td>1987-10-15</td>\n",
       "      <td>fourth floor</td>\n",
       "      <td>red</td>\n",
       "      <td>orange</td>\n",
       "      <td>red</td>\n",
       "      <td>197</td>\n",
       "      <td>36.931507</td>\n",
       "    </tr>\n",
       "    <tr>\n",
       "      <th>164</th>\n",
       "      <td>P283</td>\n",
       "      <td>Malik Perez</td>\n",
       "      <td>1993-08-06</td>\n",
       "      <td>third floor</td>\n",
       "      <td>orange</td>\n",
       "      <td>blue</td>\n",
       "      <td>yellow</td>\n",
       "      <td>197</td>\n",
       "      <td>31.117808</td>\n",
       "    </tr>\n",
       "    <tr>\n",
       "      <th>178</th>\n",
       "      <td>P056</td>\n",
       "      <td>Rachel Alexander</td>\n",
       "      <td>1987-01-23</td>\n",
       "      <td>fourth floor</td>\n",
       "      <td>blue</td>\n",
       "      <td>blue</td>\n",
       "      <td>blue</td>\n",
       "      <td>184</td>\n",
       "      <td>37.657534</td>\n",
       "    </tr>\n",
       "    <tr>\n",
       "      <th>195</th>\n",
       "      <td>P095</td>\n",
       "      <td>Cassandra Anderson</td>\n",
       "      <td>1995-04-12</td>\n",
       "      <td>lobby</td>\n",
       "      <td>orange</td>\n",
       "      <td>red</td>\n",
       "      <td>red</td>\n",
       "      <td>181</td>\n",
       "      <td>29.435616</td>\n",
       "    </tr>\n",
       "    <tr>\n",
       "      <th>198</th>\n",
       "      <td>P133</td>\n",
       "      <td>Patrick Farrell</td>\n",
       "      <td>2001-12-10</td>\n",
       "      <td>second floor</td>\n",
       "      <td>orange</td>\n",
       "      <td>indigo</td>\n",
       "      <td>green</td>\n",
       "      <td>163</td>\n",
       "      <td>22.767123</td>\n",
       "    </tr>\n",
       "    <tr>\n",
       "      <th>205</th>\n",
       "      <td>P020</td>\n",
       "      <td>Steven Wu</td>\n",
       "      <td>1973-04-27</td>\n",
       "      <td>second floor</td>\n",
       "      <td>red</td>\n",
       "      <td>green</td>\n",
       "      <td>green</td>\n",
       "      <td>162</td>\n",
       "      <td>51.408219</td>\n",
       "    </tr>\n",
       "    <tr>\n",
       "      <th>207</th>\n",
       "      <td>P132</td>\n",
       "      <td>Amanda Morales</td>\n",
       "      <td>1971-07-22</td>\n",
       "      <td>NaN</td>\n",
       "      <td>violet</td>\n",
       "      <td>blue</td>\n",
       "      <td>green</td>\n",
       "      <td>192</td>\n",
       "      <td>53.175342</td>\n",
       "    </tr>\n",
       "    <tr>\n",
       "      <th>256</th>\n",
       "      <td>P282</td>\n",
       "      <td>Anne Butler</td>\n",
       "      <td>1970-01-22</td>\n",
       "      <td>third floor</td>\n",
       "      <td>orange</td>\n",
       "      <td>violet</td>\n",
       "      <td>green</td>\n",
       "      <td>175</td>\n",
       "      <td>54.671233</td>\n",
       "    </tr>\n",
       "    <tr>\n",
       "      <th>270</th>\n",
       "      <td>P024</td>\n",
       "      <td>Jason Hoffman</td>\n",
       "      <td>1990-10-18</td>\n",
       "      <td>second floor</td>\n",
       "      <td>violet</td>\n",
       "      <td>red</td>\n",
       "      <td>red</td>\n",
       "      <td>178</td>\n",
       "      <td>33.920548</td>\n",
       "    </tr>\n",
       "    <tr>\n",
       "      <th>283</th>\n",
       "      <td>P202</td>\n",
       "      <td>Ishan Kar</td>\n",
       "      <td>1990-07-12</td>\n",
       "      <td>second floor</td>\n",
       "      <td>orange</td>\n",
       "      <td>green</td>\n",
       "      <td>blue</td>\n",
       "      <td>170</td>\n",
       "      <td>34.189041</td>\n",
       "    </tr>\n",
       "    <tr>\n",
       "      <th>293</th>\n",
       "      <td>P099</td>\n",
       "      <td>Abigail Nelson</td>\n",
       "      <td>1968-08-01</td>\n",
       "      <td>lobby</td>\n",
       "      <td>blue</td>\n",
       "      <td>violet</td>\n",
       "      <td>green</td>\n",
       "      <td>180</td>\n",
       "      <td>56.147945</td>\n",
       "    </tr>\n",
       "    <tr>\n",
       "      <th>295</th>\n",
       "      <td>P226</td>\n",
       "      <td>Paul Mejia DDS</td>\n",
       "      <td>1976-12-13</td>\n",
       "      <td>lobby</td>\n",
       "      <td>red</td>\n",
       "      <td>indigo</td>\n",
       "      <td>yellow</td>\n",
       "      <td>155</td>\n",
       "      <td>47.775342</td>\n",
       "    </tr>\n",
       "    <tr>\n",
       "      <th>300</th>\n",
       "      <td>P247</td>\n",
       "      <td>Charles Jones</td>\n",
       "      <td>1976-08-10</td>\n",
       "      <td>NaN</td>\n",
       "      <td>orange</td>\n",
       "      <td>indigo</td>\n",
       "      <td>red</td>\n",
       "      <td>159</td>\n",
       "      <td>48.117808</td>\n",
       "    </tr>\n",
       "    <tr>\n",
       "      <th>323</th>\n",
       "      <td>P114</td>\n",
       "      <td>Stephanie Lam</td>\n",
       "      <td>2004-07-03</td>\n",
       "      <td>second floor</td>\n",
       "      <td>red</td>\n",
       "      <td>orange</td>\n",
       "      <td>indigo</td>\n",
       "      <td>183</td>\n",
       "      <td>20.202740</td>\n",
       "    </tr>\n",
       "    <tr>\n",
       "      <th>325</th>\n",
       "      <td>P092</td>\n",
       "      <td>Pamela Salas</td>\n",
       "      <td>2002-06-29</td>\n",
       "      <td>NaN</td>\n",
       "      <td>red</td>\n",
       "      <td>indigo</td>\n",
       "      <td>yellow</td>\n",
       "      <td>187</td>\n",
       "      <td>22.216438</td>\n",
       "    </tr>\n",
       "  </tbody>\n",
       "</table>\n",
       "</div>"
      ],
      "text/plain": [
       "       ID                Name   Birthday Location_during_crime Eye_Color  \\\n",
       "16   P224       Heather Stone 1989-08-08          second floor    violet   \n",
       "42   P098        Ronald Boyer 1986-04-21                   NaN    orange   \n",
       "48   P166        Adrian Black 1976-01-13          fourth floor       red   \n",
       "70   P265       Jason Fischer 1989-02-25          fourth floor    violet   \n",
       "77   P132      Amanda Morales 1971-07-22                   NaN    violet   \n",
       "85   P084       Colleen Hogan 1963-05-22          second floor    violet   \n",
       "108  P137       David Collins 1988-09-08           third floor       red   \n",
       "110  P166        Adrian Black 1976-01-13          fourth floor       red   \n",
       "143  P133     Patrick Farrell 2001-12-10          second floor    orange   \n",
       "145  P137       David Collins 1988-09-08           third floor       red   \n",
       "146  P199  Mr. Christian Boyd 1960-05-21                 lobby       red   \n",
       "147  P180         Michael Lee 1987-10-15          fourth floor       red   \n",
       "164  P283         Malik Perez 1993-08-06           third floor    orange   \n",
       "178  P056    Rachel Alexander 1987-01-23          fourth floor      blue   \n",
       "195  P095  Cassandra Anderson 1995-04-12                 lobby    orange   \n",
       "198  P133     Patrick Farrell 2001-12-10          second floor    orange   \n",
       "205  P020           Steven Wu 1973-04-27          second floor       red   \n",
       "207  P132      Amanda Morales 1971-07-22                   NaN    violet   \n",
       "256  P282         Anne Butler 1970-01-22           third floor    orange   \n",
       "270  P024       Jason Hoffman 1990-10-18          second floor    violet   \n",
       "283  P202           Ishan Kar 1990-07-12          second floor    orange   \n",
       "293  P099      Abigail Nelson 1968-08-01                 lobby      blue   \n",
       "295  P226      Paul Mejia DDS 1976-12-13                 lobby       red   \n",
       "300  P247       Charles Jones 1976-08-10                   NaN    orange   \n",
       "323  P114       Stephanie Lam 2004-07-03          second floor       red   \n",
       "325  P092        Pamela Salas 2002-06-29                   NaN       red   \n",
       "\n",
       "    Skin_Color Hair_Color  Height        Age  \n",
       "16       green     violet     182  35.115068  \n",
       "42      indigo     indigo     157  38.416438  \n",
       "48      violet     yellow     176  48.693151  \n",
       "70      indigo        red     181  35.564384  \n",
       "77        blue      green     192  53.175342  \n",
       "85      violet     indigo     183  61.347945  \n",
       "108       blue     yellow     198  36.030137  \n",
       "110     violet     yellow     176  48.693151  \n",
       "143     indigo      green     163  22.767123  \n",
       "145       blue     yellow     198  36.030137  \n",
       "146     violet     indigo     155  64.350685  \n",
       "147     orange        red     197  36.931507  \n",
       "164       blue     yellow     197  31.117808  \n",
       "178       blue       blue     184  37.657534  \n",
       "195        red        red     181  29.435616  \n",
       "198     indigo      green     163  22.767123  \n",
       "205      green      green     162  51.408219  \n",
       "207       blue      green     192  53.175342  \n",
       "256     violet      green     175  54.671233  \n",
       "270        red        red     178  33.920548  \n",
       "283      green       blue     170  34.189041  \n",
       "293     violet      green     180  56.147945  \n",
       "295     indigo     yellow     155  47.775342  \n",
       "300     indigo        red     159  48.117808  \n",
       "323     orange     indigo     183  20.202740  \n",
       "325     indigo     yellow     187  22.216438  "
      ]
     },
     "execution_count": 125,
     "metadata": {},
     "output_type": "execute_result"
    }
   ],
   "source": [
    "profiles_df[(profiles_df.Eye_Color.isin(potential_eye_colors)) & (profiles_df.Eye_Color.isin(potential_hair_colors)) & \n",
    "(profiles_df.Skin_Color.isin(potential_skin_colors)) & (profiles_df.Height>smallest_height) & (profiles_df.Height<largest_height) & \n",
    "(profiles_df.Age>smallest_age)& (profiles_df.Age<largest_age)& (profiles_df.ID.isin(redTix.ID))]"
   ]
  },
  {
   "cell_type": "code",
   "execution_count": 97,
   "metadata": {},
   "outputs": [
    {
     "data": {
      "text/plain": [
       "Statement\n",
       "I saw someone that looks to be 20 years old acting suspicious.    6\n",
       "I saw someone with violet eyes acting suspicious.                 4\n",
       "I saw someone with red hair acting suspicious.                    4\n",
       "I saw someone with blue eyes acting suspicious.                   3\n",
       "I saw someone with orange eyes acting suspicious.                 3\n",
       "I saw someone with blue skin acting suspicious.                   3\n",
       "I saw someone that looks to be 24 years old acting suspicious.    3\n",
       "I saw someone that looks to be 23 years old acting suspicious.    3\n",
       "I saw someone who looked 153 cm tall acting suspicious.           3\n",
       "I saw someone with yellow hair acting suspicious.                 2\n",
       "I saw someone with red skin acting suspicious.                    2\n",
       "I saw someone who looked 155 cm tall acting suspicious.           2\n",
       "I saw someone with green hair acting suspicious.                  2\n",
       "I saw someone who looked 159 cm tall acting suspicious.           2\n",
       "I saw someone with indigo skin acting suspicious.                 2\n",
       "I saw someone with red eyes acting suspicious.                    2\n",
       "I saw someone that looks to be 21 years old acting suspicious.    2\n",
       "I saw someone who looked 154 cm tall acting suspicious.           2\n",
       "I saw someone with orange hair acting suspicious.                 1\n",
       "I saw someone with violet skin acting suspicious.                 1\n",
       "I saw someone with blue hair acting suspicious.                   1\n",
       "I saw someone with indigo hair acting suspicious.                 1\n",
       "I saw someone who looked 156 cm tall acting suspicious.           1\n",
       "I saw someone who looked 162 cm tall acting suspicious.           1\n",
       "I saw someone who looked 169 cm tall acting suspicious.           1\n",
       "I saw someone who looked 167 cm tall acting suspicious.           1\n",
       "I saw someone that looks to be 22 years old acting suspicious.    1\n",
       "I saw someone with violet hair acting suspicious.                 1\n",
       "I saw someone who looked 166 cm tall acting suspicious.           1\n",
       "I saw someone with green skin acting suspicious.                  1\n",
       "I saw someone who looked 165 cm tall acting suspicious.           1\n",
       "I saw someone with orange skin acting suspicious.                 1\n",
       "Name: count, dtype: int64"
      ]
     },
     "execution_count": 97,
     "metadata": {},
     "output_type": "execute_result"
    }
   ],
   "source": [
    "important_witnesses['Statement'].value_counts()"
   ]
  },
  {
   "cell_type": "markdown",
   "metadata": {
    "id": "IWNV2rhN_L8d"
   },
   "source": [
    "**TASK 5.2 (2 Points):** Check if your culprit is correct!\n",
    "\n",
    "interrogate your culprit to see if you got the correct person"
   ]
  },
  {
   "cell_type": "code",
   "execution_count": null,
   "metadata": {
    "id": "mV_RIdbB_T5w"
   },
   "outputs": [],
   "source": [
    "# Write your code here\n"
   ]
  }
 ],
 "metadata": {
  "colab": {
   "provenance": [
    {
     "file_id": "1yV4xI9g_vpNlr9u3BFa54SlGmWl3FKi6",
     "timestamp": 1709098641044
    }
   ]
  },
  "kernelspec": {
   "display_name": "Python 3 (ipykernel)",
   "language": "python",
   "name": "python3"
  },
  "language_info": {
   "codemirror_mode": {
    "name": "ipython",
    "version": 3
   },
   "file_extension": ".py",
   "mimetype": "text/x-python",
   "name": "python",
   "nbconvert_exporter": "python",
   "pygments_lexer": "ipython3",
   "version": "3.9.19"
  }
 },
 "nbformat": 4,
 "nbformat_minor": 4
}
