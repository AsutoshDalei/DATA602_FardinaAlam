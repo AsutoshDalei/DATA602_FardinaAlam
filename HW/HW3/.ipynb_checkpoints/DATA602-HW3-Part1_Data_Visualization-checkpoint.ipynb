{
 "cells": [
  {
   "cell_type": "markdown",
   "metadata": {
    "id": "HgmyH9dCl6P9"
   },
   "source": [
    "# HW1 Part 01 - Data Exploration with Descriptive Statistics and Visualizations\n",
    "\n",
    "TOTAL POINT: 50\n"
   ]
  },
  {
   "cell_type": "markdown",
   "metadata": {
    "id": "_EQXomlPoOhI"
   },
   "source": [
    "**Objective of this Exercise**\n",
    "\n",
    "In class, we discussed the importance of exploratory data analysis (EDA) and effective visualization. The goal is to conduct EDA on the Boston Housing Price dataset using Python, following an EDA checklist. You will explore the data, ask relevant questions, and analyze variation and covariation. Visualize your findings with a focus on good visualization practices, attention theory, and visual salience. Additionally, perform a brief feature engineering exercise."
   ]
  },
  {
   "cell_type": "markdown",
   "metadata": {
    "id": "awj-oZbll6P-"
   },
   "source": [
    "## Data for this exercise\n",
    "\n",
    "We use the boston house price data in this exercise. The data is available as part of ```sklearn``` for [Python](http://scikit-learn.org/stable/modules/classes.html#module-sklearn.datasets). The description of the data is provided together with the actual data and should be the starting point for your analysis of the data.\n",
    "\n",
    "## TASK 01 Descriptive statistics of the boston data (POINT: 02)\n",
    "\n",
    "**TASK 1.1:** Explore the boston data using descriptive statistics. Calculate the central tendency with the mean and median, the variability through the standard deviation and the IQR, as well as the range of the data. The real task is understanding something about the data from these results. For example, what can you learn about the CRIM feature from the mean and the median?"
   ]
  },
  {
   "cell_type": "code",
   "execution_count": 1,
   "metadata": {
    "id": "_zkhOMMyl6P_"
   },
   "outputs": [
    {
     "name": "stdout",
     "output_type": "stream",
     "text": [
      "**Author**:   \n",
      "**Source**: Unknown - Date unknown  \n",
      "**Please cite**:   \n",
      "\n",
      "The Boston house-price data of Harrison, D. and Rubinfeld, D.L. 'Hedonic\n",
      "prices and the demand for clean air', J. Environ. Economics & Management,\n",
      "vol.5, 81-102, 1978.   Used in Belsley, Kuh & Welsch, 'Regression diagnostics\n",
      "...', Wiley, 1980.   N.B. Various transformations are used in the table on\n",
      "pages 244-261 of the latter.\n",
      "Variables in order:\n",
      "CRIM     per capita crime rate by town\n",
      "ZN       proportion of residential land zoned for lots over 25,000 sq.ft.\n",
      "INDUS    proportion of non-retail business acres per town\n",
      "CHAS     Charles River dummy variable (= 1 if tract bounds river; 0 otherwise)\n",
      "NOX      nitric oxides concentration (parts per 10 million)\n",
      "RM       average number of rooms per dwelling\n",
      "AGE      proportion of owner-occupied units built prior to 1940\n",
      "DIS      weighted distances to five Boston employment centres\n",
      "RAD      index of accessibility to radial highways\n",
      "TAX      full-value property-tax rate per $10,000\n",
      "PTRATIO  pupil-teacher ratio by town\n",
      "B        1000(Bk - 0.63)^2 where Bk is the proportion of blacks by town\n",
      "LSTAT    % lower status of the population\n",
      "MEDV     Median value of owner-occupied homes in $1000's\n",
      "\n",
      "\n",
      "Information about the dataset\n",
      "CLASSTYPE: numeric\n",
      "CLASSINDEX: last\n",
      "\n",
      "Downloaded from openml.org.\n"
     ]
    }
   ],
   "source": [
    "import pandas as pd\n",
    "from sklearn import datasets\n",
    "\n",
    "# # first we load the data and print description\n",
    "# boston = datasets.load_boston()\n",
    "# print(boston.DESCR)\n",
    "\n",
    "from sklearn.datasets import fetch_openml\n",
    "\n",
    "boston = fetch_openml(name='boston', version=1)\n",
    "X, y = boston.data, boston.target\n",
    "print(boston.DESCR)\n",
    "\n",
    "# we convert the data into a data frame and use the convenient describe function from pandas\n",
    "boston_df = pd.DataFrame(boston.data, columns=boston.feature_names)\n",
    "\n",
    "# write your one line code for  descriptive statistics\n",
    "\n",
    "#ANSWER"
   ]
  },
  {
   "cell_type": "code",
   "execution_count": 2,
   "metadata": {},
   "outputs": [
    {
     "data": {
      "text/html": [
       "<div>\n",
       "<style scoped>\n",
       "    .dataframe tbody tr th:only-of-type {\n",
       "        vertical-align: middle;\n",
       "    }\n",
       "\n",
       "    .dataframe tbody tr th {\n",
       "        vertical-align: top;\n",
       "    }\n",
       "\n",
       "    .dataframe thead th {\n",
       "        text-align: right;\n",
       "    }\n",
       "</style>\n",
       "<table border=\"1\" class=\"dataframe\">\n",
       "  <thead>\n",
       "    <tr style=\"text-align: right;\">\n",
       "      <th></th>\n",
       "      <th>CRIM</th>\n",
       "      <th>ZN</th>\n",
       "      <th>INDUS</th>\n",
       "      <th>NOX</th>\n",
       "      <th>RM</th>\n",
       "      <th>AGE</th>\n",
       "      <th>DIS</th>\n",
       "      <th>TAX</th>\n",
       "      <th>PTRATIO</th>\n",
       "      <th>B</th>\n",
       "      <th>LSTAT</th>\n",
       "    </tr>\n",
       "  </thead>\n",
       "  <tbody>\n",
       "    <tr>\n",
       "      <th>count</th>\n",
       "      <td>506.000000</td>\n",
       "      <td>506.000000</td>\n",
       "      <td>506.000000</td>\n",
       "      <td>506.000000</td>\n",
       "      <td>506.000000</td>\n",
       "      <td>506.000000</td>\n",
       "      <td>506.000000</td>\n",
       "      <td>506.000000</td>\n",
       "      <td>506.000000</td>\n",
       "      <td>506.000000</td>\n",
       "      <td>506.000000</td>\n",
       "    </tr>\n",
       "    <tr>\n",
       "      <th>mean</th>\n",
       "      <td>3.613524</td>\n",
       "      <td>11.363636</td>\n",
       "      <td>11.136779</td>\n",
       "      <td>0.554695</td>\n",
       "      <td>6.284634</td>\n",
       "      <td>68.574901</td>\n",
       "      <td>3.795043</td>\n",
       "      <td>408.237154</td>\n",
       "      <td>18.455534</td>\n",
       "      <td>356.674032</td>\n",
       "      <td>12.653063</td>\n",
       "    </tr>\n",
       "    <tr>\n",
       "      <th>std</th>\n",
       "      <td>8.601545</td>\n",
       "      <td>23.322453</td>\n",
       "      <td>6.860353</td>\n",
       "      <td>0.115878</td>\n",
       "      <td>0.702617</td>\n",
       "      <td>28.148861</td>\n",
       "      <td>2.105710</td>\n",
       "      <td>168.537116</td>\n",
       "      <td>2.164946</td>\n",
       "      <td>91.294864</td>\n",
       "      <td>7.141062</td>\n",
       "    </tr>\n",
       "    <tr>\n",
       "      <th>min</th>\n",
       "      <td>0.006320</td>\n",
       "      <td>0.000000</td>\n",
       "      <td>0.460000</td>\n",
       "      <td>0.385000</td>\n",
       "      <td>3.561000</td>\n",
       "      <td>2.900000</td>\n",
       "      <td>1.129600</td>\n",
       "      <td>187.000000</td>\n",
       "      <td>12.600000</td>\n",
       "      <td>0.320000</td>\n",
       "      <td>1.730000</td>\n",
       "    </tr>\n",
       "    <tr>\n",
       "      <th>25%</th>\n",
       "      <td>0.082045</td>\n",
       "      <td>0.000000</td>\n",
       "      <td>5.190000</td>\n",
       "      <td>0.449000</td>\n",
       "      <td>5.885500</td>\n",
       "      <td>45.025000</td>\n",
       "      <td>2.100175</td>\n",
       "      <td>279.000000</td>\n",
       "      <td>17.400000</td>\n",
       "      <td>375.377500</td>\n",
       "      <td>6.950000</td>\n",
       "    </tr>\n",
       "    <tr>\n",
       "      <th>50%</th>\n",
       "      <td>0.256510</td>\n",
       "      <td>0.000000</td>\n",
       "      <td>9.690000</td>\n",
       "      <td>0.538000</td>\n",
       "      <td>6.208500</td>\n",
       "      <td>77.500000</td>\n",
       "      <td>3.207450</td>\n",
       "      <td>330.000000</td>\n",
       "      <td>19.050000</td>\n",
       "      <td>391.440000</td>\n",
       "      <td>11.360000</td>\n",
       "    </tr>\n",
       "    <tr>\n",
       "      <th>75%</th>\n",
       "      <td>3.677083</td>\n",
       "      <td>12.500000</td>\n",
       "      <td>18.100000</td>\n",
       "      <td>0.624000</td>\n",
       "      <td>6.623500</td>\n",
       "      <td>94.075000</td>\n",
       "      <td>5.188425</td>\n",
       "      <td>666.000000</td>\n",
       "      <td>20.200000</td>\n",
       "      <td>396.225000</td>\n",
       "      <td>16.955000</td>\n",
       "    </tr>\n",
       "    <tr>\n",
       "      <th>max</th>\n",
       "      <td>88.976200</td>\n",
       "      <td>100.000000</td>\n",
       "      <td>27.740000</td>\n",
       "      <td>0.871000</td>\n",
       "      <td>8.780000</td>\n",
       "      <td>100.000000</td>\n",
       "      <td>12.126500</td>\n",
       "      <td>711.000000</td>\n",
       "      <td>22.000000</td>\n",
       "      <td>396.900000</td>\n",
       "      <td>37.970000</td>\n",
       "    </tr>\n",
       "  </tbody>\n",
       "</table>\n",
       "</div>"
      ],
      "text/plain": [
       "             CRIM          ZN       INDUS         NOX          RM         AGE  \\\n",
       "count  506.000000  506.000000  506.000000  506.000000  506.000000  506.000000   \n",
       "mean     3.613524   11.363636   11.136779    0.554695    6.284634   68.574901   \n",
       "std      8.601545   23.322453    6.860353    0.115878    0.702617   28.148861   \n",
       "min      0.006320    0.000000    0.460000    0.385000    3.561000    2.900000   \n",
       "25%      0.082045    0.000000    5.190000    0.449000    5.885500   45.025000   \n",
       "50%      0.256510    0.000000    9.690000    0.538000    6.208500   77.500000   \n",
       "75%      3.677083   12.500000   18.100000    0.624000    6.623500   94.075000   \n",
       "max     88.976200  100.000000   27.740000    0.871000    8.780000  100.000000   \n",
       "\n",
       "              DIS         TAX     PTRATIO           B       LSTAT  \n",
       "count  506.000000  506.000000  506.000000  506.000000  506.000000  \n",
       "mean     3.795043  408.237154   18.455534  356.674032   12.653063  \n",
       "std      2.105710  168.537116    2.164946   91.294864    7.141062  \n",
       "min      1.129600  187.000000   12.600000    0.320000    1.730000  \n",
       "25%      2.100175  279.000000   17.400000  375.377500    6.950000  \n",
       "50%      3.207450  330.000000   19.050000  391.440000   11.360000  \n",
       "75%      5.188425  666.000000   20.200000  396.225000   16.955000  \n",
       "max     12.126500  711.000000   22.000000  396.900000   37.970000  "
      ]
     },
     "execution_count": 2,
     "metadata": {},
     "output_type": "execute_result"
    }
   ],
   "source": [
    "#Descriptive Stats\n",
    "boston_df.describe()"
   ]
  },
  {
   "cell_type": "code",
   "execution_count": 3,
   "metadata": {},
   "outputs": [
    {
     "data": {
      "text/plain": [
       "CRIM          73.986578\n",
       "ZN           543.936814\n",
       "INDUS         47.064442\n",
       "NOX            0.013428\n",
       "RM             0.493671\n",
       "AGE          792.358399\n",
       "DIS            4.434015\n",
       "TAX        28404.759488\n",
       "PTRATIO        4.686989\n",
       "B           8334.752263\n",
       "LSTAT         50.994760\n",
       "dtype: float64"
      ]
     },
     "execution_count": 3,
     "metadata": {},
     "output_type": "execute_result"
    }
   ],
   "source": [
    "boston_df.var(numeric_only=True)"
   ]
  },
  {
   "cell_type": "code",
   "execution_count": 4,
   "metadata": {},
   "outputs": [
    {
     "data": {
      "text/html": [
       "<div>\n",
       "<style scoped>\n",
       "    .dataframe tbody tr th:only-of-type {\n",
       "        vertical-align: middle;\n",
       "    }\n",
       "\n",
       "    .dataframe tbody tr th {\n",
       "        vertical-align: top;\n",
       "    }\n",
       "\n",
       "    .dataframe thead th {\n",
       "        text-align: right;\n",
       "    }\n",
       "</style>\n",
       "<table border=\"1\" class=\"dataframe\">\n",
       "  <thead>\n",
       "    <tr style=\"text-align: right;\">\n",
       "      <th></th>\n",
       "      <th>CRIM</th>\n",
       "      <th>ZN</th>\n",
       "      <th>INDUS</th>\n",
       "      <th>CHAS</th>\n",
       "      <th>NOX</th>\n",
       "      <th>RM</th>\n",
       "      <th>AGE</th>\n",
       "      <th>DIS</th>\n",
       "      <th>RAD</th>\n",
       "      <th>TAX</th>\n",
       "      <th>PTRATIO</th>\n",
       "      <th>B</th>\n",
       "      <th>LSTAT</th>\n",
       "    </tr>\n",
       "  </thead>\n",
       "  <tbody>\n",
       "    <tr>\n",
       "      <th>0</th>\n",
       "      <td>0.00632</td>\n",
       "      <td>18.0</td>\n",
       "      <td>2.31</td>\n",
       "      <td>0</td>\n",
       "      <td>0.538</td>\n",
       "      <td>6.575</td>\n",
       "      <td>65.2</td>\n",
       "      <td>4.0900</td>\n",
       "      <td>1</td>\n",
       "      <td>296.0</td>\n",
       "      <td>15.3</td>\n",
       "      <td>396.90</td>\n",
       "      <td>4.98</td>\n",
       "    </tr>\n",
       "    <tr>\n",
       "      <th>1</th>\n",
       "      <td>0.02731</td>\n",
       "      <td>0.0</td>\n",
       "      <td>7.07</td>\n",
       "      <td>0</td>\n",
       "      <td>0.469</td>\n",
       "      <td>6.421</td>\n",
       "      <td>78.9</td>\n",
       "      <td>4.9671</td>\n",
       "      <td>2</td>\n",
       "      <td>242.0</td>\n",
       "      <td>17.8</td>\n",
       "      <td>396.90</td>\n",
       "      <td>9.14</td>\n",
       "    </tr>\n",
       "    <tr>\n",
       "      <th>2</th>\n",
       "      <td>0.02729</td>\n",
       "      <td>0.0</td>\n",
       "      <td>7.07</td>\n",
       "      <td>0</td>\n",
       "      <td>0.469</td>\n",
       "      <td>7.185</td>\n",
       "      <td>61.1</td>\n",
       "      <td>4.9671</td>\n",
       "      <td>2</td>\n",
       "      <td>242.0</td>\n",
       "      <td>17.8</td>\n",
       "      <td>392.83</td>\n",
       "      <td>4.03</td>\n",
       "    </tr>\n",
       "    <tr>\n",
       "      <th>3</th>\n",
       "      <td>0.03237</td>\n",
       "      <td>0.0</td>\n",
       "      <td>2.18</td>\n",
       "      <td>0</td>\n",
       "      <td>0.458</td>\n",
       "      <td>6.998</td>\n",
       "      <td>45.8</td>\n",
       "      <td>6.0622</td>\n",
       "      <td>3</td>\n",
       "      <td>222.0</td>\n",
       "      <td>18.7</td>\n",
       "      <td>394.63</td>\n",
       "      <td>2.94</td>\n",
       "    </tr>\n",
       "    <tr>\n",
       "      <th>4</th>\n",
       "      <td>0.06905</td>\n",
       "      <td>0.0</td>\n",
       "      <td>2.18</td>\n",
       "      <td>0</td>\n",
       "      <td>0.458</td>\n",
       "      <td>7.147</td>\n",
       "      <td>54.2</td>\n",
       "      <td>6.0622</td>\n",
       "      <td>3</td>\n",
       "      <td>222.0</td>\n",
       "      <td>18.7</td>\n",
       "      <td>396.90</td>\n",
       "      <td>5.33</td>\n",
       "    </tr>\n",
       "  </tbody>\n",
       "</table>\n",
       "</div>"
      ],
      "text/plain": [
       "      CRIM    ZN  INDUS CHAS    NOX     RM   AGE     DIS RAD    TAX  PTRATIO  \\\n",
       "0  0.00632  18.0   2.31    0  0.538  6.575  65.2  4.0900   1  296.0     15.3   \n",
       "1  0.02731   0.0   7.07    0  0.469  6.421  78.9  4.9671   2  242.0     17.8   \n",
       "2  0.02729   0.0   7.07    0  0.469  7.185  61.1  4.9671   2  242.0     17.8   \n",
       "3  0.03237   0.0   2.18    0  0.458  6.998  45.8  6.0622   3  222.0     18.7   \n",
       "4  0.06905   0.0   2.18    0  0.458  7.147  54.2  6.0622   3  222.0     18.7   \n",
       "\n",
       "        B  LSTAT  \n",
       "0  396.90   4.98  \n",
       "1  396.90   9.14  \n",
       "2  392.83   4.03  \n",
       "3  394.63   2.94  \n",
       "4  396.90   5.33  "
      ]
     },
     "execution_count": 4,
     "metadata": {},
     "output_type": "execute_result"
    }
   ],
   "source": [
    "boston_df.head()"
   ]
  },
  {
   "cell_type": "markdown",
   "metadata": {
    "id": "VOsElpncl6QA"
   },
   "source": [
    "Some things we can learn from the summary statistics:\n",
    "- The mean of CRIM is much larger than the median (50%). The together with the very large max value this is a strong indicator that the distribution is not symmetric around the mean and likely as a long right-tail. Since the median is close the the minimal value, this also indicates that a lot of data is located in a small region on the left side of the distribution. Together with the description of the data, this means that there are many regions with a low crime rate and a relatively small portion of regions has a higher crime rate.\n",
    "- The data indicates that RM is likely symmetric around the mean. This is indicated because the mean and the median are roughly equal, and the distance from the lower quartile (25%) is similar to the distance of the upper quartile (75%) from the median. Whether RM follows a gaussian distribution cannot be evaluated without statistical tests or at least a visualization. Given that this feature models the number of rooms, it also makes sense that the data is not dominated by outliers.\n",
    "- CHAS seems to have a strange distribution, because the min and the upper quartile of the same value of 0. This fits the description that this is just a dummy variable used as control."
   ]
  },
  {
   "cell_type": "markdown",
   "metadata": {
    "id": "C5KgUjppqUcH"
   },
   "source": [
    "## TASK 2: Ask Right Question (POINTS: 2+2+2=6)\n",
    "\n",
    "You are now going to ask two questions.\n",
    "\n",
    "**Remember** that the first question will focus on variation using a chosen variable. The second question will explore covariation, using **one variable from the first question** and another variable. After formulating the questions, you will plot the results."
   ]
  },
  {
   "cell_type": "markdown",
   "metadata": {
    "id": "id01NNuTRJAL"
   },
   "source": [
    "**TASK 2.1:** Show all the columns of the dataset"
   ]
  },
  {
   "cell_type": "code",
   "execution_count": 5,
   "metadata": {
    "id": "Xyr9VoHrBNAb"
   },
   "outputs": [
    {
     "data": {
      "text/plain": [
       "Index(['CRIM', 'ZN', 'INDUS', 'CHAS', 'NOX', 'RM', 'AGE', 'DIS', 'RAD', 'TAX',\n",
       "       'PTRATIO', 'B', 'LSTAT'],\n",
       "      dtype='object')"
      ]
     },
     "execution_count": 5,
     "metadata": {},
     "output_type": "execute_result"
    }
   ],
   "source": [
    "# Show all the columns first\n",
    "boston_df.columns\n",
    "#ANSWER"
   ]
  },
  {
   "cell_type": "markdown",
   "metadata": {
    "id": "vLqIMz92qV7r"
   },
   "source": [
    "\n",
    "### Question 1: Variation\n",
    "\n",
    "**TASK 2.2:** Write a question and include a one-line explanation of why it is an important question.\n",
    "\n",
    "\n",
    "**Your Question:** What is the variation in *AGE* of the houses in Boston? \n",
    "\n",
    "**Importance:** The age of a house can significantly impact its value, maintenance needs, and potential for renovations. Older homes may have unique character but might require more upkeep, while newer homes often come with modern amenities and energy efficiency.\n"
   ]
  },
  {
   "cell_type": "code",
   "execution_count": 6,
   "metadata": {},
   "outputs": [
    {
     "data": {
      "text/plain": [
       "Index(['CRIM', 'ZN', 'INDUS', 'CHAS', 'NOX', 'RM', 'AGE', 'DIS', 'RAD', 'TAX',\n",
       "       'PTRATIO', 'B', 'LSTAT'],\n",
       "      dtype='object')"
      ]
     },
     "execution_count": 6,
     "metadata": {},
     "output_type": "execute_result"
    }
   ],
   "source": [
    "boston_df.columns"
   ]
  },
  {
   "cell_type": "markdown",
   "metadata": {
    "id": "_0V7Pug_qjqm"
   },
   "source": [
    "### Question 2: Covariation\n",
    "\n",
    "**TASK 2.2:** Write a question and include a one-line explanation of why it is an important question.\n",
    "\n",
    "\n",
    "**Your Question:** Is there an relation of the *AGE* of a house with the *TAX* linked to the house? Does the age of the property influence property tax?\n",
    "\n",
    "**Importance:** Property tax is a crucial source of revenue for local governments, funding essential services like education, infrastructure, and public safety."
   ]
  },
  {
   "cell_type": "markdown",
   "metadata": {
    "id": "vE_31X3Hrhtz"
   },
   "source": [
    "# TASK 03: Data Analysis Part 01 (1+2+(2+3)+2=10)\n"
   ]
  },
  {
   "cell_type": "markdown",
   "metadata": {
    "id": "-Qbto-PVsT1E"
   },
   "source": [
    "### Question 01 Visualization\n",
    "\n",
    "Now, for your above Question 01 on Variation: Create a plot to show the distribution of the variable you have chosen and visualize its variation. Remember to make it visually appealing (this applies to every plot in this exercise)."
   ]
  },
  {
   "cell_type": "markdown",
   "metadata": {
    "id": "0rFqMGeEsz5H"
   },
   "source": [
    "**TASK 3.1: Write in one line: the variable(s) name that you are plotting below.**\n",
    "\n",
    "* Variable 1: AGE\n",
    "* Variable 2: TAX"
   ]
  },
  {
   "cell_type": "markdown",
   "metadata": {
    "id": "TxsqUaCdRm5U"
   },
   "source": [
    "**TASK 3.2:** Create a plot to show the distribution of the variable you have chosen for Question 01 and visualize its variation."
   ]
  },
  {
   "cell_type": "code",
   "execution_count": 7,
   "metadata": {
    "id": "UhRyScegsppi"
   },
   "outputs": [
    {
     "data": {
      "image/png": "[encoded data removed]",
      "text/plain": [
       "<Figure size 800x400 with 1 Axes>"
      ]
     },
     "metadata": {},
     "output_type": "display_data"
    }
   ],
   "source": [
    "#plot here. Import necessary libraries if needed.\n",
    "import matplotlib.pyplot as plt\n",
    "import seaborn as sns\n",
    "\n",
    "\n",
    "# Plotting the distribution of your chosen variable\n",
    "\n",
    "plt.figure(figsize=(8,4),dpi=100)\n",
    "sns.boxplot(data=boston_df,x='AGE')\n",
    "plt.title(\"Boxplot of AGE variable.\")\n",
    "plt.show()"
   ]
  },
  {
   "cell_type": "markdown",
   "metadata": {
    "id": "8cX7A8L8DYDp"
   },
   "source": [
    "### Question 02 Covariation\n",
    "\n",
    "Now,\n",
    "* **TASK 3.3:**Calculate the correlation between the two variables you chose in Question 2.Provide an brief interpretation of the correlation coefficient.\n",
    "\n",
    "After that, you have to plot the relationship between these two variables."
   ]
  },
  {
   "cell_type": "code",
   "execution_count": 8,
   "metadata": {
    "id": "aV_6jQYTEU6j"
   },
   "outputs": [
    {
     "name": "stdout",
     "output_type": "stream",
     "text": [
      "Defination: Spearman's coefficient measures the strength and direction of the monotonic relationship between two ranked variables. Its values range from -1 to +1. Values closer to +1 or -1 indicate a stronger relationship, while values near 0 suggest a weak or no correlation.\n",
      "---\n",
      "+1: Perfect positive correlation; as one variable increases, the other also increases.\n",
      "0: No correlation; changes in one variable do not predict changes in the other.\n",
      "-1: Perfect negative correlation; as one variable increases, the other decreases.\n",
      "---\n",
      "Spearman's correlation: 0.526\n",
      "The spearman coefficient is 0.5263664437266887, indicating a moderate positive correlation between the age of a property and its tax value, suggesting that as the age of a house increases, property taxes tend to rise as well. Older houses may have increased in value over time, increasing their taxes\n"
     ]
    }
   ],
   "source": [
    "## We can use the Spearman Correlation Coefficient to find the relationship between the two variables.\n",
    "spearmanDef = \"Spearman's coefficient measures the strength and direction of the monotonic relationship between two ranked variables. Its values range from -1 to +1. Values closer to +1 or -1 indicate a stronger relationship, while values near 0 suggest a weak or no correlation.\"\n",
    "print(\"Defination:\",spearmanDef)\n",
    "print(\"---\")\n",
    "print(\"\"\"+1: Perfect positive correlation; as one variable increases, the other also increases.\n",
    "0: No correlation; changes in one variable do not predict changes in the other.\n",
    "-1: Perfect negative correlation; as one variable increases, the other decreases.\"\"\")\n",
    "print(\"---\")\n",
    "# Calculate the correlation between the variables\n",
    "from scipy.stats import spearmanr\n",
    "corr, _ = spearmanr(boston_df['AGE'],boston_df['TAX'])\n",
    "print(f'Spearman\\'s correlation: %.3f'%corr)\n",
    "\n",
    "\n",
    "# Interpretation\n",
    "interpretation = f\"The spearman coefficient is {corr}, indicating a moderate positive correlation between the age of a property and its tax value, suggesting that as the age of a house increases, property taxes tend to rise as well. Older houses may have increased in value over time, increasing their taxes\"\n",
    "print(interpretation)\n"
   ]
  },
  {
   "cell_type": "markdown",
   "metadata": {
    "id": "8_Eg2zGcR4jS"
   },
   "source": [
    "**TASK 3.4:** Plot the relationship between these two variables."
   ]
  },
  {
   "cell_type": "code",
   "execution_count": 9,
   "metadata": {
    "id": "rUhzjoa9EcZ-"
   },
   "outputs": [
    {
     "data": {
      "image/png": "[encoded data removed]",
      "text/plain": [
       "<Figure size 800x400 with 1 Axes>"
      ]
     },
     "metadata": {},
     "output_type": "display_data"
    }
   ],
   "source": [
    "# Plotting the relationship between these two variables\n",
    "\n",
    "plt.figure(figsize=(8,4),dpi=100)\n",
    "sns.regplot(data=boston_df,x='AGE',y='TAX',color='red',scatter=False)\n",
    "sns.kdeplot(data=boston_df,x='AGE',y='TAX',color='tomato')\n",
    "sns.scatterplot(data=boston_df,x='AGE',y='TAX',s=5)\n",
    "plt.title(\"Relationship of AGE v/s TAX.\")\n",
    "plt.show()\n"
   ]
  },
  {
   "cell_type": "markdown",
   "metadata": {
    "id": "85rZe60aF0ml"
   },
   "source": [
    "# TASK 04: Understanding Data Types and Visualization (POINTS: 1+1+5+2+1+4+4=18)\n",
    "\n",
    "Understanding data types is important! Your next task is to choose any **categorical variable** from the dataset.\n",
    "* Display a table showing both the frequency and relative frequency of that variable.\n",
    "* Finally, create a plot to visualize the distribution of the categorical variable"
   ]
  },
  {
   "cell_type": "markdown",
   "metadata": {
    "id": "tdi_fXmuIJHn"
   },
   "source": [
    "## Categorical Data Analysis"
   ]
  },
  {
   "cell_type": "markdown",
   "metadata": {
    "id": "sbkhGZJTSCib"
   },
   "source": [
    "**TASK 4.1**: Display the data types of each column in the dataset"
   ]
  },
  {
   "cell_type": "code",
   "execution_count": 10,
   "metadata": {
    "id": "FvvoPSVUGwqx"
   },
   "outputs": [
    {
     "data": {
      "text/plain": [
       "CRIM        float64\n",
       "ZN          float64\n",
       "INDUS       float64\n",
       "CHAS       category\n",
       "NOX         float64\n",
       "RM          float64\n",
       "AGE         float64\n",
       "DIS         float64\n",
       "RAD        category\n",
       "TAX         float64\n",
       "PTRATIO     float64\n",
       "B           float64\n",
       "LSTAT       float64\n",
       "dtype: object"
      ]
     },
     "execution_count": 10,
     "metadata": {},
     "output_type": "execute_result"
    }
   ],
   "source": [
    "# Display the data types of each column in boston_df\n",
    "\n",
    "boston_df.dtypes"
   ]
  },
  {
   "cell_type": "markdown",
   "metadata": {
    "id": "Cj3mhfB6Iu6T"
   },
   "source": [
    "**TASK 4.2:** Write down the name of the categorial variable that you have chosen:\n",
    "\n",
    "Answer: RAD"
   ]
  },
  {
   "cell_type": "markdown",
   "metadata": {
    "id": "ODn3FQ_4STfn"
   },
   "source": [
    "**TASK 4.3**: Display a table showing both the frequency and relative frequency of that variable."
   ]
  },
  {
   "cell_type": "code",
   "execution_count": 11,
   "metadata": {},
   "outputs": [
    {
     "name": "stdout",
     "output_type": "stream",
     "text": [
      "Frequency of RAD categorical variable:\n"
     ]
    },
    {
     "data": {
      "text/html": [
       "<div>\n",
       "<style scoped>\n",
       "    .dataframe tbody tr th:only-of-type {\n",
       "        vertical-align: middle;\n",
       "    }\n",
       "\n",
       "    .dataframe tbody tr th {\n",
       "        vertical-align: top;\n",
       "    }\n",
       "\n",
       "    .dataframe thead th {\n",
       "        text-align: right;\n",
       "    }\n",
       "</style>\n",
       "<table border=\"1\" class=\"dataframe\">\n",
       "  <thead>\n",
       "    <tr style=\"text-align: right;\">\n",
       "      <th></th>\n",
       "      <th>count</th>\n",
       "    </tr>\n",
       "    <tr>\n",
       "      <th>RAD</th>\n",
       "      <th></th>\n",
       "    </tr>\n",
       "  </thead>\n",
       "  <tbody>\n",
       "    <tr>\n",
       "      <th>24</th>\n",
       "      <td>132</td>\n",
       "    </tr>\n",
       "    <tr>\n",
       "      <th>5</th>\n",
       "      <td>115</td>\n",
       "    </tr>\n",
       "    <tr>\n",
       "      <th>4</th>\n",
       "      <td>110</td>\n",
       "    </tr>\n",
       "    <tr>\n",
       "      <th>3</th>\n",
       "      <td>38</td>\n",
       "    </tr>\n",
       "    <tr>\n",
       "      <th>6</th>\n",
       "      <td>26</td>\n",
       "    </tr>\n",
       "    <tr>\n",
       "      <th>2</th>\n",
       "      <td>24</td>\n",
       "    </tr>\n",
       "    <tr>\n",
       "      <th>8</th>\n",
       "      <td>24</td>\n",
       "    </tr>\n",
       "    <tr>\n",
       "      <th>1</th>\n",
       "      <td>20</td>\n",
       "    </tr>\n",
       "    <tr>\n",
       "      <th>7</th>\n",
       "      <td>17</td>\n",
       "    </tr>\n",
       "  </tbody>\n",
       "</table>\n",
       "</div>"
      ],
      "text/plain": [
       "     count\n",
       "RAD       \n",
       "24     132\n",
       "5      115\n",
       "4      110\n",
       "3       38\n",
       "6       26\n",
       "2       24\n",
       "8       24\n",
       "1       20\n",
       "7       17"
      ]
     },
     "execution_count": 11,
     "metadata": {},
     "output_type": "execute_result"
    }
   ],
   "source": [
    "print(\"Frequency of RAD categorical variable:\")\n",
    "boston_df['RAD'].value_counts().to_frame()"
   ]
  },
  {
   "cell_type": "code",
   "execution_count": 12,
   "metadata": {},
   "outputs": [
    {
     "name": "stdout",
     "output_type": "stream",
     "text": [
      "Relative Frequency of RAD categorical variable in %.\n"
     ]
    },
    {
     "data": {
      "text/html": [
       "<div>\n",
       "<style scoped>\n",
       "    .dataframe tbody tr th:only-of-type {\n",
       "        vertical-align: middle;\n",
       "    }\n",
       "\n",
       "    .dataframe tbody tr th {\n",
       "        vertical-align: top;\n",
       "    }\n",
       "\n",
       "    .dataframe thead th {\n",
       "        text-align: right;\n",
       "    }\n",
       "</style>\n",
       "<table border=\"1\" class=\"dataframe\">\n",
       "  <thead>\n",
       "    <tr style=\"text-align: right;\">\n",
       "      <th></th>\n",
       "      <th>proportion</th>\n",
       "    </tr>\n",
       "    <tr>\n",
       "      <th>RAD</th>\n",
       "      <th></th>\n",
       "    </tr>\n",
       "  </thead>\n",
       "  <tbody>\n",
       "    <tr>\n",
       "      <th>24</th>\n",
       "      <td>26.086957</td>\n",
       "    </tr>\n",
       "    <tr>\n",
       "      <th>5</th>\n",
       "      <td>22.727273</td>\n",
       "    </tr>\n",
       "    <tr>\n",
       "      <th>4</th>\n",
       "      <td>21.739130</td>\n",
       "    </tr>\n",
       "    <tr>\n",
       "      <th>3</th>\n",
       "      <td>7.509881</td>\n",
       "    </tr>\n",
       "    <tr>\n",
       "      <th>6</th>\n",
       "      <td>5.138340</td>\n",
       "    </tr>\n",
       "    <tr>\n",
       "      <th>2</th>\n",
       "      <td>4.743083</td>\n",
       "    </tr>\n",
       "    <tr>\n",
       "      <th>8</th>\n",
       "      <td>4.743083</td>\n",
       "    </tr>\n",
       "    <tr>\n",
       "      <th>1</th>\n",
       "      <td>3.952569</td>\n",
       "    </tr>\n",
       "    <tr>\n",
       "      <th>7</th>\n",
       "      <td>3.359684</td>\n",
       "    </tr>\n",
       "  </tbody>\n",
       "</table>\n",
       "</div>"
      ],
      "text/plain": [
       "     proportion\n",
       "RAD            \n",
       "24    26.086957\n",
       "5     22.727273\n",
       "4     21.739130\n",
       "3      7.509881\n",
       "6      5.138340\n",
       "2      4.743083\n",
       "8      4.743083\n",
       "1      3.952569\n",
       "7      3.359684"
      ]
     },
     "execution_count": 12,
     "metadata": {},
     "output_type": "execute_result"
    }
   ],
   "source": [
    "print(\"Relative Frequency of RAD categorical variable in %.\")\n",
    "boston_df['RAD'].value_counts(normalize=True).to_frame()*100"
   ]
  },
  {
   "cell_type": "markdown",
   "metadata": {
    "id": "bsaxe3fESXlU"
   },
   "source": [
    "**TASK 4.4**: Create a plot to visualize the distribution of the categorical variable"
   ]
  },
  {
   "cell_type": "code",
   "execution_count": 13,
   "metadata": {
    "id": "6NSuImedHIsM"
   },
   "outputs": [
    {
     "data": {
      "image/png": "[encoded data removed]",
      "text/plain": [
       "<Figure size 800x400 with 1 Axes>"
      ]
     },
     "metadata": {},
     "output_type": "display_data"
    }
   ],
   "source": [
    "# Plotting the categorical variable:\n",
    "plt.figure(figsize=(8,4),dpi=100)\n",
    "boston_df['RAD'].value_counts().plot(kind='bar')\n",
    "plt.title(\"Frequency/Count of RAD variable.\")\n",
    "plt.show()\n"
   ]
  },
  {
   "cell_type": "code",
   "execution_count": 14,
   "metadata": {},
   "outputs": [
    {
     "data": {
      "image/png": "[encoded data removed]",
      "text/plain": [
       "<Figure size 800x400 with 1 Axes>"
      ]
     },
     "metadata": {},
     "output_type": "display_data"
    }
   ],
   "source": [
    "plt.figure(figsize=(8,4),dpi=100)\n",
    "boston_df['RAD'].value_counts(normalize=True).plot(kind='pie', autopct='%1.1f%%')\n",
    "plt.title(\"Relative Frequency/Proportion of RAD variable.\")\n",
    "plt.show()"
   ]
  },
  {
   "cell_type": "markdown",
   "metadata": {
    "id": "ZjqOzkjGIdeS"
   },
   "source": [
    "## Binning Continuous Data\n",
    "\n",
    "How can you categorize any two continuous variables from the dataset into discrete bins?\n",
    "Your next task is:\n",
    "*  Use an appropriate binning method to create categories, and\n",
    "* then visualize the distribution of these categories to enhance your understanding of the data."
   ]
  },
  {
   "cell_type": "markdown",
   "metadata": {
    "id": "Nn88eSVuJADe"
   },
   "source": [
    "*** TASK 4.5: Write down the name of the two continous variables that you have chosen:***\n",
    "\n",
    "Answer: *AGE*"
   ]
  },
  {
   "cell_type": "markdown",
   "metadata": {
    "id": "qaNNIG-FSjo3"
   },
   "source": [
    "**TASK 4.6**: Use an appropriate binning method to create categories for two continuous variables of your choice from the dataset."
   ]
  },
  {
   "cell_type": "code",
   "execution_count": 15,
   "metadata": {
    "id": "XP294isQImfJ"
   },
   "outputs": [],
   "source": [
    "\n",
    "\n",
    "# Binning the continuous variables:\n",
    "# Create bins for first continuous variable and print\n",
    "\n",
    "#ANSWER\n",
    "\n",
    "# Create bins for second continous variable and print\n",
    "\n",
    "#ANSWER"
   ]
  },
  {
   "cell_type": "markdown",
   "metadata": {
    "id": "DzOJcCfuS8pd"
   },
   "source": [
    "**TASK 4.7**: Visualize the distribution of these binned categories to enhance your understanding of the data."
   ]
  },
  {
   "cell_type": "code",
   "execution_count": 16,
   "metadata": {
    "id": "jTllboE3Kejz"
   },
   "outputs": [],
   "source": [
    "# Visualize the distribution of first binned variable\n",
    "\n",
    "#ANSWER\n",
    "\n",
    "\n"
   ]
  },
  {
   "cell_type": "code",
   "execution_count": 17,
   "metadata": {
    "id": "HzJgEi3bKgMu"
   },
   "outputs": [],
   "source": [
    "# Visualize the distribution of second binned variable\n",
    "\n"
   ]
  },
  {
   "cell_type": "markdown",
   "metadata": {
    "id": "IbW3zNcGl6QA"
   },
   "source": [
    "# TASK 05: Good Visualizations: StoryTelling, Attention and Valiance (POINTS: 4+3=7)\n",
    "\n",
    "The Python library ```matplotlib``` is great for creating all kinds of visualizations. There are even libraries on top of ```matplotlib``` that facilitate relatively complex visualizations in a single line of code like ```seaborn```.\n"
   ]
  },
  {
   "cell_type": "markdown",
   "metadata": {
    "id": "M9jWrx92MvTX"
   },
   "source": [
    "**Task 5.1:** Create an impactful visualization that effectively communicates a key relationship within the dataset. You can use any variables you want, or you can also perform feature engineering by adding or modifying any variable."
   ]
  },
  {
   "cell_type": "code",
   "execution_count": 18,
   "metadata": {
    "id": "YhLvFA7OLxaf"
   },
   "outputs": [],
   "source": [
    "# Plot the Visualization.\n",
    "\n"
   ]
  },
  {
   "cell_type": "markdown",
   "metadata": {
    "id": "39UFZWpfM0Hu"
   },
   "source": [
    "**Task 5.2:** Now, Explain how you apply principles of visual attention and salience to enhance the viewer's understanding of this relationship and the story it tells.\n",
    "\n",
    "#Answer here\n",
    "\n",
    "Story and Visual Attention:\n"
   ]
  },
  {
   "cell_type": "markdown",
   "metadata": {
    "id": "c3Qv1nfFN1mY"
   },
   "source": [
    "# TASK 06: Missing Data Check, Outlier Detection and Feature Engineering (POINTS: 2+2+1+2= 07)\n"
   ]
  },
  {
   "cell_type": "markdown",
   "metadata": {
    "id": "DBvYHDaLTYYC"
   },
   "source": [
    "**TASK 6.1:** Check for missing values in the dataset"
   ]
  },
  {
   "cell_type": "code",
   "execution_count": 19,
   "metadata": {
    "id": "P0SCQVEYN6kv"
   },
   "outputs": [
    {
     "name": "stdout",
     "output_type": "stream",
     "text": [
      "There are no missing values in the dataset\n"
     ]
    },
    {
     "data": {
      "text/plain": [
       "CRIM       0\n",
       "ZN         0\n",
       "INDUS      0\n",
       "CHAS       0\n",
       "NOX        0\n",
       "RM         0\n",
       "AGE        0\n",
       "DIS        0\n",
       "RAD        0\n",
       "TAX        0\n",
       "PTRATIO    0\n",
       "B          0\n",
       "LSTAT      0\n",
       "dtype: int64"
      ]
     },
     "execution_count": 19,
     "metadata": {},
     "output_type": "execute_result"
    }
   ],
   "source": [
    "# Check for missing values\n",
    "print(\"There are no missing values in the dataset\")\n",
    "boston_df.isna().sum()"
   ]
  },
  {
   "cell_type": "markdown",
   "metadata": {
    "id": "ydRQQaixTf9U"
   },
   "source": [
    "**TASK 6.2:** Check for outliers for RM Variable in the dataset"
   ]
  },
  {
   "cell_type": "code",
   "execution_count": 20,
   "metadata": {
    "id": "Le9NgrD7OAxp"
   },
   "outputs": [
    {
     "data": {
      "image/png": "[encoded data removed]",
      "text/plain": [
       "<Figure size 800x400 with 1 Axes>"
      ]
     },
     "metadata": {},
     "output_type": "display_data"
    }
   ],
   "source": [
    "# Create a box plot for RM to detect outliers\n",
    "\n",
    "plt.figure(figsize=(8,4),dpi=100)\n",
    "sns.boxplot(data=boston_df,x='RM')\n",
    "plt.title(\"Boxplot of AGE variable.\")\n",
    "plt.show()"
   ]
  },
  {
   "cell_type": "markdown",
   "metadata": {
    "id": "vu4Z6_uAOJJ2"
   },
   "source": [
    "**TASK 6.3:** Is there any outlider?\n",
    "\n",
    "ANSWER: There are a lot of outliers."
   ]
  },
  {
   "cell_type": "markdown",
   "metadata": {
    "id": "1TTipOmqTqSF"
   },
   "source": [
    "**TASK 6.4:** Create a new feature by calculating the ratio of the average number of rooms (RM) to the percentage of lower status of the population (LSTAT)."
   ]
  },
  {
   "cell_type": "code",
   "execution_count": 21,
   "metadata": {
    "id": "7FbJODqxOQHE"
   },
   "outputs": [
    {
     "data": {
      "text/html": [
       "<div>\n",
       "<style scoped>\n",
       "    .dataframe tbody tr th:only-of-type {\n",
       "        vertical-align: middle;\n",
       "    }\n",
       "\n",
       "    .dataframe tbody tr th {\n",
       "        vertical-align: top;\n",
       "    }\n",
       "\n",
       "    .dataframe thead th {\n",
       "        text-align: right;\n",
       "    }\n",
       "</style>\n",
       "<table border=\"1\" class=\"dataframe\">\n",
       "  <thead>\n",
       "    <tr style=\"text-align: right;\">\n",
       "      <th></th>\n",
       "      <th>CRIM</th>\n",
       "      <th>ZN</th>\n",
       "      <th>INDUS</th>\n",
       "      <th>CHAS</th>\n",
       "      <th>NOX</th>\n",
       "      <th>RM</th>\n",
       "      <th>AGE</th>\n",
       "      <th>DIS</th>\n",
       "      <th>RAD</th>\n",
       "      <th>TAX</th>\n",
       "      <th>PTRATIO</th>\n",
       "      <th>B</th>\n",
       "      <th>LSTAT</th>\n",
       "      <th>rm_to_pop_ratio</th>\n",
       "    </tr>\n",
       "  </thead>\n",
       "  <tbody>\n",
       "    <tr>\n",
       "      <th>0</th>\n",
       "      <td>0.00632</td>\n",
       "      <td>18.0</td>\n",
       "      <td>2.31</td>\n",
       "      <td>0</td>\n",
       "      <td>0.538</td>\n",
       "      <td>6.575</td>\n",
       "      <td>65.2</td>\n",
       "      <td>4.0900</td>\n",
       "      <td>1</td>\n",
       "      <td>296.0</td>\n",
       "      <td>15.3</td>\n",
       "      <td>396.90</td>\n",
       "      <td>4.98</td>\n",
       "      <td>1.320281</td>\n",
       "    </tr>\n",
       "    <tr>\n",
       "      <th>1</th>\n",
       "      <td>0.02731</td>\n",
       "      <td>0.0</td>\n",
       "      <td>7.07</td>\n",
       "      <td>0</td>\n",
       "      <td>0.469</td>\n",
       "      <td>6.421</td>\n",
       "      <td>78.9</td>\n",
       "      <td>4.9671</td>\n",
       "      <td>2</td>\n",
       "      <td>242.0</td>\n",
       "      <td>17.8</td>\n",
       "      <td>396.90</td>\n",
       "      <td>9.14</td>\n",
       "      <td>0.702516</td>\n",
       "    </tr>\n",
       "    <tr>\n",
       "      <th>2</th>\n",
       "      <td>0.02729</td>\n",
       "      <td>0.0</td>\n",
       "      <td>7.07</td>\n",
       "      <td>0</td>\n",
       "      <td>0.469</td>\n",
       "      <td>7.185</td>\n",
       "      <td>61.1</td>\n",
       "      <td>4.9671</td>\n",
       "      <td>2</td>\n",
       "      <td>242.0</td>\n",
       "      <td>17.8</td>\n",
       "      <td>392.83</td>\n",
       "      <td>4.03</td>\n",
       "      <td>1.782878</td>\n",
       "    </tr>\n",
       "    <tr>\n",
       "      <th>3</th>\n",
       "      <td>0.03237</td>\n",
       "      <td>0.0</td>\n",
       "      <td>2.18</td>\n",
       "      <td>0</td>\n",
       "      <td>0.458</td>\n",
       "      <td>6.998</td>\n",
       "      <td>45.8</td>\n",
       "      <td>6.0622</td>\n",
       "      <td>3</td>\n",
       "      <td>222.0</td>\n",
       "      <td>18.7</td>\n",
       "      <td>394.63</td>\n",
       "      <td>2.94</td>\n",
       "      <td>2.380272</td>\n",
       "    </tr>\n",
       "    <tr>\n",
       "      <th>4</th>\n",
       "      <td>0.06905</td>\n",
       "      <td>0.0</td>\n",
       "      <td>2.18</td>\n",
       "      <td>0</td>\n",
       "      <td>0.458</td>\n",
       "      <td>7.147</td>\n",
       "      <td>54.2</td>\n",
       "      <td>6.0622</td>\n",
       "      <td>3</td>\n",
       "      <td>222.0</td>\n",
       "      <td>18.7</td>\n",
       "      <td>396.90</td>\n",
       "      <td>5.33</td>\n",
       "      <td>1.340901</td>\n",
       "    </tr>\n",
       "  </tbody>\n",
       "</table>\n",
       "</div>"
      ],
      "text/plain": [
       "      CRIM    ZN  INDUS CHAS    NOX     RM   AGE     DIS RAD    TAX  PTRATIO  \\\n",
       "0  0.00632  18.0   2.31    0  0.538  6.575  65.2  4.0900   1  296.0     15.3   \n",
       "1  0.02731   0.0   7.07    0  0.469  6.421  78.9  4.9671   2  242.0     17.8   \n",
       "2  0.02729   0.0   7.07    0  0.469  7.185  61.1  4.9671   2  242.0     17.8   \n",
       "3  0.03237   0.0   2.18    0  0.458  6.998  45.8  6.0622   3  222.0     18.7   \n",
       "4  0.06905   0.0   2.18    0  0.458  7.147  54.2  6.0622   3  222.0     18.7   \n",
       "\n",
       "        B  LSTAT  rm_to_pop_ratio  \n",
       "0  396.90   4.98         1.320281  \n",
       "1  396.90   9.14         0.702516  \n",
       "2  392.83   4.03         1.782878  \n",
       "3  394.63   2.94         2.380272  \n",
       "4  396.90   5.33         1.340901  "
      ]
     },
     "execution_count": 21,
     "metadata": {},
     "output_type": "execute_result"
    }
   ],
   "source": [
    "# Creating a new feature: RM to LSTAT ratio\n",
    "boston_df = boston_df.assign(rm_to_pop_ratio = boston_df['RM']/boston_df['LSTAT'])\n",
    "\n",
    "\n",
    "# Display modified DataFrame (only head)\n",
    "boston_df.head()"
   ]
  },
  {
   "cell_type": "markdown",
   "metadata": {
    "id": "8U1zs1AaO5Kg"
   },
   "source": [
    "# THE END of HW1 Part 01"
   ]
  }
 ],
 "metadata": {
  "colab": {
   "provenance": []
  },
  "kernelspec": {
   "display_name": "Python 3 (ipykernel)",
   "language": "python",
   "name": "python3"
  },
  "language_info": {
   "codemirror_mode": {
    "name": "ipython",
    "version": 3
   },
   "file_extension": ".py",
   "mimetype": "text/x-python",
   "name": "python",
   "nbconvert_exporter": "python",
   "pygments_lexer": "ipython3",
   "version": "3.9.19"
  }
 },
 "nbformat": 4,
 "nbformat_minor": 4
}
