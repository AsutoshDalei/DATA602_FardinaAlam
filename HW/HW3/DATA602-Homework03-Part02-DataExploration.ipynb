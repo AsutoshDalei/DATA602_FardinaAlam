{
 "cells": [
  {
   "cell_type": "markdown",
   "metadata": {
    "id": "ZuEbtOi43OQc"
   },
   "source": [
    "# HW 03 - Part 2: Data Exploration\n",
    "DATA 602, Section PCS2, Dr. Fardina Alam\n"
   ]
  },
  {
   "cell_type": "markdown",
   "metadata": {
    "id": "1kCoK2ZH4HdN"
   },
   "source": [
    "---\n",
    "---\n",
    "**DISCLAIMER: This is a fake story, not a real incident! We have created this story just for the data exploration purpose.**\n",
    "\n",
    "---\n",
    "---\n",
    "\n",
    "**Campus Police Department**\n",
    "\n",
    "Incident Report\n",
    "\n",
    "---\n",
    "\n",
    "**Incident Date:** September 10, 2024\n",
    "\n",
    "**Location of Incident:** 2nd Floor, Iribe Building\n",
    "\n",
    "**Items Left at the Scene:** Red Ticket for Zichao's Magic Show\n",
    "\n",
    "**Case Number:** 2024-IRB-0027\n",
    "\n",
    "---\n",
    "**Victim Information:**\n",
    "\n",
    "**Name:** Dr. Fardina Alam\n",
    "\n",
    "**Affiliation:** University of Maryland, College Park\n",
    "\n",
    "**Position:** Professor\n",
    "\n",
    "**Contact Information:** fardina@umd.edu\n",
    "\n",
    "---\n",
    "\n",
    "**Incident Description:**\n",
    "\n",
    "On the evening of September 10, 2024, an unknown individual(s) unlawfully entered Dr. Fardina's room located on the 3rd floor of Iribe and stole a set of Markers. The stolen items were a set of limited edition markers that Dr. Fardina had spent years collecting. At the scene of the crime, a red entry ticket for \"Zichao's Magic Show\" was found on the floor near Dr. Fardina's desk.\n",
    "\n",
    "\n",
    "\n",
    "\n",
    "\n"
   ]
  },
  {
   "cell_type": "code",
   "execution_count": 1,
   "metadata": {
    "id": "4rVgG-Vi7a_O"
   },
   "outputs": [],
   "source": [
    "# We import all essential libraries for this HW; if you want to add additional libraries, you can add more here!\n",
    "import pandas as pd\n",
    "import numpy as np\n",
    "from datetime import datetime"
   ]
  },
  {
   "cell_type": "markdown",
   "metadata": {
    "id": "ZBLEXsMU7gqH"
   },
   "source": [
    "## Instructions:\n",
    "\n",
    "In this assignment, you are tasked with solving the mystery of Dr. Fardina's stolen markers and finding the culprit.\n",
    "\n",
    "* To accomplish this, you will be provided with **4 data sets** containing key information related to the incident. The list of the data sets name given below:\n",
    "\n",
    " - Profiles\n",
    " - Witnesses\n",
    " - Zichao's magic show\n",
    " - Interrogation Statements\n",
    "\n",
    "\n",
    "\n",
    "* Your goal is to analyze these data sets to uncover the clues and evidences that will lead you to the thief.\n",
    "\n",
    "**Be careful in following instructions as it may lead to you losing points :(**\n",
    "\n",
    "Take a moment to look at all the data sets below:\n",
    "\n",
    "---\n",
    "\n",
    "**Profiles:**\n",
    "\n",
    "This dataset contains information regarding all the potential people that could have committed the crime. General information regarding each person are as follows:\n",
    "- **ID:** A **unique** identification for each person\n",
    "- **Name:** The name of the person\n",
    "- **Birthday:** The birthday of the person\n",
    "- **Location_during_crime:** The location of the person during the crime\n",
    "- **Eye_Color:** The eye color of the person\n",
    "- **Skin_Color:** The skin color of the person\n",
    "- **Hair_Color:** The hair color of the person\n",
    "- **Height:** The height of the person in cm\n",
    "\n",
    "**Witnesses:**\n",
    "\n",
    "This dataset contains a statement from everyone in profiles, regarding suspicious things they saw during the time of the crime. Information that comes in this dataset are as follows:\n",
    "- **ID:** A **Unique** identification for each person\n",
    "- **Statement:** A statement from the person regarding a suspicious activity during the time of the crime\n",
    "\n",
    "**Zichao's magic show:**\n",
    "\n",
    "This dataset contains everyone that purchased a ticket for the show. **NOTE** that not everyone in profiles has purchased a ticket for this show. The Information contained in this dataset are as follows:\n",
    "- **ID:** A **Unique** indentification for each person\n",
    "- **Ticket_Number:** A **Unique** number that serves as an identification for the ticket bought\n",
    "\n",
    "**Interrogation Statements:**\n",
    "\n",
    "This datasets contains a statement from each person after they have been interrogated. **NOTE** assume that each statement is 100% true and that there are people who aren't in \"Profiles\" in this dataset. The Information contained in this dataset are as follows:\n",
    "\n",
    "- **Name:** The name of the person being interrogated\n",
    "- **Statement:** A statement the person gives after being interrogated\n",
    "\n",
    "---"
   ]
  },
  {
   "cell_type": "markdown",
   "metadata": {
    "id": "18K-7bb9pP5x"
   },
   "source": [
    "## Instructions for the Students:\n",
    "\n",
    "In this assignment, you are tasked with solving the mystery of Dr. Fardina's stolen markers and finding the culprit.\n",
    "\n",
    "* To accomplish this, you will be provided with **4 data sets** containing key information related to the incident. The list of the data sets name given below:\n",
    "\n",
    " - Profiles\n",
    " - Witnesses\n",
    " - Zichao's magic show\n",
    " - Interrogation Statements\n",
    "\n",
    "\n",
    "\n",
    "* Your goal is to analyze these data sets to uncover the clues and evidences that will lead you to the thief.\n",
    "\n",
    "**Be careful in following instructions as it may lead to you losing points :(**\n",
    "\n",
    "Take a moment to look at summary of all the data sets below:\n",
    "\n",
    "---\n",
    "\n",
    "**Profiles:**\n",
    "\n",
    "This dataset contains information regarding all the potential people that could have committed the crime.\n",
    "\n",
    "**Witnesses:**\n",
    "\n",
    "This dataset contains a statement from everyone in profiles, regarding suspicious things they saw during the time of the crime.\n",
    "\n",
    "**Zichao's magic show:**\n",
    "\n",
    "This dataset contains everyone that purchased a ticket for the show. **NOTE** that not everyone in profiles has purchased a ticket for this show. In this dataset, there is a column named  **\"Ticket_Number\"** which is an **Unique** number that serves as an identification for the ticket bought.\n",
    "\n",
    "**Interrogation Statements:**\n",
    "\n",
    "This datasets contains a statement from each person after they have been interrogated. **NOTE** assume that each statement is 100% true and that there are people who aren't in \"Profiles\" in this dataset.\n",
    "\n",
    "---"
   ]
  },
  {
   "cell_type": "markdown",
   "metadata": {
    "id": "x-yyybk6EOO2"
   },
   "source": [
    "## Q1) Lets begin by observing the profiles dataset\n",
    "\n",
    "\n",
    "**TASK 1.1 (1 Point):**  In the code box below, load in \"Profiles\" dataset into a variable called **profiles_df** and display it\n",
    "\n",
    "\n",
    "\n"
   ]
  },
  {
   "cell_type": "code",
   "execution_count": 2,
   "metadata": {
    "id": "-IXWhyv5Eczh"
   },
   "outputs": [],
   "source": [
    "# Write your code here\n",
    "profiles_df = pd.read_csv(r\"C:\\Users\\asuto\\Desktop\\Master's\\Padhai\\DATA602 - Data Science\\DATA602_HW\\DATA602_FardinaAlam\\HW\\HW3\\Profiles.csv\")"
   ]
  },
  {
   "cell_type": "markdown",
   "metadata": {
    "id": "aNBECwLXto9e"
   },
   "source": [
    "**TASK 1.2 (1 Point):**  Next, you need to display the number of rows and columns in the \"Profiles\" dataset."
   ]
  },
  {
   "cell_type": "code",
   "execution_count": 3,
   "metadata": {
    "id": "LnRyYhsZtpTb"
   },
   "outputs": [
    {
     "data": {
      "text/plain": [
       "(348, 8)"
      ]
     },
     "execution_count": 3,
     "metadata": {},
     "output_type": "execute_result"
    }
   ],
   "source": [
    "# Write your code here\n",
    "profiles_df.shape"
   ]
  },
  {
   "cell_type": "markdown",
   "metadata": {
    "id": "kH4QpKeXsFE3"
   },
   "source": [
    "**TASK 1.3 (1 Point):**  Next, you need to display the name of the columns in the \"Profiles\" dataset."
   ]
  },
  {
   "cell_type": "code",
   "execution_count": 4,
   "metadata": {
    "id": "71EZMoPKsDX0"
   },
   "outputs": [
    {
     "data": {
      "text/plain": [
       "Index(['ID', 'Name', 'Birthday', 'Location_during_crime', 'Eye_Color',\n",
       "       'Skin_Color', 'Hair_Color', 'Height'],\n",
       "      dtype='object')"
      ]
     },
     "execution_count": 4,
     "metadata": {},
     "output_type": "execute_result"
    }
   ],
   "source": [
    "# Write your code here\n",
    "profiles_df.columns"
   ]
  },
  {
   "cell_type": "markdown",
   "metadata": {
    "id": "9PPdHisOsjg0"
   },
   "source": [
    "**TASK 1.4 (1 Point):**  Now, you need to display the types of the columns in the \"Profiles\" dataset."
   ]
  },
  {
   "cell_type": "code",
   "execution_count": 5,
   "metadata": {
    "id": "riaoFt2js1DH"
   },
   "outputs": [
    {
     "data": {
      "text/plain": [
       "ID                       object\n",
       "Name                     object\n",
       "Birthday                 object\n",
       "Location_during_crime    object\n",
       "Eye_Color                object\n",
       "Skin_Color               object\n",
       "Hair_Color               object\n",
       "Height                    int64\n",
       "dtype: object"
      ]
     },
     "execution_count": 5,
     "metadata": {},
     "output_type": "execute_result"
    }
   ],
   "source": [
    "# Write your code here\n",
    "profiles_df.dtypes"
   ]
  },
  {
   "cell_type": "markdown",
   "metadata": {
    "id": "RmNRKK81FyyS"
   },
   "source": [
    "**TASK 1.5 (2 Points):** Utilizing the .count() function on this dataset and set it to the variable **info** and then display it. Write any **potential problem** that you see with the dataset when observing the output of the count function:\n",
    "\n",
    "\n"
   ]
  },
  {
   "cell_type": "code",
   "execution_count": 6,
   "metadata": {
    "id": "MXKTQ9k0K84A"
   },
   "outputs": [
    {
     "data": {
      "text/plain": [
       "ID                       348\n",
       "Name                     348\n",
       "Birthday                 348\n",
       "Location_during_crime    280\n",
       "Eye_Color                280\n",
       "Skin_Color               348\n",
       "Hair_Color               348\n",
       "Height                   348\n",
       "dtype: int64"
      ]
     },
     "execution_count": 6,
     "metadata": {},
     "output_type": "execute_result"
    }
   ],
   "source": [
    "## Write your code here\n",
    "info = profiles_df.count()\n",
    "info"
   ]
  },
  {
   "cell_type": "code",
   "execution_count": 7,
   "metadata": {},
   "outputs": [
    {
     "data": {
      "text/plain": [
       "68"
      ]
     },
     "execution_count": 7,
     "metadata": {},
     "output_type": "execute_result"
    }
   ],
   "source": [
    "348-280"
   ]
  },
  {
   "cell_type": "markdown",
   "metadata": {
    "id": "S-9jv80SKP0x"
   },
   "source": [
    "*Write your observations here:*\n",
    "\n",
    "There are several rows in the \"Location_during_crime\" and \"Eye_Color\" column which are null. 68 rows in particular.\n"
   ]
  },
  {
   "cell_type": "markdown",
   "metadata": {
    "id": "ZHRsBO_7KjOz"
   },
   "source": [
    "**TASK 1.6 (4 Points):** Look back at the \"Profiles\" dataset. Using other pandas functions than count(), can you spot another potential problem with the dataset?"
   ]
  },
  {
   "cell_type": "code",
   "execution_count": 8,
   "metadata": {
    "id": "Mj5q3ixftUm_"
   },
   "outputs": [
    {
     "data": {
      "text/plain": [
       "299"
      ]
     },
     "execution_count": 8,
     "metadata": {},
     "output_type": "execute_result"
    }
   ],
   "source": [
    "# Write your code here\n",
    "profiles_df['Name'].nunique()"
   ]
  },
  {
   "cell_type": "markdown",
   "metadata": {
    "id": "bobQCeJnNTyb"
   },
   "source": [
    "*Write your observation here:*\n",
    "\n",
    "There are names which are duplicated(348 rows and 299 unique names). Indicating, that a few people may have had duplicate records in the profiles dataset."
   ]
  },
  {
   "cell_type": "markdown",
   "metadata": {
    "id": "sWeYA6N4Nf-6"
   },
   "source": [
    "## Q2) Cleaning the data set"
   ]
  },
  {
   "cell_type": "markdown",
   "metadata": {
    "id": "vt02sN-9uZIb"
   },
   "source": [
    "**TASK 2.1 (10 Points):** Lets begin by fixing the Birthday column. You may notice that the dates are in inconsistent format!\n",
    "\n",
    "- Pandas internally represent dates in 'datetime64' format which is a form of ISO 8601. Basically, dates are represented as yyyy-mm-dd.\n",
    "\n",
    "\n",
    "- Fix all the dates in the Birthday Column.\n",
    "- Display the \"Profiles\" dataframe after you are done.\n",
    "- Note that the only 2 formats the dates are in is either yyyy/dd/mm or mm/dd/yyyy, you want to represent them as yyyy-mm-dd\n",
    "\n",
    "\n",
    "**HINT:** some datetime functions might make things easier.\n",
    "- https://www.geeksforgeeks.org/python-pandas-to_datetime/\n",
    "- https://www.programiz.com/python-programming/datetime/strftime\n"
   ]
  },
  {
   "cell_type": "code",
   "execution_count": 9,
   "metadata": {
    "id": "bLStgZpUQikT"
   },
   "outputs": [
    {
     "name": "stdout",
     "output_type": "stream",
     "text": [
      "CPU times: total: 78.1 ms\n",
      "Wall time: 60.5 ms\n"
     ]
    },
    {
     "data": {
      "text/html": [
       "<div>\n",
       "<style scoped>\n",
       "    .dataframe tbody tr th:only-of-type {\n",
       "        vertical-align: middle;\n",
       "    }\n",
       "\n",
       "    .dataframe tbody tr th {\n",
       "        vertical-align: top;\n",
       "    }\n",
       "\n",
       "    .dataframe thead th {\n",
       "        text-align: right;\n",
       "    }\n",
       "</style>\n",
       "<table border=\"1\" class=\"dataframe\">\n",
       "  <thead>\n",
       "    <tr style=\"text-align: right;\">\n",
       "      <th></th>\n",
       "      <th>ID</th>\n",
       "      <th>Name</th>\n",
       "      <th>Birthday</th>\n",
       "      <th>Location_during_crime</th>\n",
       "      <th>Eye_Color</th>\n",
       "      <th>Skin_Color</th>\n",
       "      <th>Hair_Color</th>\n",
       "      <th>Height</th>\n",
       "    </tr>\n",
       "  </thead>\n",
       "  <tbody>\n",
       "    <tr>\n",
       "      <th>0</th>\n",
       "      <td>P299</td>\n",
       "      <td>James Mason</td>\n",
       "      <td>1968-10-07</td>\n",
       "      <td>fourth floor</td>\n",
       "      <td>red</td>\n",
       "      <td>indigo</td>\n",
       "      <td>orange</td>\n",
       "      <td>191</td>\n",
       "    </tr>\n",
       "    <tr>\n",
       "      <th>1</th>\n",
       "      <td>P086</td>\n",
       "      <td>Christopher Rodriguez</td>\n",
       "      <td>1978-10-03</td>\n",
       "      <td>second floor</td>\n",
       "      <td>indigo</td>\n",
       "      <td>indigo</td>\n",
       "      <td>green</td>\n",
       "      <td>198</td>\n",
       "    </tr>\n",
       "    <tr>\n",
       "      <th>2</th>\n",
       "      <td>P022</td>\n",
       "      <td>Misty Ashley</td>\n",
       "      <td>1989-08-10</td>\n",
       "      <td>fourth floor</td>\n",
       "      <td>blue</td>\n",
       "      <td>red</td>\n",
       "      <td>violet</td>\n",
       "      <td>154</td>\n",
       "    </tr>\n",
       "    <tr>\n",
       "      <th>3</th>\n",
       "      <td>P003</td>\n",
       "      <td>Amanda Brown</td>\n",
       "      <td>1995-10-27</td>\n",
       "      <td>lobby</td>\n",
       "      <td>green</td>\n",
       "      <td>blue</td>\n",
       "      <td>violet</td>\n",
       "      <td>158</td>\n",
       "    </tr>\n",
       "    <tr>\n",
       "      <th>4</th>\n",
       "      <td>P036</td>\n",
       "      <td>William Jones</td>\n",
       "      <td>1990-02-26</td>\n",
       "      <td>fourth floor</td>\n",
       "      <td>blue</td>\n",
       "      <td>yellow</td>\n",
       "      <td>orange</td>\n",
       "      <td>184</td>\n",
       "    </tr>\n",
       "  </tbody>\n",
       "</table>\n",
       "</div>"
      ],
      "text/plain": [
       "     ID                   Name   Birthday Location_during_crime Eye_Color  \\\n",
       "0  P299            James Mason 1968-10-07          fourth floor       red   \n",
       "1  P086  Christopher Rodriguez 1978-10-03          second floor    indigo   \n",
       "2  P022           Misty Ashley 1989-08-10          fourth floor      blue   \n",
       "3  P003           Amanda Brown 1995-10-27                 lobby     green   \n",
       "4  P036          William Jones 1990-02-26          fourth floor      blue   \n",
       "\n",
       "  Skin_Color Hair_Color  Height  \n",
       "0     indigo     orange     191  \n",
       "1     indigo      green     198  \n",
       "2        red     violet     154  \n",
       "3       blue     violet     158  \n",
       "4     yellow     orange     184  "
      ]
     },
     "execution_count": 9,
     "metadata": {},
     "output_type": "execute_result"
    }
   ],
   "source": [
    "%%time\n",
    "def dateFnx(row):\n",
    "    if len(row.split('/')[0]) == 4:\n",
    "        return pd.to_datetime(row,format='%Y/%d/%m').strftime('%Y-%m-%d')\n",
    "    return pd.to_datetime(row,format='%m/%d/%Y').strftime('%Y-%m-%d')\n",
    "\n",
    "profiles_df.Birthday = pd.to_datetime(profiles_df.Birthday.apply(dateFnx))\n",
    "profiles_df.head()"
   ]
  },
  {
   "cell_type": "markdown",
   "metadata": {
    "id": "FKlHOEj7aPpt"
   },
   "source": [
    "**TASK 2.2 (5 Points):** Now that we have cleaned up the Birthday column, lets find the age of each person. Create a new column called \"Age\" that displays the age of the person **on the day of the crime.** Once you are done, display the\n",
    "\"Profiles\" dataframe"
   ]
  },
  {
   "cell_type": "code",
   "execution_count": 10,
   "metadata": {
    "id": "_p9-0y1hazEz"
   },
   "outputs": [
    {
     "data": {
      "text/html": [
       "<div>\n",
       "<style scoped>\n",
       "    .dataframe tbody tr th:only-of-type {\n",
       "        vertical-align: middle;\n",
       "    }\n",
       "\n",
       "    .dataframe tbody tr th {\n",
       "        vertical-align: top;\n",
       "    }\n",
       "\n",
       "    .dataframe thead th {\n",
       "        text-align: right;\n",
       "    }\n",
       "</style>\n",
       "<table border=\"1\" class=\"dataframe\">\n",
       "  <thead>\n",
       "    <tr style=\"text-align: right;\">\n",
       "      <th></th>\n",
       "      <th>ID</th>\n",
       "      <th>Name</th>\n",
       "      <th>Birthday</th>\n",
       "      <th>Location_during_crime</th>\n",
       "      <th>Eye_Color</th>\n",
       "      <th>Skin_Color</th>\n",
       "      <th>Hair_Color</th>\n",
       "      <th>Height</th>\n",
       "      <th>Age</th>\n",
       "    </tr>\n",
       "  </thead>\n",
       "  <tbody>\n",
       "    <tr>\n",
       "      <th>0</th>\n",
       "      <td>P299</td>\n",
       "      <td>James Mason</td>\n",
       "      <td>1968-10-07</td>\n",
       "      <td>fourth floor</td>\n",
       "      <td>red</td>\n",
       "      <td>indigo</td>\n",
       "      <td>orange</td>\n",
       "      <td>191</td>\n",
       "      <td>55.964384</td>\n",
       "    </tr>\n",
       "    <tr>\n",
       "      <th>1</th>\n",
       "      <td>P086</td>\n",
       "      <td>Christopher Rodriguez</td>\n",
       "      <td>1978-10-03</td>\n",
       "      <td>second floor</td>\n",
       "      <td>indigo</td>\n",
       "      <td>indigo</td>\n",
       "      <td>green</td>\n",
       "      <td>198</td>\n",
       "      <td>45.969863</td>\n",
       "    </tr>\n",
       "    <tr>\n",
       "      <th>2</th>\n",
       "      <td>P022</td>\n",
       "      <td>Misty Ashley</td>\n",
       "      <td>1989-08-10</td>\n",
       "      <td>fourth floor</td>\n",
       "      <td>blue</td>\n",
       "      <td>red</td>\n",
       "      <td>violet</td>\n",
       "      <td>154</td>\n",
       "      <td>35.109589</td>\n",
       "    </tr>\n",
       "    <tr>\n",
       "      <th>3</th>\n",
       "      <td>P003</td>\n",
       "      <td>Amanda Brown</td>\n",
       "      <td>1995-10-27</td>\n",
       "      <td>lobby</td>\n",
       "      <td>green</td>\n",
       "      <td>blue</td>\n",
       "      <td>violet</td>\n",
       "      <td>158</td>\n",
       "      <td>28.893151</td>\n",
       "    </tr>\n",
       "    <tr>\n",
       "      <th>4</th>\n",
       "      <td>P036</td>\n",
       "      <td>William Jones</td>\n",
       "      <td>1990-02-26</td>\n",
       "      <td>fourth floor</td>\n",
       "      <td>blue</td>\n",
       "      <td>yellow</td>\n",
       "      <td>orange</td>\n",
       "      <td>184</td>\n",
       "      <td>34.561644</td>\n",
       "    </tr>\n",
       "  </tbody>\n",
       "</table>\n",
       "</div>"
      ],
      "text/plain": [
       "     ID                   Name   Birthday Location_during_crime Eye_Color  \\\n",
       "0  P299            James Mason 1968-10-07          fourth floor       red   \n",
       "1  P086  Christopher Rodriguez 1978-10-03          second floor    indigo   \n",
       "2  P022           Misty Ashley 1989-08-10          fourth floor      blue   \n",
       "3  P003           Amanda Brown 1995-10-27                 lobby     green   \n",
       "4  P036          William Jones 1990-02-26          fourth floor      blue   \n",
       "\n",
       "  Skin_Color Hair_Color  Height        Age  \n",
       "0     indigo     orange     191  55.964384  \n",
       "1     indigo      green     198  45.969863  \n",
       "2        red     violet     154  35.109589  \n",
       "3       blue     violet     158  28.893151  \n",
       "4     yellow     orange     184  34.561644  "
      ]
     },
     "execution_count": 10,
     "metadata": {},
     "output_type": "execute_result"
    }
   ],
   "source": [
    "# Write your code here\n",
    "profiles_df['Age'] = (pd.to_datetime('2024-09-10',format='%Y-%m-%d') - profiles_df.Birthday).dt.days/365\n",
    "profiles_df.head()"
   ]
  },
  {
   "cell_type": "markdown",
   "metadata": {
    "id": "a0gt8jzHgZJQ"
   },
   "source": [
    "**TASK 2.3 (10 Points):** Now that we have created the \"age\"; lets clean the 'Eye_color's column.\n",
    "\n",
    "***Please read the directions carefully:***\n",
    "\n",
    "\n",
    "- In order to fill in the missing eye_colors, we want to find the **most common eye_color** among those who have the **same hair and skin color**.\n",
    "- For Instance, if we want to find the eye_color of someone who has yellow hair and violet skin:\n",
    " - we would first find everything who has the same hair and skin color, in this case it would be yellow hair and violet skin\n",
    " - and then we find the most common eye_color among them.\n",
    " - we then replace the missing eye_color with the eye color that is the most common among the people with the same hair and skin color.\n",
    "- Watch out for redundant data!\n",
    "\n",
    "- ***FIX: In the case that you find multiple modes, choose the color that appears first in alphabetical order***\n",
    "\n",
    " When you finish filling in the missing eye colors, please display the profiles_df\n"
   ]
  },
  {
   "cell_type": "code",
   "execution_count": 11,
   "metadata": {
    "id": "gd6uRagRjMhx"
   },
   "outputs": [
    {
     "data": {
      "text/html": [
       "<div>\n",
       "<style scoped>\n",
       "    .dataframe tbody tr th:only-of-type {\n",
       "        vertical-align: middle;\n",
       "    }\n",
       "\n",
       "    .dataframe tbody tr th {\n",
       "        vertical-align: top;\n",
       "    }\n",
       "\n",
       "    .dataframe thead th {\n",
       "        text-align: right;\n",
       "    }\n",
       "</style>\n",
       "<table border=\"1\" class=\"dataframe\">\n",
       "  <thead>\n",
       "    <tr style=\"text-align: right;\">\n",
       "      <th></th>\n",
       "      <th>ID</th>\n",
       "      <th>Name</th>\n",
       "      <th>Birthday</th>\n",
       "      <th>Location_during_crime</th>\n",
       "      <th>Eye_Color</th>\n",
       "      <th>Skin_Color</th>\n",
       "      <th>Hair_Color</th>\n",
       "      <th>Height</th>\n",
       "      <th>Age</th>\n",
       "    </tr>\n",
       "  </thead>\n",
       "  <tbody>\n",
       "    <tr>\n",
       "      <th>0</th>\n",
       "      <td>P299</td>\n",
       "      <td>James Mason</td>\n",
       "      <td>1968-10-07</td>\n",
       "      <td>fourth floor</td>\n",
       "      <td>red</td>\n",
       "      <td>indigo</td>\n",
       "      <td>orange</td>\n",
       "      <td>191</td>\n",
       "      <td>55.964384</td>\n",
       "    </tr>\n",
       "    <tr>\n",
       "      <th>1</th>\n",
       "      <td>P086</td>\n",
       "      <td>Christopher Rodriguez</td>\n",
       "      <td>1978-10-03</td>\n",
       "      <td>second floor</td>\n",
       "      <td>indigo</td>\n",
       "      <td>indigo</td>\n",
       "      <td>green</td>\n",
       "      <td>198</td>\n",
       "      <td>45.969863</td>\n",
       "    </tr>\n",
       "    <tr>\n",
       "      <th>2</th>\n",
       "      <td>P022</td>\n",
       "      <td>Misty Ashley</td>\n",
       "      <td>1989-08-10</td>\n",
       "      <td>fourth floor</td>\n",
       "      <td>blue</td>\n",
       "      <td>red</td>\n",
       "      <td>violet</td>\n",
       "      <td>154</td>\n",
       "      <td>35.109589</td>\n",
       "    </tr>\n",
       "    <tr>\n",
       "      <th>3</th>\n",
       "      <td>P003</td>\n",
       "      <td>Amanda Brown</td>\n",
       "      <td>1995-10-27</td>\n",
       "      <td>lobby</td>\n",
       "      <td>green</td>\n",
       "      <td>blue</td>\n",
       "      <td>violet</td>\n",
       "      <td>158</td>\n",
       "      <td>28.893151</td>\n",
       "    </tr>\n",
       "    <tr>\n",
       "      <th>4</th>\n",
       "      <td>P036</td>\n",
       "      <td>William Jones</td>\n",
       "      <td>1990-02-26</td>\n",
       "      <td>fourth floor</td>\n",
       "      <td>blue</td>\n",
       "      <td>yellow</td>\n",
       "      <td>orange</td>\n",
       "      <td>184</td>\n",
       "      <td>34.561644</td>\n",
       "    </tr>\n",
       "  </tbody>\n",
       "</table>\n",
       "</div>"
      ],
      "text/plain": [
       "     ID                   Name   Birthday Location_during_crime Eye_Color  \\\n",
       "0  P299            James Mason 1968-10-07          fourth floor       red   \n",
       "1  P086  Christopher Rodriguez 1978-10-03          second floor    indigo   \n",
       "2  P022           Misty Ashley 1989-08-10          fourth floor      blue   \n",
       "3  P003           Amanda Brown 1995-10-27                 lobby     green   \n",
       "4  P036          William Jones 1990-02-26          fourth floor      blue   \n",
       "\n",
       "  Skin_Color Hair_Color  Height        Age  \n",
       "0     indigo     orange     191  55.964384  \n",
       "1     indigo      green     198  45.969863  \n",
       "2        red     violet     154  35.109589  \n",
       "3       blue     violet     158  28.893151  \n",
       "4     yellow     orange     184  34.561644  "
      ]
     },
     "execution_count": 11,
     "metadata": {},
     "output_type": "execute_result"
    }
   ],
   "source": [
    "# Write your code here\n",
    "eyeColorMap = profiles_df[['Skin_Color','Hair_Color','Eye_Color']].groupby(by=['Skin_Color','Hair_Color']).agg(pd.Series.mode)\n",
    "\n",
    "def fnx(row):\n",
    "    eye = eyeColorMap.loc[(row['Skin_Color'],row['Hair_Color'])].item()\n",
    "    if type(eye) == type(np.array([])):\n",
    "        return np.sort(eye)[0]\n",
    "    else:\n",
    "        return eye\n",
    "idx = profiles_df[profiles_df.Eye_Color.isna()].index\n",
    "\n",
    "profiles_df.loc[idx,'Eye_Color'] = profiles_df[profiles_df.Eye_Color.isna()].apply(fnx,axis=1)\n",
    "profiles_df.head()"
   ]
  },
  {
   "cell_type": "code",
   "execution_count": null,
   "metadata": {},
   "outputs": [],
   "source": []
  },
  {
   "cell_type": "markdown",
   "metadata": {
    "id": "k14ktiue0Tfi"
   },
   "source": [
    "\n",
    "## Q3) Finding the features of the culprit\n",
    "\n",
    "Now that we have successfully cleaned all of our data, lets begin finding the features of the criminal. Take a moment to look at the **\"Witnesses\"** table. We don't necessarily want all the statements from every single witness.\n",
    "\n",
    "**NOTE:** Take a look at the structure of each statement, notice how there are only a few variations of statements from the witnesses.\n",
    "\n",
    "**TASK 3.1 (5 Points):** Find all witnesses that were near the crime scene\n",
    "- First load in the Witness.csv file and set it to a variable called \"**witness_df**\"\n",
    "- create a new dataframe called **\"important_witnesses\"** that contains the id and the witness statements of those who were near the scene of the crime\n",
    "- display the new dataframe when you are finished\n",
    "- **HINT:** look at the floor which the crime happened on."
   ]
  },
  {
   "cell_type": "code",
   "execution_count": 12,
   "metadata": {
    "id": "ismbbFGWw2Hu"
   },
   "outputs": [
    {
     "data": {
      "text/plain": [
       "Location_during_crime\n",
       "fourth floor    79\n",
       "third floor     73\n",
       "second floor    71\n",
       "lobby           57\n",
       "Name: count, dtype: int64"
      ]
     },
     "execution_count": 12,
     "metadata": {},
     "output_type": "execute_result"
    }
   ],
   "source": [
    "# Write your code here\n",
    "witness_df = pd.read_csv(r\"C:\\Users\\asuto\\Desktop\\Master's\\Padhai\\DATA602 - Data Science\\DATA602_HW\\DATA602_FardinaAlam\\HW\\HW3\\Witness.csv\")\n",
    "profiles_df['Location_during_crime'].value_counts()"
   ]
  },
  {
   "cell_type": "code",
   "execution_count": 13,
   "metadata": {},
   "outputs": [
    {
     "data": {
      "text/html": [
       "<div>\n",
       "<style scoped>\n",
       "    .dataframe tbody tr th:only-of-type {\n",
       "        vertical-align: middle;\n",
       "    }\n",
       "\n",
       "    .dataframe tbody tr th {\n",
       "        vertical-align: top;\n",
       "    }\n",
       "\n",
       "    .dataframe thead th {\n",
       "        text-align: right;\n",
       "    }\n",
       "</style>\n",
       "<table border=\"1\" class=\"dataframe\">\n",
       "  <thead>\n",
       "    <tr style=\"text-align: right;\">\n",
       "      <th></th>\n",
       "      <th>ID</th>\n",
       "      <th>Statement</th>\n",
       "    </tr>\n",
       "  </thead>\n",
       "  <tbody>\n",
       "    <tr>\n",
       "      <th>2</th>\n",
       "      <td>P184</td>\n",
       "      <td>I saw someone with indigo skin acting suspicious.</td>\n",
       "    </tr>\n",
       "    <tr>\n",
       "      <th>4</th>\n",
       "      <td>P001</td>\n",
       "      <td>I saw someone with red hair acting suspicious.</td>\n",
       "    </tr>\n",
       "    <tr>\n",
       "      <th>6</th>\n",
       "      <td>P283</td>\n",
       "      <td>I saw someone that looks to be 20 years old ac...</td>\n",
       "    </tr>\n",
       "    <tr>\n",
       "      <th>7</th>\n",
       "      <td>P190</td>\n",
       "      <td>I saw someone with orange eyes acting suspicious.</td>\n",
       "    </tr>\n",
       "    <tr>\n",
       "      <th>10</th>\n",
       "      <td>P071</td>\n",
       "      <td>I saw someone with violet eyes acting suspicious.</td>\n",
       "    </tr>\n",
       "    <tr>\n",
       "      <th>...</th>\n",
       "      <td>...</td>\n",
       "      <td>...</td>\n",
       "    </tr>\n",
       "    <tr>\n",
       "      <th>292</th>\n",
       "      <td>P275</td>\n",
       "      <td>I saw someone that looks to be 24 years old ac...</td>\n",
       "    </tr>\n",
       "    <tr>\n",
       "      <th>293</th>\n",
       "      <td>P148</td>\n",
       "      <td>I saw someone with violet eyes acting suspicious.</td>\n",
       "    </tr>\n",
       "    <tr>\n",
       "      <th>294</th>\n",
       "      <td>P053</td>\n",
       "      <td>I saw someone with orange skin acting suspicious.</td>\n",
       "    </tr>\n",
       "    <tr>\n",
       "      <th>295</th>\n",
       "      <td>P123</td>\n",
       "      <td>I saw someone that looks to be 20 years old ac...</td>\n",
       "    </tr>\n",
       "    <tr>\n",
       "      <th>297</th>\n",
       "      <td>P238</td>\n",
       "      <td>I saw someone with yellow hair acting suspicious.</td>\n",
       "    </tr>\n",
       "  </tbody>\n",
       "</table>\n",
       "<p>64 rows × 2 columns</p>\n",
       "</div>"
      ],
      "text/plain": [
       "       ID                                          Statement\n",
       "2    P184  I saw someone with indigo skin acting suspicious.\n",
       "4    P001     I saw someone with red hair acting suspicious.\n",
       "6    P283  I saw someone that looks to be 20 years old ac...\n",
       "7    P190  I saw someone with orange eyes acting suspicious.\n",
       "10   P071  I saw someone with violet eyes acting suspicious.\n",
       "..    ...                                                ...\n",
       "292  P275  I saw someone that looks to be 24 years old ac...\n",
       "293  P148  I saw someone with violet eyes acting suspicious.\n",
       "294  P053  I saw someone with orange skin acting suspicious.\n",
       "295  P123  I saw someone that looks to be 20 years old ac...\n",
       "297  P238  I saw someone with yellow hair acting suspicious.\n",
       "\n",
       "[64 rows x 2 columns]"
      ]
     },
     "execution_count": 13,
     "metadata": {},
     "output_type": "execute_result"
    }
   ],
   "source": [
    "fnx = lambda row:True if 'third' in row['Location_during_crime'] else False\n",
    "tt = profiles_df[profiles_df['Location_during_crime'].notna()].apply(fnx,axis=1)\n",
    "idx = tt[tt==True].index\n",
    "\n",
    "important_witnesses = witness_df[witness_df.ID.isin(profiles_df.iloc[idx]['ID'])]\n",
    "important_witnesses"
   ]
  },
  {
   "cell_type": "markdown",
   "metadata": {
    "id": "OHirO_rbw8fV"
   },
   "source": [
    "**TASK 3.2 (10 Points):** Find every potential eye color that the culprit could have\n",
    "\n",
    " - Put all the potential eye colors of the culprit in a list called **\"potential_eye_colors\"** and display it when you're done. potential_eye_colors should have **no duplicates.**"
   ]
  },
  {
   "cell_type": "code",
   "execution_count": 14,
   "metadata": {
    "id": "iNG-V7QFw9aO"
   },
   "outputs": [
    {
     "data": {
      "text/plain": [
       "['orange', 'violet', 'red', 'blue']"
      ]
     },
     "execution_count": 14,
     "metadata": {},
     "output_type": "execute_result"
    }
   ],
   "source": [
    "# Write your code here\n",
    "potential_eye_colors = []\n",
    "\n",
    "for _,row in important_witnesses.iterrows():\n",
    "    statement = row['Statement']\n",
    "    if 'eyes' in statement.split():\n",
    "        flag = statement.split().index('eyes')\n",
    "        color = statement.split()[flag-1]\n",
    "        if color not in potential_eye_colors:\n",
    "            potential_eye_colors.append(color)\n",
    "potential_eye_colors"
   ]
  },
  {
   "cell_type": "markdown",
   "metadata": {
    "id": "3NaknJWew5P1"
   },
   "source": [
    "**TASK 3.3 (5 Points):** Find every potential hair color that the culprit could have\n",
    "\n",
    " - Put all the potential hair colors of the culprit in a list called **\"potential_hair_colors\"** and display it when you're done"
   ]
  },
  {
   "cell_type": "code",
   "execution_count": 15,
   "metadata": {
    "id": "7ptAepng3aBc"
   },
   "outputs": [
    {
     "data": {
      "text/plain": [
       "['red', 'violet', 'orange', 'yellow', 'green', 'indigo', 'blue']"
      ]
     },
     "execution_count": 15,
     "metadata": {},
     "output_type": "execute_result"
    }
   ],
   "source": [
    "# Write your code here\n",
    "\n",
    "potential_hair_colors = []\n",
    "\n",
    "for _,row in important_witnesses.iterrows():\n",
    "    statement = row['Statement']\n",
    "    if 'hair' in statement.split():\n",
    "        # print(statement)\n",
    "        flag = statement.split().index('hair')\n",
    "        color = statement.split()[flag-1]\n",
    "        if color not in potential_hair_colors:\n",
    "            potential_hair_colors.append(color)\n",
    "potential_hair_colors"
   ]
  },
  {
   "cell_type": "markdown",
   "metadata": {
    "id": "ID0tGLC_3bfv"
   },
   "source": [
    "**TASK 3.4 (5 Points):** Find every potential skin color that the culprit could have\n",
    "\n",
    " - Put all the potential skin colors of the culprit in a list called **\"potential_skin_colors\"** and display it when you're done"
   ]
  },
  {
   "cell_type": "code",
   "execution_count": 16,
   "metadata": {
    "id": "9S0_khng3fZ7"
   },
   "outputs": [
    {
     "data": {
      "text/plain": [
       "['indigo', 'green', 'blue', 'red', 'violet', 'orange']"
      ]
     },
     "execution_count": 16,
     "metadata": {},
     "output_type": "execute_result"
    }
   ],
   "source": [
    "potential_skin_colors = []\n",
    "\n",
    "for _,row in important_witnesses.iterrows():\n",
    "    statement = row['Statement']\n",
    "    if 'skin' in statement.split():\n",
    "        # print(statement)\n",
    "        flag = statement.split().index('skin')\n",
    "        color = statement.split()[flag-1]\n",
    "        if color not in potential_skin_colors:\n",
    "            potential_skin_colors.append(color)\n",
    "potential_skin_colors"
   ]
  },
  {
   "cell_type": "markdown",
   "metadata": {
    "id": "jU8OT78q3t73"
   },
   "source": [
    "**TASK 3.5 (10 Points):** Find the potential height of the culprit\n",
    "\n",
    " - Put the smallest and largest potential heights of the culprit in the variables called **\"smallest_height\" & \"largest_height\"** and display them when you are done"
   ]
  },
  {
   "cell_type": "code",
   "execution_count": 17,
   "metadata": {
    "id": "Hz4sYBQe3zMT"
   },
   "outputs": [
    {
     "name": "stdout",
     "output_type": "stream",
     "text": [
      "Smallest Height: 150\n",
      "Largest Height: 200\n"
     ]
    }
   ],
   "source": [
    "# Write your code here\n",
    "smallest_height,largest_height = profiles_df[(profiles_df.Eye_Color.isin(potential_eye_colors))|(profiles_df.Eye_Color.isin(potential_hair_colors))|(profiles_df.Eye_Color.isin(potential_skin_colors))].Height.agg(['min','max'])\n",
    "smallest_height,largest_height\n",
    "\n",
    "print(\"Smallest Height:\",smallest_height)\n",
    "print(\"Largest Height:\",largest_height)"
   ]
  },
  {
   "cell_type": "markdown",
   "metadata": {
    "id": "n3bjueSr4LxH"
   },
   "source": [
    "**TASK 3.6 (8 Points):** Find the potential age of the culprit\n",
    "\n",
    " - Put the smallest and largest potential age of the culprit in the variables called **\"smallest_age\" & \"largest_age\"** and display them when you are done"
   ]
  },
  {
   "cell_type": "code",
   "execution_count": 18,
   "metadata": {
    "id": "fP0uPiGP4VgW"
   },
   "outputs": [
    {
     "name": "stdout",
     "output_type": "stream",
     "text": [
      "Smallest Height: 18.564383561643837\n",
      "Largest Height: 66.34520547945205\n"
     ]
    }
   ],
   "source": [
    "# Write your code here\n",
    "smallest_age,largest_age = profiles_df[(profiles_df.Eye_Color.isin(potential_eye_colors))|(profiles_df.Eye_Color.isin(potential_hair_colors))|(profiles_df.Eye_Color.isin(potential_skin_colors))].Age.agg(['min','max'])\n",
    "smallest_age,largest_age\n",
    "\n",
    "print(\"Smallest Height:\",smallest_age)\n",
    "print(\"Largest Height:\",largest_age)"
   ]
  },
  {
   "cell_type": "markdown",
   "metadata": {
    "id": "-T28JmmF4uIs"
   },
   "source": [
    "## Q4) Finding who ones the ticket"
   ]
  },
  {
   "cell_type": "markdown",
   "metadata": {
    "id": "dSTwOUrC4vy6"
   },
   "source": [
    "**TASK 4.1 (2 Points):** Loading final dfs\n",
    "\n",
    "\n",
    "Load in the **\"Zichao's Magic Show.csv\"** into a dataframe called **\"show_df\"** and the **\"Interrogation_Statement.csv\"** into a dataframe called **\"interrogation_df\"** respectively and display them when you are done"
   ]
  },
  {
   "cell_type": "code",
   "execution_count": 19,
   "metadata": {
    "id": "zpD9aMsK49Or"
   },
   "outputs": [
    {
     "data": {
      "text/html": [
       "<div>\n",
       "<style scoped>\n",
       "    .dataframe tbody tr th:only-of-type {\n",
       "        vertical-align: middle;\n",
       "    }\n",
       "\n",
       "    .dataframe tbody tr th {\n",
       "        vertical-align: top;\n",
       "    }\n",
       "\n",
       "    .dataframe thead th {\n",
       "        text-align: right;\n",
       "    }\n",
       "</style>\n",
       "<table border=\"1\" class=\"dataframe\">\n",
       "  <thead>\n",
       "    <tr style=\"text-align: right;\">\n",
       "      <th></th>\n",
       "      <th>ID</th>\n",
       "      <th>Ticket_Number</th>\n",
       "    </tr>\n",
       "  </thead>\n",
       "  <tbody>\n",
       "    <tr>\n",
       "      <th>0</th>\n",
       "      <td>P132</td>\n",
       "      <td>50269975</td>\n",
       "    </tr>\n",
       "    <tr>\n",
       "      <th>1</th>\n",
       "      <td>P056</td>\n",
       "      <td>28120732</td>\n",
       "    </tr>\n",
       "    <tr>\n",
       "      <th>2</th>\n",
       "      <td>P250</td>\n",
       "      <td>88051289</td>\n",
       "    </tr>\n",
       "    <tr>\n",
       "      <th>3</th>\n",
       "      <td>P197</td>\n",
       "      <td>79545169</td>\n",
       "    </tr>\n",
       "    <tr>\n",
       "      <th>4</th>\n",
       "      <td>P012</td>\n",
       "      <td>83521845</td>\n",
       "    </tr>\n",
       "  </tbody>\n",
       "</table>\n",
       "</div>"
      ],
      "text/plain": [
       "     ID  Ticket_Number\n",
       "0  P132       50269975\n",
       "1  P056       28120732\n",
       "2  P250       88051289\n",
       "3  P197       79545169\n",
       "4  P012       83521845"
      ]
     },
     "execution_count": 19,
     "metadata": {},
     "output_type": "execute_result"
    }
   ],
   "source": [
    "# Write your code here\n",
    "show_df = pd.read_csv(r\"C:\\Users\\asuto\\Desktop\\Master's\\Padhai\\DATA602 - Data Science\\DATA602_HW\\DATA602_FardinaAlam\\HW\\HW3\\Zichao_s Magic Show.csv\")\n",
    "interrogation_df = pd.read_csv(r\"C:\\Users\\asuto\\Desktop\\Master's\\Padhai\\DATA602 - Data Science\\DATA602_HW\\DATA602_FardinaAlam\\HW\\HW3\\Interrogation_Statements.csv\")\n",
    "\n",
    "show_df.head()"
   ]
  },
  {
   "cell_type": "code",
   "execution_count": 20,
   "metadata": {},
   "outputs": [
    {
     "data": {
      "text/html": [
       "<div>\n",
       "<style scoped>\n",
       "    .dataframe tbody tr th:only-of-type {\n",
       "        vertical-align: middle;\n",
       "    }\n",
       "\n",
       "    .dataframe tbody tr th {\n",
       "        vertical-align: top;\n",
       "    }\n",
       "\n",
       "    .dataframe thead th {\n",
       "        text-align: right;\n",
       "    }\n",
       "</style>\n",
       "<table border=\"1\" class=\"dataframe\">\n",
       "  <thead>\n",
       "    <tr style=\"text-align: right;\">\n",
       "      <th></th>\n",
       "      <th>Name</th>\n",
       "      <th>Statement</th>\n",
       "    </tr>\n",
       "  </thead>\n",
       "  <tbody>\n",
       "    <tr>\n",
       "      <th>0</th>\n",
       "      <td>Jennifer Mccoy</td>\n",
       "      <td>Stealing? That's not in my nature at all. I re...</td>\n",
       "    </tr>\n",
       "    <tr>\n",
       "      <th>1</th>\n",
       "      <td>Karina Gray</td>\n",
       "      <td>Stealing? That's not in my nature at all. I re...</td>\n",
       "    </tr>\n",
       "    <tr>\n",
       "      <th>2</th>\n",
       "      <td>Craig Espinoza</td>\n",
       "      <td>I was busy with my project presentation in ano...</td>\n",
       "    </tr>\n",
       "    <tr>\n",
       "      <th>3</th>\n",
       "      <td>Michael Mendez</td>\n",
       "      <td>I had back-to-back exams that day. Stealing Dr...</td>\n",
       "    </tr>\n",
       "    <tr>\n",
       "      <th>4</th>\n",
       "      <td>Tara Thompson</td>\n",
       "      <td>I wasn't even on campus that day. Check the at...</td>\n",
       "    </tr>\n",
       "  </tbody>\n",
       "</table>\n",
       "</div>"
      ],
      "text/plain": [
       "             Name                                          Statement\n",
       "0  Jennifer Mccoy  Stealing? That's not in my nature at all. I re...\n",
       "1     Karina Gray  Stealing? That's not in my nature at all. I re...\n",
       "2  Craig Espinoza  I was busy with my project presentation in ano...\n",
       "3  Michael Mendez  I had back-to-back exams that day. Stealing Dr...\n",
       "4   Tara Thompson  I wasn't even on campus that day. Check the at..."
      ]
     },
     "execution_count": 20,
     "metadata": {},
     "output_type": "execute_result"
    }
   ],
   "source": [
    "interrogation_df.head()"
   ]
  },
  {
   "cell_type": "markdown",
   "metadata": {
    "id": "KRzcduTO5fTe"
   },
   "source": [
    "\n",
    "**TASK 4.2 (8 Points):** Create a column called **Ticket_Color** for the **\"show_df\"** that displays all the colors of the ticket\n",
    "\n",
    "Remember that there was a show ticket left at the crime scene, take a second to look through **\"show_df\"**. Try and find a way to identify how you can find the ticket color from the ticket number.\n",
    "\n",
    "display the **\"show_df\"** when you are done\n",
    "\n",
    "**HINT:** examine the **\"interogation_df\"**"
   ]
  },
  {
   "cell_type": "code",
   "execution_count": 21,
   "metadata": {
    "id": "b9JAdRin8rWX"
   },
   "outputs": [
    {
     "data": {
      "text/plain": [
       "Statement\n",
       "I was busy with my project presentation in another building. I didn't even step into Dr. Fardina's room.    120\n",
       "Stealing? That's not in my nature at all. I respect everyone's property, especially Dr. Fardina's.          118\n",
       "I had back-to-back exams that day. Stealing Dr. Fardina's marker would be the last thing on my mind!        115\n",
       "Why would I need to steal a marker? I have plenty of my own. This accusation is absurd.                     106\n",
       "I wasn't even on campus that day. Check the attendance logs; you won't find my name.                         38\n",
       "We don't keep track of ticket colors, but my business partner Elizabeth Uiq might know how to find it!        1\n",
       "Sum the individual #s in ticket numbers, look at the rightmost value, 0-2:B, 3-5:R , 6-7:G, 8-9:Y             1\n",
       "Fardina's Markers were just too dang cool :( I saw them and I knew I had to have them. >:( arrest me          1\n",
       "Name: count, dtype: int64"
      ]
     },
     "execution_count": 21,
     "metadata": {},
     "output_type": "execute_result"
    }
   ],
   "source": [
    "# Write your code here\n",
    "interrogation_df['Statement'].value_counts()"
   ]
  },
  {
   "cell_type": "code",
   "execution_count": 22,
   "metadata": {},
   "outputs": [
    {
     "data": {
      "text/html": [
       "<div>\n",
       "<style scoped>\n",
       "    .dataframe tbody tr th:only-of-type {\n",
       "        vertical-align: middle;\n",
       "    }\n",
       "\n",
       "    .dataframe tbody tr th {\n",
       "        vertical-align: top;\n",
       "    }\n",
       "\n",
       "    .dataframe thead th {\n",
       "        text-align: right;\n",
       "    }\n",
       "</style>\n",
       "<table border=\"1\" class=\"dataframe\">\n",
       "  <thead>\n",
       "    <tr style=\"text-align: right;\">\n",
       "      <th></th>\n",
       "      <th>ID</th>\n",
       "      <th>Ticket_Number</th>\n",
       "      <th>Ticket_Color</th>\n",
       "    </tr>\n",
       "  </thead>\n",
       "  <tbody>\n",
       "    <tr>\n",
       "      <th>0</th>\n",
       "      <td>P132</td>\n",
       "      <td>50269975</td>\n",
       "      <td>R</td>\n",
       "    </tr>\n",
       "    <tr>\n",
       "      <th>1</th>\n",
       "      <td>P056</td>\n",
       "      <td>28120732</td>\n",
       "      <td>R</td>\n",
       "    </tr>\n",
       "    <tr>\n",
       "      <th>2</th>\n",
       "      <td>P250</td>\n",
       "      <td>88051289</td>\n",
       "      <td>B</td>\n",
       "    </tr>\n",
       "    <tr>\n",
       "      <th>3</th>\n",
       "      <td>P197</td>\n",
       "      <td>79545169</td>\n",
       "      <td>G</td>\n",
       "    </tr>\n",
       "    <tr>\n",
       "      <th>4</th>\n",
       "      <td>P012</td>\n",
       "      <td>83521845</td>\n",
       "      <td>G</td>\n",
       "    </tr>\n",
       "  </tbody>\n",
       "</table>\n",
       "</div>"
      ],
      "text/plain": [
       "     ID  Ticket_Number Ticket_Color\n",
       "0  P132       50269975            R\n",
       "1  P056       28120732            R\n",
       "2  P250       88051289            B\n",
       "3  P197       79545169            G\n",
       "4  P012       83521845            G"
      ]
     },
     "execution_count": 22,
     "metadata": {},
     "output_type": "execute_result"
    }
   ],
   "source": [
    "def fnx(row):\n",
    "    summ = 0\n",
    "    for i in str(row):\n",
    "        summ += int(i)\n",
    "    rightMost = summ%10\n",
    "    if rightMost>=0 and rightMost<=2:\n",
    "        return 'B'\n",
    "    elif rightMost>=3 and rightMost<=5:\n",
    "        return 'R'\n",
    "    elif rightMost>=6 and rightMost<=7:\n",
    "        return 'G'\n",
    "    return 'Y'\n",
    "    \n",
    "show_df = show_df.assign(Ticket_Color = show_df['Ticket_Number'].apply(fnx))\n",
    "show_df.head()"
   ]
  },
  {
   "cell_type": "markdown",
   "metadata": {
    "id": "oRbVWV7K8uD-"
   },
   "source": [
    "## Q5) Finding the culprit\n",
    "\n",
    "A helpful function might be the \"iloc\" function. Have a look at: https://pandas.pydata.org/pandas-docs/stable/reference/api/pandas.DataFrame.iloc.html"
   ]
  },
  {
   "cell_type": "markdown",
   "metadata": {
    "id": "8zcamGVmAKOp"
   },
   "source": [
    "**TASK 5.1(10 Points):** Using all the data compiled from before find a person that matches all the features from the profile\n",
    "\n",
    "- put the name of the culprit in a variable called **\"culprit\"**"
   ]
  },
  {
   "cell_type": "code",
   "execution_count": 23,
   "metadata": {
    "id": "atnueiYN_DsX"
   },
   "outputs": [
    {
     "data": {
      "text/html": [
       "<div>\n",
       "<style scoped>\n",
       "    .dataframe tbody tr th:only-of-type {\n",
       "        vertical-align: middle;\n",
       "    }\n",
       "\n",
       "    .dataframe tbody tr th {\n",
       "        vertical-align: top;\n",
       "    }\n",
       "\n",
       "    .dataframe thead th {\n",
       "        text-align: right;\n",
       "    }\n",
       "</style>\n",
       "<table border=\"1\" class=\"dataframe\">\n",
       "  <thead>\n",
       "    <tr style=\"text-align: right;\">\n",
       "      <th></th>\n",
       "      <th>ID</th>\n",
       "      <th>Ticket_Number</th>\n",
       "      <th>Ticket_Color</th>\n",
       "    </tr>\n",
       "  </thead>\n",
       "  <tbody>\n",
       "    <tr>\n",
       "      <th>0</th>\n",
       "      <td>P132</td>\n",
       "      <td>50269975</td>\n",
       "      <td>R</td>\n",
       "    </tr>\n",
       "    <tr>\n",
       "      <th>1</th>\n",
       "      <td>P056</td>\n",
       "      <td>28120732</td>\n",
       "      <td>R</td>\n",
       "    </tr>\n",
       "    <tr>\n",
       "      <th>5</th>\n",
       "      <td>P033</td>\n",
       "      <td>22058855</td>\n",
       "      <td>R</td>\n",
       "    </tr>\n",
       "    <tr>\n",
       "      <th>12</th>\n",
       "      <td>P111</td>\n",
       "      <td>87338906</td>\n",
       "      <td>R</td>\n",
       "    </tr>\n",
       "    <tr>\n",
       "      <th>15</th>\n",
       "      <td>P259</td>\n",
       "      <td>28602637</td>\n",
       "      <td>R</td>\n",
       "    </tr>\n",
       "  </tbody>\n",
       "</table>\n",
       "</div>"
      ],
      "text/plain": [
       "      ID  Ticket_Number Ticket_Color\n",
       "0   P132       50269975            R\n",
       "1   P056       28120732            R\n",
       "5   P033       22058855            R\n",
       "12  P111       87338906            R\n",
       "15  P259       28602637            R"
      ]
     },
     "execution_count": 23,
     "metadata": {},
     "output_type": "execute_result"
    }
   ],
   "source": [
    "# Write your code here\n",
    "redTix = show_df[show_df.Ticket_Color=='R']\n",
    "redTix.head()"
   ]
  },
  {
   "cell_type": "code",
   "execution_count": 24,
   "metadata": {
    "scrolled": true
   },
   "outputs": [],
   "source": [
    "# potential_eye_colors,potential_hair_colors,potential_skin_colors,smallest_height,largest_height,smallest_age,largest_age"
   ]
  },
  {
   "cell_type": "code",
   "execution_count": 25,
   "metadata": {},
   "outputs": [],
   "source": [
    "finDf = profiles_df[(profiles_df.Eye_Color.isin(potential_eye_colors)) & (profiles_df.Eye_Color.isin(potential_hair_colors)) & \n",
    "(profiles_df.Skin_Color.isin(potential_skin_colors)) & (profiles_df.Height>smallest_height) & (profiles_df.Height<largest_height) & \n",
    "(profiles_df.Age>smallest_age)& (profiles_df.Age<largest_age)& (profiles_df.ID.isin(redTix.ID))]"
   ]
  },
  {
   "cell_type": "code",
   "execution_count": 26,
   "metadata": {},
   "outputs": [
    {
     "data": {
      "text/html": [
       "<div>\n",
       "<style scoped>\n",
       "    .dataframe tbody tr th:only-of-type {\n",
       "        vertical-align: middle;\n",
       "    }\n",
       "\n",
       "    .dataframe tbody tr th {\n",
       "        vertical-align: top;\n",
       "    }\n",
       "\n",
       "    .dataframe thead th {\n",
       "        text-align: right;\n",
       "    }\n",
       "</style>\n",
       "<table border=\"1\" class=\"dataframe\">\n",
       "  <thead>\n",
       "    <tr style=\"text-align: right;\">\n",
       "      <th></th>\n",
       "      <th>Name</th>\n",
       "      <th>Statement</th>\n",
       "    </tr>\n",
       "  </thead>\n",
       "  <tbody>\n",
       "    <tr>\n",
       "      <th>45</th>\n",
       "      <td>Ronald Boyer</td>\n",
       "      <td>Stealing? That's not in my nature at all. I re...</td>\n",
       "    </tr>\n",
       "    <tr>\n",
       "      <th>85</th>\n",
       "      <td>Steven Wu</td>\n",
       "      <td>I had back-to-back exams that day. Stealing Dr...</td>\n",
       "    </tr>\n",
       "    <tr>\n",
       "      <th>149</th>\n",
       "      <td>Cassandra Anderson</td>\n",
       "      <td>Why would I need to steal a marker? I have ple...</td>\n",
       "    </tr>\n",
       "    <tr>\n",
       "      <th>156</th>\n",
       "      <td>Patrick Farrell</td>\n",
       "      <td>I had back-to-back exams that day. Stealing Dr...</td>\n",
       "    </tr>\n",
       "    <tr>\n",
       "      <th>168</th>\n",
       "      <td>Pamela Salas</td>\n",
       "      <td>I had back-to-back exams that day. Stealing Dr...</td>\n",
       "    </tr>\n",
       "    <tr>\n",
       "      <th>184</th>\n",
       "      <td>Mr. Christian Boyd</td>\n",
       "      <td>I had back-to-back exams that day. Stealing Dr...</td>\n",
       "    </tr>\n",
       "    <tr>\n",
       "      <th>245</th>\n",
       "      <td>Rachel Alexander</td>\n",
       "      <td>Why would I need to steal a marker? I have ple...</td>\n",
       "    </tr>\n",
       "    <tr>\n",
       "      <th>247</th>\n",
       "      <td>Anne Butler</td>\n",
       "      <td>I was busy with my project presentation in ano...</td>\n",
       "    </tr>\n",
       "    <tr>\n",
       "      <th>269</th>\n",
       "      <td>Jason Hoffman</td>\n",
       "      <td>Why would I need to steal a marker? I have ple...</td>\n",
       "    </tr>\n",
       "    <tr>\n",
       "      <th>278</th>\n",
       "      <td>Jason Fischer</td>\n",
       "      <td>Why would I need to steal a marker? I have ple...</td>\n",
       "    </tr>\n",
       "    <tr>\n",
       "      <th>293</th>\n",
       "      <td>Colleen Hogan</td>\n",
       "      <td>I was busy with my project presentation in ano...</td>\n",
       "    </tr>\n",
       "    <tr>\n",
       "      <th>311</th>\n",
       "      <td>Heather Stone</td>\n",
       "      <td>I was busy with my project presentation in ano...</td>\n",
       "    </tr>\n",
       "    <tr>\n",
       "      <th>316</th>\n",
       "      <td>Abigail Nelson</td>\n",
       "      <td>Why would I need to steal a marker? I have ple...</td>\n",
       "    </tr>\n",
       "    <tr>\n",
       "      <th>322</th>\n",
       "      <td>Amanda Morales</td>\n",
       "      <td>I was busy with my project presentation in ano...</td>\n",
       "    </tr>\n",
       "    <tr>\n",
       "      <th>344</th>\n",
       "      <td>Malik Perez</td>\n",
       "      <td>I had back-to-back exams that day. Stealing Dr...</td>\n",
       "    </tr>\n",
       "    <tr>\n",
       "      <th>363</th>\n",
       "      <td>David Collins</td>\n",
       "      <td>I was busy with my project presentation in ano...</td>\n",
       "    </tr>\n",
       "    <tr>\n",
       "      <th>409</th>\n",
       "      <td>Michael Lee</td>\n",
       "      <td>I had back-to-back exams that day. Stealing Dr...</td>\n",
       "    </tr>\n",
       "    <tr>\n",
       "      <th>429</th>\n",
       "      <td>Paul Mejia DDS</td>\n",
       "      <td>I was busy with my project presentation in ano...</td>\n",
       "    </tr>\n",
       "    <tr>\n",
       "      <th>443</th>\n",
       "      <td>Charles Jones</td>\n",
       "      <td>I had back-to-back exams that day. Stealing Dr...</td>\n",
       "    </tr>\n",
       "    <tr>\n",
       "      <th>453</th>\n",
       "      <td>Stephanie Lam</td>\n",
       "      <td>I was busy with my project presentation in ano...</td>\n",
       "    </tr>\n",
       "    <tr>\n",
       "      <th>468</th>\n",
       "      <td>Ishan Kar</td>\n",
       "      <td>Fardina's Markers were just too dang cool :( I...</td>\n",
       "    </tr>\n",
       "    <tr>\n",
       "      <th>496</th>\n",
       "      <td>Adrian Black</td>\n",
       "      <td>I was busy with my project presentation in ano...</td>\n",
       "    </tr>\n",
       "  </tbody>\n",
       "</table>\n",
       "</div>"
      ],
      "text/plain": [
       "                   Name                                          Statement\n",
       "45         Ronald Boyer  Stealing? That's not in my nature at all. I re...\n",
       "85            Steven Wu  I had back-to-back exams that day. Stealing Dr...\n",
       "149  Cassandra Anderson  Why would I need to steal a marker? I have ple...\n",
       "156     Patrick Farrell  I had back-to-back exams that day. Stealing Dr...\n",
       "168        Pamela Salas  I had back-to-back exams that day. Stealing Dr...\n",
       "184  Mr. Christian Boyd  I had back-to-back exams that day. Stealing Dr...\n",
       "245    Rachel Alexander  Why would I need to steal a marker? I have ple...\n",
       "247         Anne Butler  I was busy with my project presentation in ano...\n",
       "269       Jason Hoffman  Why would I need to steal a marker? I have ple...\n",
       "278       Jason Fischer  Why would I need to steal a marker? I have ple...\n",
       "293       Colleen Hogan  I was busy with my project presentation in ano...\n",
       "311       Heather Stone  I was busy with my project presentation in ano...\n",
       "316      Abigail Nelson  Why would I need to steal a marker? I have ple...\n",
       "322      Amanda Morales  I was busy with my project presentation in ano...\n",
       "344         Malik Perez  I had back-to-back exams that day. Stealing Dr...\n",
       "363       David Collins  I was busy with my project presentation in ano...\n",
       "409         Michael Lee  I had back-to-back exams that day. Stealing Dr...\n",
       "429      Paul Mejia DDS  I was busy with my project presentation in ano...\n",
       "443       Charles Jones  I had back-to-back exams that day. Stealing Dr...\n",
       "453       Stephanie Lam  I was busy with my project presentation in ano...\n",
       "468           Ishan Kar  Fardina's Markers were just too dang cool :( I...\n",
       "496        Adrian Black  I was busy with my project presentation in ano..."
      ]
     },
     "execution_count": 26,
     "metadata": {},
     "output_type": "execute_result"
    }
   ],
   "source": [
    "interrogation_df[interrogation_df.Name.isin(finDf.Name)]"
   ]
  },
  {
   "cell_type": "code",
   "execution_count": 27,
   "metadata": {},
   "outputs": [],
   "source": [
    "culprit = \"Ishan Kar\""
   ]
  },
  {
   "cell_type": "markdown",
   "metadata": {
    "id": "IWNV2rhN_L8d"
   },
   "source": [
    "**TASK 5.2 (2 Points):** Check if your culprit is correct!\n",
    "\n",
    "interrogate your culprit to see if you got the correct person"
   ]
  },
  {
   "cell_type": "code",
   "execution_count": 28,
   "metadata": {
    "id": "mV_RIdbB_T5w"
   },
   "outputs": [
    {
     "data": {
      "text/plain": [
       "\"Fardina's Markers were just too dang cool :( I saw them and I knew I had to have them. >:( arrest me\""
      ]
     },
     "execution_count": 28,
     "metadata": {},
     "output_type": "execute_result"
    }
   ],
   "source": [
    "# Write your code here\n",
    "interrogation_df[interrogation_df.Name==culprit]['Statement'].item()"
   ]
  },
  {
   "cell_type": "code",
   "execution_count": 29,
   "metadata": {},
   "outputs": [],
   "source": [
    "# Ishan Kar was the culprit. He stole the markers."
   ]
  }
 ],
 "metadata": {
  "colab": {
   "provenance": [
    {
     "file_id": "1yV4xI9g_vpNlr9u3BFa54SlGmWl3FKi6",
     "timestamp": 1709098641044
    }
   ]
  },
  "kernelspec": {
   "display_name": "Python 3 (ipykernel)",
   "language": "python",
   "name": "python3"
  },
  "language_info": {
   "codemirror_mode": {
    "name": "ipython",
    "version": 3
   },
   "file_extension": ".py",
   "mimetype": "text/x-python",
   "name": "python",
   "nbconvert_exporter": "python",
   "pygments_lexer": "ipython3",
   "version": "3.9.19"
  }
 },
 "nbformat": 4,
 "nbformat_minor": 4
}
